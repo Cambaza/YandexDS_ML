{
 "cells": [
  {
   "cell_type": "code",
   "execution_count": 3,
   "id": "c6dd709d",
   "metadata": {},
   "outputs": [],
   "source": [
    "import pandas as pd \n",
    "import catboost as ct\n",
    "import xgboost as xg\n",
    "import lightgbm as lg\n",
    "from sklearn import ensemble, model_selection, metrics \n",
    "\n",
    "\n"
   ]
  },
  {
   "cell_type": "code",
   "execution_count": null,
   "id": "34be0075",
   "metadata": {},
   "outputs": [],
   "source": []
  }
 ],
 "metadata": {
  "kernelspec": {
   "display_name": "Python 3.9.7 64-bit ('base': conda)",
   "language": "python",
   "name": "python397jvsc74a57bd0dc6f4a75986d9cb445a60b0b5fb7af2ab995ae49c603620b49c9876ed0e072b0"
  },
  "language_info": {
   "codemirror_mode": {
    "name": "ipython",
    "version": 3
   },
   "file_extension": ".py",
   "mimetype": "text/x-python",
   "name": "python",
   "nbconvert_exporter": "python",
   "pygments_lexer": "ipython3",
   "version": "3.9.7"
  }
 },
 "nbformat": 4,
 "nbformat_minor": 5
}
