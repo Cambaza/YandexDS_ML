{
 "cells": [
  {
   "cell_type": "markdown",
   "metadata": {},
   "source": [
    "# Тематическая модель [Постнауки](http://postnauka.ru)\n",
    "## Peer Review (optional)"
   ]
  },
  {
   "cell_type": "markdown",
   "metadata": {},
   "source": [
    "В этом задании мы применим аппарат тематического моделирования к коллекции текстовых записей видеолекций, скачанных с сайта Постнаука. Мы будем визуализировать модель и создавать прототип тематического навигатора по коллекции. В коллекции 1728 документов, размер словаря - 38467 слов. Слова лемматизированы, то есть приведены к начальной форме, с помощью программы [mystem](https://tech.yandex.ru/mystem/), коллекция сохранена в [формате vowpal wabbit](http://docs.bigartm.org/en/latest/formats.html). В каждой строке до первой черты записана информация о документе (ссылка на страницу с лекцией), после первой черты следует описание документа. Используются две модальности - текстовая (\"text\") и модальность авторов (\"author\"); у каждого документа один автор."
   ]
  },
  {
   "cell_type": "markdown",
   "metadata": {},
   "source": [
    "Для выполнения задания понадобится библиотека [BigARTM](http://docs.bigartm.org). В демонстрации показан пример использования библиотеки версии 0.9.0. В новой версии изменены принципы работы со словарями: они вынесены в отдельный класс (пример в [Release Notes](http://docs.bigartm.org/en/stable/release_notes/python.html)).\n",
    "\n",
    "Спецификации всех функций вы можете смотреть на странице [Python API](http://bigartm.readthedocs.io/en/stable/python_interface.html)."
   ]
  },
  {
   "cell_type": "code",
   "execution_count": 1,
   "metadata": {},
   "outputs": [],
   "source": [
    "import artm"
   ]
  },
  {
   "cell_type": "code",
   "execution_count": 2,
   "metadata": {},
   "outputs": [],
   "source": [
    "from matplotlib import pyplot as plt\n",
    "import seaborn\n",
    "%matplotlib inline\n",
    "seaborn.set_style(\"whitegrid\", {'axes.grid' : False})"
   ]
  },
  {
   "cell_type": "code",
   "execution_count": 3,
   "metadata": {},
   "outputs": [],
   "source": [
    "import numpy as np\n",
    "import pandas as pd"
   ]
  },
  {
   "cell_type": "markdown",
   "metadata": {},
   "source": [
    "##### Считывание данных"
   ]
  },
  {
   "cell_type": "markdown",
   "metadata": {},
   "source": [
    "Создайте объект класса artm.BatchVectorizer, который будет ссылаться на директорию с пакетами данных (батчами). Чтобы библиотека могла преобразовать текстовый файл в батчи, создайте пустую директорию и укажите ее название в параметре target_folder. Размер батча для небольших коллекций (как наша) не важен, вы можете указать любой."
   ]
  },
  {
   "cell_type": "code",
   "execution_count": 4,
   "metadata": {},
   "outputs": [],
   "source": [
    "# Ваш код\n",
    "batch_vectorizer = artm.BatchVectorizer(data_path=\"lectures.txt\", data_format=\"vowpal_wabbit\", \n",
    "                                        target_folder=\"lectures_batches\", \n",
    "                                       batch_size=100)"
   ]
  },
  {
   "cell_type": "markdown",
   "metadata": {},
   "source": [
    "##### Инициализация модели"
   ]
  },
  {
   "cell_type": "markdown",
   "metadata": {},
   "source": [
    "Создайте объект класса artm.Model с 30 темами, именами тем, указанными ниже и единичными весами обеих модальностей. Количество тем выбрано не очень большим, чтобы вам было удобнее работать с темами. На этой коллекции можно строить и большее число тем, тогда они будут более узко специализированы."
   ]
  },
  {
   "cell_type": "code",
   "execution_count": 5,
   "metadata": {},
   "outputs": [],
   "source": [
    "T = 30   # количество тем\n",
    "topic_names=[\"sbj\"+str(i) for i in range(T-1)]+[\"bcg\"]\n",
    "# Ваш код\n",
    "model_artm = artm.ARTM(num_topics=T, topic_names=topic_names, seed=1, cache_theta=True)\n",
    "\n"
   ]
  },
  {
   "cell_type": "markdown",
   "metadata": {},
   "source": [
    "Мы будем строить 29 предметных тем и одну фоновую. \n",
    "\n",
    "Соберите словарь с помощью метода gather_dictionary и инициализируйте модель, указав random_seed=1. Обязательно укажите свое название словаря, оно понадобится при добавлении регуляризаторов."
   ]
  },
  {
   "cell_type": "code",
   "execution_count": 6,
   "metadata": {},
   "outputs": [
    {
     "data": {
      "text/plain": [
       "'0.9.2'"
      ]
     },
     "execution_count": 6,
     "metadata": {},
     "output_type": "execute_result"
    }
   ],
   "source": [
    "artm.version() ##"
   ]
  },
  {
   "cell_type": "code",
   "execution_count": 7,
   "metadata": {},
   "outputs": [],
   "source": [
    "# Ваш код\n",
    "dictionary = artm.Dictionary()\n",
    "dictionary.gather(data_path=batch_vectorizer.data_path)"
   ]
  },
  {
   "cell_type": "code",
   "execution_count": 8,
   "metadata": {},
   "outputs": [],
   "source": [
    "model_artm.initialize(dictionary=dictionary)#seed defined previously"
   ]
  },
  {
   "cell_type": "markdown",
   "metadata": {},
   "source": [
    "##### Добавление score"
   ]
  },
  {
   "cell_type": "markdown",
   "metadata": {},
   "source": [
    "Создайте два измерителя качества artm.TopTokensScore - по одному для каждой модальности; количество токенов 15. Названия для score придумайте самостоятельно."
   ]
  },
  {
   "cell_type": "code",
   "execution_count": 9,
   "metadata": {},
   "outputs": [],
   "source": [
    "# Ваш код\n",
    "model_artm.scores.add(artm.TopTokensScore(name=\"top_text\", num_tokens=15, class_id=\"text\"))\n",
    "model_artm.scores.add(artm.TopTokensScore(name=\"top_author\", num_tokens=15, class_id=\"author\"))"
   ]
  },
  {
   "cell_type": "markdown",
   "metadata": {},
   "source": [
    "##### Построение модели"
   ]
  },
  {
   "cell_type": "markdown",
   "metadata": {},
   "source": [
    "Мы будем строить модель в два этапа: сначала добавим сглаживающий регуляризатор фоновой темы и настроим параметры модели, затем - добавим разреживающий регуляризатор предметрых тем и выполним еще несколько итераций. Так мы сможем получить наиболее чистые от фоновых слов предметные темы. Сглаживающий и разреживающий регуляризаторы задаются одним и тем же классом artm.SmoothSparsePhiRegularizer: если коэффициент tau положительный, то регуляризатор будет сглаживающий, если отрицательный - разреживающий.\n",
    "\n",
    "Если вы хотите подробнее разобраться, как выполняется регуляризация тематической модели в BigARTM, вы можете прочитать [статью](https://s3-eu-west-1.amazonaws.com/artm/voron-potap14artm-rus.pdf), раздел 4."
   ]
  },
  {
   "cell_type": "markdown",
   "metadata": {},
   "source": [
    "Добавьте сглаживающий регуляризатор с коэффициентом tau = 1e5, указав название своего словаря в dictionary, модальность текста в class_ids и тему \"bcg\" в topic_names."
   ]
  },
  {
   "cell_type": "code",
   "execution_count": 10,
   "metadata": {},
   "outputs": [],
   "source": [
    "# Ваш код\n",
    "model_artm.regularizers.add(artm.SmoothSparsePhiRegularizer(name='SmoothPhi', tau=1e5, dictionary=dictionary, \n",
    "                                                           class_ids=\"text\", topic_names='bcg'))\n",
    "\n"
   ]
  },
  {
   "cell_type": "markdown",
   "metadata": {},
   "source": [
    "Выполните 30 итераций по коллекции (num_collection_passes), количество внутренних итераций установите равным 1. Используйте метод fit_offline модели."
   ]
  },
  {
   "cell_type": "code",
   "execution_count": 11,
   "metadata": {},
   "outputs": [],
   "source": [
    "# Ваш код\n",
    "model_artm.fit_offline(batch_vectorizer=batch_vectorizer, num_collection_passes=30)\n"
   ]
  },
  {
   "cell_type": "markdown",
   "metadata": {},
   "source": [
    "Добавьте разреживающий регуляризатор с коэффициентом tau=-1e5, указав название своего словаря, модальность текста в class_ids и все темы \"sbjX\" в topic_names."
   ]
  },
  {
   "cell_type": "code",
   "execution_count": 12,
   "metadata": {},
   "outputs": [],
   "source": [
    "# Ваш код\n",
    "model_artm.regularizers.add(artm.SmoothSparsePhiRegularizer(name='SparsePhi', tau=-1e5, dictionary=dictionary, \n",
    "                                                           class_ids=\"text\", topic_names=topic_names[:-1]))"
   ]
  },
  {
   "cell_type": "markdown",
   "metadata": {},
   "source": [
    "Выполните еще 15 проходов по коллекции."
   ]
  },
  {
   "cell_type": "code",
   "execution_count": 13,
   "metadata": {},
   "outputs": [],
   "source": [
    "# Ваш код\n",
    "model_artm.fit_offline(batch_vectorizer=batch_vectorizer, num_collection_passes=15)"
   ]
  },
  {
   "cell_type": "markdown",
   "metadata": {},
   "source": [
    "##### Интерпретация тем"
   ]
  },
  {
   "cell_type": "markdown",
   "metadata": {},
   "source": [
    "Используя созданные score, выведите топы слов и топы авторов в темах. Удобнее всего выводить топ слов каждой темы с новой строки, указывая название темы в начале строки, и аналогично с авторами."
   ]
  },
  {
   "cell_type": "code",
   "execution_count": 21,
   "metadata": {},
   "outputs": [
    {
     "name": "stdout",
     "output_type": "stream",
     "text": [
      "sbj0: \n",
      "частица, энергия, взаимодействие, физика, кварк, симметрия, элементарный, нейтрино, стандартный, материя, заряд, протон, масса, бозон, ускоритель\n",
      "Дмитрий_Казаков, Михаил_Данилов, Сергей_Майоров, Виктор_Брагута, Павел_Пахлов, Лев_Дудко, Сергей_Троицкий, Анатолий_Лиходед, Лев_Беклемишев, Эдуард_Боос, Игорь_Волобуев, Валерий_Рубаков, Дэвид_Гросс, Роман_Мизюк, Сергей_Кетов\n",
      "sbj1: \n",
      "материал, температура, структура, химический, вещество, соединение, поверхность, свойство, химия, молекула, давление, углерод, сверхпроводимость, металл, полимер\n",
      "Артем_Оганов, Валерий_Фокин, Дмитрий_Паращук, Валентин_Ненайденко, Дмитрий_Гольберг, Владимир_Пудалов, Иван_Сорокин, Евгений_Гудилин, Валентин_Крапошин, Вадим_Бражкин, Сергей_Морозов, Евгений_Антипов, Владимир_Комлев, Пётр_Образцов, Алексей_Хохлов\n",
      "sbj2: \n",
      "политический, государство, власть, царь, партия, церковь, народ, правитель, император, средневековый, враг, сага, шмитт, государь, папа\n",
      "Александр_Марей, Кирилл_Мартынов, Алексей_Юдин, Михаил_Бойцов, Александр_Павлов, Фёдор_Успенский, Иван_Ладынин, Дина_Гусейнова, Рафаэль_Арутюнян, Ольга_Тогоева, Александр_Воеводский, Юрий_Рогулёв, Владимир_Малахов, Владимир_Петрухин, Руслан_Хестанов\n",
      "sbj3: \n",
      "знание, социология, социологический, познание, школа, предмет, социолог, факультет, виктор, аргумент, концепт, кафедра, логика, высказывание, прикладной\n",
      "Виктор_Вахштайн, Андрей_Лукашов, Максим_Демин, Татьяна_Клячко, Борис_Миркин, Алексей_Котов, Дмитрий_Балалыкин, Сергей_Зенкин, Татьяна_Котова, Максим_Кронгауз, Владимир_Миронов, Ян_Левченко, Алексей_Рубцов, Александр_Филиппов, Михаил_Маяцкий\n",
      "sbj4: \n",
      "мозг, нейрон, мышление, предложение, категория, чтение, взрослый, синтаксический, синтаксис, лицо, обезьяна, детство, шимпанзе, библиотека, игрушка\n",
      "Филипп_Хайтович, Владимир_Спиридонов, Надежда_Онипенко, Александр_Каплан, Ольга_Сварник, Александр_Лазуткин, Екатерина_Лютикова, Зоя_Зорина, Вера_Подлесская, Жанна_Резникова, Екатерина_Болтунова, Митчел_Резник, Ирина_Секерина, Мария_Полински, Дарья_Радченко\n",
      "sbj5: \n",
      "бог, миф, греческий, герой, мифология, религия, душа, ритуал, грек, море, мифологический, гусейнов, божество, культ, шумерский\n",
      "Гасан_Гусейнов, Кирилл_Еськов, Владимир_Емельянов, Андрей_Иванцов, Галина_Зеленина, Аскольд_Иванчик, Варвара_Добровольская, Олег_Ауров, Владимир_Петрухин, Светлана_Евграфова, Ольга_Тогоева, Александр_Воеводский, Андрей_Журавлев, Григорий_Бондаренко, Сергей_Неклюдов\n",
      "sbj6: \n",
      "русский, слово, текст, словарь, перевод, корпус, гласный, согласный, говор, немецкий, древнерусский, академия, цитата, произносить, издание\n",
      "Игорь_Исаев, Александр_Пиперски, Борис_Морозов, Илья_Иткин, Павел_Руднев, Дмитрий_Добровольский, Леонид_Иомдин, Алексей_Бартошевич, Анастасия_Лопухина, Илья_Виньковецкий, Петр_Дружинин, Алина_Бодрова, Борис_Иомдин, Анатолий_Гершман, Александр_Ватлин\n",
      "sbj7: \n",
      "раса, трудность, африка, праздник, шаман, станислав, нос, америка, монголоид, дробышевский, остров, тест, шаманский, индеец, задание\n",
      "Станислав_Дробышевский, Александр_Поддьяков, Михаил_Пантелеев, Екатерина_Ларионова, Елена_Браун, Мария_Медникова, Валентина_Харитонова, Дмитрий_Жуков, Григорий_Юдин, Марк_Харрисон, Александр_Воеводский, Михаил_Алексеевский, Андрей_Летаров, Андрей_Коротаев\n",
      "sbj8: \n",
      "право, римский, правовой, юрист, суд, юридический, должник, собственность, обязательство, владение, собственник, исполнение, рим, имущество, кредитор\n",
      "Дмитрий_Дождев, Александр_Марей, Татьяна_Бобровникова, Денис_Новак, Дмитрий_Полдников, Фёдор_Успенский, Анна_Севортьян, Виктор_Задков, Андрей_Глазовский, Ольга_Вайнштейн, ПостНаука, Виктор_Полтерович, Алексей_Шмелев, Павел_Нерлер_(Полян), Сет_Ллойд\n",
      "sbj9: \n",
      "болезнь, заболевание, пациент, лечение, врач, медицина, боль, препарат, медицинский, лекарство, иммунный, сон, операция, опухоль, сердце\n",
      "Егор_Задереев, Алексей_Алексеев, Ярослав_Ашихмин, Олег_Медведев, Юрий_Яшков, Александр_Васильев, Сергей_Румянцев, Вера_Ижевская, Алексей_Чжао, Петр_Федичев, Эмери_Браун, Марина_Бутовская, Леонид_Марголис, Александр_Петренко, Денис_Сивков\n",
      "sbj10: \n",
      "животное, робот, вода, растение, организм, микроорганизм, рецептор, биологический, кислород, метан, мембрана, океан, микроб, мышца, популяция\n",
      "Елизавета_Бонч-Осмоловская, Дмитрий_Лось, Алла_Ножевникова, Александр_Марков, Николай_Пименов, Дмитрий_Громов, Светлана_Дедыш, Сергей_Наугольных, Светлана_Боринская, Алексей_Кондрашов, Зоригто_Намсараев, Дмитрий_Дорохов, Юрий_Панчин, Алексей_Северцов, Мария_Добровольская\n",
      "sbj11: \n",
      "память, психология, восприятие, психологический, сознание, когнитивный, психолог, внимание, эмоциональный, зрительный, ощущение, активность, нервный, психический, запоминать\n",
      "Мария_Фаликман, Кирилл_Титаев, Константин_Анохин, Павел_Балабан, Игорь_Уточкин, Максим_Таланов, Алексей_Созинов, Мира_Бергельсон, Виталий_Дунин-Барковский, Ольга_Сварник, Максим_Киселев, Сергей_Саложин, Александр_Тхостов, Владимир_Спиридонов, Евгений_Николаев\n",
      "sbj12: \n",
      "германия, университет, русь, святой, князь, немецкий, андрей, византийский, апостол, польский, илья, византия, иван, федор, повесть\n",
      "Илья_Женин, Фёдор_Успенский, Кирилл_Кочегаров, Игорь_Данилевский, Сергей_Серёгичев, Елена_Вишленкова, Елена_Уханова, Андрей_Виноградов, Александр_Лаврентьев, Андрей_Кофман, Александр_Дмитриев, Ахмет_Ярлыкапов, Владимир_Петрухин, Екатерина_Лямина, Елена_Браун\n",
      "sbj13: \n",
      "город, социальный, общество, наука, исторический, история, рассказывать, понятие, кандидат, политика, культурный, российский, каков, городской, искусство\n",
      "Виталий_Куренной, Елена_Брызгалина, Дмитрий_Рогозин, Павел_Уваров, Владимир_Малахов, Ольга_Малинова, Ольга_Артёмова, Александр_Гофман, Александр_Жаворонков, ПостНаука, Леонид_Григорьев, Наталья_Смолянская, Пётр_Турчин, Владимир_Бобровников, Сергей_Соколовский\n",
      "sbj14: \n",
      "галактика, планета, земля, черный, дыра, газ, масса, диск, атмосфера, солнце, солнечный, скопление, расстояние, спутник, вокруг\n",
      "Сергей_Попов, Алексей_Расторгуев, Ольга_Сильченко, Владимир_Сурдин, Дмитрий_Вибе, Дмитрий_Титов, Владимир_Кузнецов, Александр_Шацкий, Наталья_Новикова, Роман_Рафиков, Сергей_Писарев, Андрей_Глазовский, Сергей_Таскаев, Эмиль_Ахмедов, Зоригто_Намсараев\n",
      "sbj15: \n",
      "решение, экономический, экономика, деньги, компания, принятие, оценка, критерий, рынок, выбор, экономист, ценность, финансовый, банк, поведенческий\n",
      "Фуад_Алескеров, Алексей_Белянин, Сергей_Бобылев, Александр_Аузан, Владимир_Гимпельсон, Сергей_Афонцев, Антон_Суворов, Ксения_Паниди, Татьяна_Клячко, Василий_Ключарев, Александр_Тормасов, Константин_Воронцов, Эрик_Мэскин, Джу_Йонг_Ли, Сергей_Зыков\n",
      "sbj16: \n",
      "ребенок, женщина, поведение, семья, эмоция, личность, мужчина, коллективный, конфликт, мать, родитель, стратегия, личностный, метро, идентичность\n",
      "Михаил_Соколов, Катерина_Поливанова, Мария_Падун, Ольга_Гулевич, Ольга_Исупова, Наталья_Харламенкова, Наталья_Кисельникова, Татьяна_Котова, Максим_Киселев, Екатерина_Щербакова, Махзарин_Банаджи, Василий_Ключарев, Дмитрий_Куракин, Арсений_Хитров, Александр_Войскунский\n",
      "sbj17: \n",
      "задача, данные, компьютер, сеть, программа, компьютерный, алгоритм, интеллект, искусственный, интернет, вычислительный, обучение, пользователь, ошибка, разработка\n",
      "Михаил_Бурцев, Станислав_Протасов, Александр_Сафонов, Дмитрий_Ветров, Илья_Шкредов, Александр_Беленький, Руслан_Смелянский, Ольга_Брилева, Александр_Дьяконов, Станислав_Клименко, Сезар_Идальго, Даниэль_Сельва, Мануэль_Маццара, Евгений_Зуев, Григорий_Кабатянский\n",
      "sbj18: \n",
      "территория, империя, восток, древний, письменность, китай, памятник, северный, восточный, китайский, население, южный, регион, письмо, народ\n",
      "Дмитрий_Беляев, Марк_Ульянов, Георгий_Старостин, Анна_Дыбо, Дмитрий_Худяков, Сергей_Арутюнов, Алексей_Лебедев, Наталья_Зубаревич, Виктория_Битюкова, Евгений_Рогожин, Галина_Ершова, Павел_Плечов, Александр_Мещеряков, Григорий_Бондаренко, Елена_Голубева\n",
      "sbj19: \n",
      "клетка, ген, днк, белок, организм, генетический, молекула, геном, бактерия, рнк, биологический, мутация, молекулярный, ткань, вирус\n",
      "Евгений_Шеваль, Константин_Северинов, Максим_Франк-Каменецкий, Михаил_Гельфанд, Сергей_Киселев, Антон_Буздин, Виталий_Кушниров, Петр_Федичев, Сергей_Науменко, Андрей_Летаров, Владимир_Муронец, Александр_Апт, Роман_Ефремов, Сергей_Саложин, Александр_Габибов\n",
      "sbj20: \n",
      "квантовый, поле, атом, магнитный, электрон, свет, волна, фотон, эффект, измерение, оптический, ток, частота, жидкость, импульс\n",
      "Владимир_Белотелов, Алексей_Рубцов, Алексей_Акимов, Михаил_Киселев, Андрей_Савельев-Трофимов, Алексей_Желтиков, Владимир_Мележик, Сергей_Демокритов, Наталья_Берлофф, Александр_Львовский, Юджин_Ползик, Владимир_Шалаев, Владимир_Польшаков, Виталий_Пальчиков, Сергей_Кулик\n",
      "sbj21: \n"
     ]
    },
    {
     "name": "stdout",
     "output_type": "stream",
     "text": [
      "культура, философия, философский, литература, философ, литературный, произведение, роман, автор, платон, поэт, анекдот, писатель, сочинение, мысль\n",
      "Алексей_Козырев, Иван_Болдырев, Олег_Лекманов, Александр_Доброхотов, Петр_Резвых, Александра_Архипова, Мария_Неклюдова, Алексей_Руткевич, Наталья_Ростиславлева, Сергей_Зенкин, Ольга_Вайнштейн, Владимир_Кантор, Дмитрий_Иванов, Андрей_Кофман, Арсений_Хитров\n",
      "sbj22: \n",
      "революция, король, страна, государственный, французский, реформа, петр, франция, против, сталин, историк, крестьянин, террор, диктатура, смерть\n",
      "Олег_Хлевнюк, Дмитрий_Бовыкин, Кирилл_Соловьев, Ольга_Эдельман, Игорь_Курукин, Олег_Мельник, Павел_Уваров, Алина_Бодрова, Екатерина_Лямина, Ольга_Вайнштейн, Дмитрий_Дагаев, Борис_Колоницкий, Александр_Лаврентьев, Александр_Каменский, Александр_Марей\n",
      "sbj23: \n",
      "война, россия, советский, мировой, военный, союз, гражданский, песня, армия, обряд, самка, ссср, самец, эмиграция, большевик\n",
      "Ирина_Бёме, Анна_Соколова, Вера_Мильчина, Олег_Будницкий, Варвара_Веденина, Василий_Жарков, Борис_Колоницкий, Илья_Кукулин, Людмила_Новикова, Алексей_Киличенков, Руслан_Хестанов, Олег_Ауров, Михаил_Бойцов, Марк_Харрисон, Архат_Абжанов\n",
      "sbj24: \n",
      "язык, христианский, лингвист, христианство, глагол, лингвистика, языковой, христианин, грамматика, филологический, арабский, падеж, английский, лингвистический, сирийский\n",
      "Алексей_Муравьёв, Владимир_Плунгян, Олег_Воскобойников, Андрей_Кибрик, Кирилл_Бабаев, Мария_Штейнман, Петр_Аркадьев, Светлана_Бурлак, Владимир_Беликов, Нина_Сумбатова, Максим_Кронгауз, Ирина_Левонтина, Александр_Пиперски, Екатерина_Протасова, Алексей_Касьян\n",
      "sbj25: \n",
      "теория, пространство, математический, уравнение, матрица, математика, описывать, описание, эйнштейн, относительность, линейный, теоретический, геометрия, механика, математик\n",
      "Эмиль_Ахмедов, Илья_Щуров, Елена_Гороховская, Алексей_Семихатов, Иван_Оселедец, Андрей_Лосев, Армен_Сергеев, Павел_Лушников, Владимир_Редько, Игорь_Петров, Владимир_Каганский, Игорь_Волобуев, Александра_Скрипченко, Андрей_Коротаев, Сергей_Нечаев\n",
      "sbj26: \n",
      "театр, костюм, актер, пьеса, театральный, сцена, фильтр, скелет, телесный, зритель, термоэлектрический, порнография, фрейм, одежда, воображение\n",
      "Раиса_Кирсанова, Сергей_Пекарский, Григорий_Крейдлин, Светлана_Евграфова, Борис_Миркин, Андрей_Журавлев, Махзарин_Банаджи, Денис_Загарин, Андрей_Шевельков, Екатерина_Протасова, Игорь_Чубаров, Жанна_Резникова, Мария_Фаликман, Александр_Пиперски, Алексей_Чжао\n",
      "sbj27: \n",
      "звезда, вселенная, излучение, скорость, объект, телескоп, космический, белый, гравитационный, нейтронный, карлик, вещество, темный, спектр, измерять\n",
      "Сергей_Попов, Анатолий_Засов, Валерий_Сулейманов, Михаил_Ревнивцев, Дмитрий_Горбунов, Олег_Верходанов, Алексей_Старобинский, Валерий_Рубаков, Дмитрий_Вибе, Макс_Тегмарк, Сергей_Блинников, Александр_Потехин, Антон_Бирюков, Лайман_Пейдж, Уолтер_Льюин\n",
      "sbj28: \n",
      "фильм, свобода, кино, кинематограф, культовый, климат, глобальный, бердяев, вечный, жанр, ледник, тема, классика, климатический, радиация\n",
      "Александр_Павлов, Ивар_Максутов, Светлана_Баньковская, Николай_Плотников, Павел_Соколов, Татьяна_Смоктунович, Елизавета_Ривкина, Александр_Кислов, Михаил_Эпштейн, Александр_Парфенов, Юлия_Краус, Владимир_Каганский, Герберт_Хупперт, Ольга_Столярова, Ольга_Вайнштейн\n",
      "bcg: \n",
      "быть, что, это, который, этот, как, они, мочь, такой, очень, для, человек, или, тот, один\n",
      "Сергей_Неклюдов, Александр_Филиппов, Михаил_Алексеевский, Михаил_Маяцкий, Алексей_Миллер, ПостНаука, Андрей_Зорин, Ян_Левченко, Алексей_Маслов, Андрей_Цатурян, Анатолий_Баранов, Оксана_Запорожец, Татьяна_Ребеко, Георгий_Базыкин, Николай_Дронин\n"
     ]
    }
   ],
   "source": [
    "# Ваш код\n",
    "for topic_name in model_artm.topic_names:\n",
    "    print( topic_name + ': ',)\n",
    "    print(', '.join(model_artm.score_tracker[\"top_text\"].last_tokens[topic_name]),)\n",
    "    print(', '.join(model_artm.score_tracker[\"top_author\"].last_tokens[topic_name]),)"
   ]
  },
  {
   "cell_type": "markdown",
   "metadata": {},
   "source": [
    "В последней теме \"bcg\" должны находиться общеупотребительные слова.\n",
    "\n",
    "Важный шаг в работе с тематической моделью, когда речь идет о визуализации или создании тематического навигатора, это именование тем. Понять, о чем каждая тема, можно по списку ее топовых слов. Например, тему\n",
    "    \n",
    "    частица взаимодействие физика кварк симметрия элементарный нейтрино стандартный материя протон бозон заряд масса ускоритель слабый\n",
    "    \n",
    "можно назвать \"Физика элементарных частиц\". \n",
    "\n",
    "Дайте названия 29 предметным темам. Если вы не знаете, как назвать тему, назовите ее первым встретившимся в ней существительным, хотя при таком подходе навигатор будет менее информативным. Из названий тем составьте список из 29 строк и запишите го в переменную sbj_topic_labels. В переменной topic_labels будут храниться названия всех тем, включая фоновую."
   ]
  },
  {
   "cell_type": "code",
   "execution_count": 22,
   "metadata": {},
   "outputs": [],
   "source": [
    "sbj_topic_labels = ['Физика элементарных частиц', 'химия', 'Политология',\n",
    "                'социология','нейробиология','мифология',\n",
    "                    'лингвистика','антропология','право',\n",
    "                    'медицина','биология','психология',\n",
    "                    'история','наука', 'астрономия',\n",
    "                    'экономика','семейная психология','информатика',\n",
    "                    'востоковедение','микробиология','квантовая физика',\n",
    "                    'литература','политика','истрория ссср',\n",
    "                    'филология', 'математика','искусство',\n",
    "                    'астрофизика','культура']   # запишите названия тем в список\n",
    "topic_labels = sbj_topic_labels + [\"Фоновая тема\"]"
   ]
  },
  {
   "cell_type": "markdown",
   "metadata": {},
   "source": [
    "##### Анализ тем"
   ]
  },
  {
   "cell_type": "markdown",
   "metadata": {},
   "source": [
    "Далее мы будем работать с распределениями тем в документах (матрица $\\Theta$) и авторов в темах (одна из двух матриц $\\Phi$, соответствующая модальности авторов). \n",
    "Создайте переменные, содержащие две этих матрицы, с помощью методов get_phi и get_theta модели. Назовите переменные theta и phi_a. Выведите формы обеих матриц, чтобы понять, по каким осям стоят темы."
   ]
  },
  {
   "cell_type": "code",
   "execution_count": 23,
   "metadata": {},
   "outputs": [],
   "source": [
    "model_artm.theta_columns_naming = \"title\" # включает именование столбцов Theta их названиями-ссылками, а не внутренними id \n",
    "# Ваш код\n",
    "#artm.ARTM.cache_theta = True\n",
    "phi_a = model_artm.get_phi(class_ids=\"author\")\n",
    "theta = model_artm.get_theta()\n",
    "\n"
   ]
  },
  {
   "cell_type": "code",
   "execution_count": 24,
   "metadata": {},
   "outputs": [
    {
     "name": "stdout",
     "output_type": "stream",
     "text": [
      "(539, 30)\n",
      "(30, 1728)\n"
     ]
    }
   ],
   "source": [
    "print(phi_a.shape)\n",
    "print(theta.shape)"
   ]
  },
  {
   "cell_type": "markdown",
   "metadata": {},
   "source": [
    "Визуализируем фрагмент матрицы $\\Theta$ - первые 100 документов (это наиболее простой способ визуально оценить, как темы распределяются в документах). С помощью метода seaborn.heatmap выведите фрагмент theta как изображение. Рекомендация: создайте фигуру pyplot размера (20, 10)."
   ]
  },
  {
   "cell_type": "code",
   "execution_count": 31,
   "metadata": {},
   "outputs": [
    {
     "data": {
      "text/plain": [
       "<AxesSubplot:>"
      ]
     },
     "execution_count": 31,
     "metadata": {},
     "output_type": "execute_result"
    },
    {
     "data": {
      "image/png": "[encoded data removed]",
      "text/plain": [
       "<Figure size 1440x720 with 2 Axes>"
      ]
     },
     "metadata": {},
     "output_type": "display_data"
    }
   ],
   "source": [
    "fig= plt.figure(figsize=(20,10))\n",
    "seaborn.heatmap(theta.iloc[:, 0:100])"
   ]
  },
  {
   "cell_type": "markdown",
   "metadata": {},
   "source": [
    "Вы должны увидеть, что фоновая тема имеет большую вероятность в почти каждом документе, и это логично. Кроме того, есть еще одна тема, которая чаще других встречается в документах. Судя по всему, это тема содержит много слов по науку в целом, а каждый документ (видео) в нашей коллекции связан с наукой. Можно (необязательно) дать этой теме название \"Наука\".\n",
    "\n",
    "Помимо этих двух тем, фоновой и общенаучной, каждый документ характеризуется малым числом других тем."
   ]
  },
  {
   "cell_type": "markdown",
   "metadata": {},
   "source": [
    "Оценим $p(t)$ - долю каждой темы во всей коллекции. По формуле полной вероятности вычислять эти величины нужно как\n",
    "$p(t) = \\sum_d p(t|d) p(d)$. Согласно вероятностной модели, $p(d)$ пропорционально длине документа d. Поступим проще: будем полагать, что все документы равновероятны. Тогда оценить $p(t)$ можно, просуммировав $p(t|d)$ по всем документам, а затем разделив полученный вектор на его сумму. \n",
    "\n",
    "Создайте переменную-датафрейм с T строками, индексированными названиями тем, и 1 столбцом, содержащим оценки $p(t)$. Выведите датафрейм на печать."
   ]
  },
  {
   "cell_type": "code",
   "execution_count": 47,
   "metadata": {},
   "outputs": [],
   "source": [
    "probs = pd.DataFrame(theta.mean(axis=1), columns=['prob'])"
   ]
  },
  {
   "cell_type": "code",
   "execution_count": 49,
   "metadata": {},
   "outputs": [],
   "source": [
    "probs['name']=topic_labels"
   ]
  },
  {
   "cell_type": "code",
   "execution_count": 52,
   "metadata": {},
   "outputs": [
    {
     "data": {
      "text/html": [
       "<div>\n",
       "<style scoped>\n",
       "    .dataframe tbody tr th:only-of-type {\n",
       "        vertical-align: middle;\n",
       "    }\n",
       "\n",
       "    .dataframe tbody tr th {\n",
       "        vertical-align: top;\n",
       "    }\n",
       "\n",
       "    .dataframe thead th {\n",
       "        text-align: right;\n",
       "    }\n",
       "</style>\n",
       "<table border=\"1\" class=\"dataframe\">\n",
       "  <thead>\n",
       "    <tr style=\"text-align: right;\">\n",
       "      <th></th>\n",
       "      <th>prob</th>\n",
       "      <th>name</th>\n",
       "    </tr>\n",
       "  </thead>\n",
       "  <tbody>\n",
       "    <tr>\n",
       "      <th>bcg</th>\n",
       "      <td>0.678461</td>\n",
       "      <td>Фоновая тема</td>\n",
       "    </tr>\n",
       "    <tr>\n",
       "      <th>sbj13</th>\n",
       "      <td>0.041787</td>\n",
       "      <td>наука</td>\n",
       "    </tr>\n",
       "    <tr>\n",
       "      <th>sbj19</th>\n",
       "      <td>0.021651</td>\n",
       "      <td>микробиология</td>\n",
       "    </tr>\n",
       "    <tr>\n",
       "      <th>sbj20</th>\n",
       "      <td>0.015673</td>\n",
       "      <td>квантовая физика</td>\n",
       "    </tr>\n",
       "    <tr>\n",
       "      <th>sbj21</th>\n",
       "      <td>0.014534</td>\n",
       "      <td>литература</td>\n",
       "    </tr>\n",
       "    <tr>\n",
       "      <th>sbj10</th>\n",
       "      <td>0.014469</td>\n",
       "      <td>биология</td>\n",
       "    </tr>\n",
       "    <tr>\n",
       "      <th>sbj1</th>\n",
       "      <td>0.013312</td>\n",
       "      <td>химия</td>\n",
       "    </tr>\n",
       "    <tr>\n",
       "      <th>sbj24</th>\n",
       "      <td>0.013265</td>\n",
       "      <td>филология</td>\n",
       "    </tr>\n",
       "    <tr>\n",
       "      <th>sbj18</th>\n",
       "      <td>0.013185</td>\n",
       "      <td>востоковедение</td>\n",
       "    </tr>\n",
       "    <tr>\n",
       "      <th>sbj27</th>\n",
       "      <td>0.011510</td>\n",
       "      <td>астрофизика</td>\n",
       "    </tr>\n",
       "    <tr>\n",
       "      <th>sbj14</th>\n",
       "      <td>0.011454</td>\n",
       "      <td>астрономия</td>\n",
       "    </tr>\n",
       "    <tr>\n",
       "      <th>sbj9</th>\n",
       "      <td>0.011263</td>\n",
       "      <td>медицина</td>\n",
       "    </tr>\n",
       "    <tr>\n",
       "      <th>sbj2</th>\n",
       "      <td>0.010887</td>\n",
       "      <td>Политология</td>\n",
       "    </tr>\n",
       "    <tr>\n",
       "      <th>sbj0</th>\n",
       "      <td>0.010022</td>\n",
       "      <td>Физика элементарных частиц</td>\n",
       "    </tr>\n",
       "    <tr>\n",
       "      <th>sbj17</th>\n",
       "      <td>0.009913</td>\n",
       "      <td>информатика</td>\n",
       "    </tr>\n",
       "    <tr>\n",
       "      <th>sbj12</th>\n",
       "      <td>0.009874</td>\n",
       "      <td>история</td>\n",
       "    </tr>\n",
       "    <tr>\n",
       "      <th>sbj25</th>\n",
       "      <td>0.009220</td>\n",
       "      <td>математика</td>\n",
       "    </tr>\n",
       "    <tr>\n",
       "      <th>sbj15</th>\n",
       "      <td>0.009198</td>\n",
       "      <td>экономика</td>\n",
       "    </tr>\n",
       "    <tr>\n",
       "      <th>sbj22</th>\n",
       "      <td>0.008877</td>\n",
       "      <td>политика</td>\n",
       "    </tr>\n",
       "    <tr>\n",
       "      <th>sbj5</th>\n",
       "      <td>0.008135</td>\n",
       "      <td>мифология</td>\n",
       "    </tr>\n",
       "    <tr>\n",
       "      <th>sbj16</th>\n",
       "      <td>0.008119</td>\n",
       "      <td>семейная психология</td>\n",
       "    </tr>\n",
       "    <tr>\n",
       "      <th>sbj6</th>\n",
       "      <td>0.007617</td>\n",
       "      <td>лингвистика</td>\n",
       "    </tr>\n",
       "    <tr>\n",
       "      <th>sbj8</th>\n",
       "      <td>0.007441</td>\n",
       "      <td>право</td>\n",
       "    </tr>\n",
       "    <tr>\n",
       "      <th>sbj3</th>\n",
       "      <td>0.007176</td>\n",
       "      <td>социология</td>\n",
       "    </tr>\n",
       "    <tr>\n",
       "      <th>sbj23</th>\n",
       "      <td>0.007064</td>\n",
       "      <td>истрория ссср</td>\n",
       "    </tr>\n",
       "    <tr>\n",
       "      <th>sbj11</th>\n",
       "      <td>0.006378</td>\n",
       "      <td>психология</td>\n",
       "    </tr>\n",
       "    <tr>\n",
       "      <th>sbj4</th>\n",
       "      <td>0.006059</td>\n",
       "      <td>нейробиология</td>\n",
       "    </tr>\n",
       "    <tr>\n",
       "      <th>sbj28</th>\n",
       "      <td>0.005715</td>\n",
       "      <td>культура</td>\n",
       "    </tr>\n",
       "    <tr>\n",
       "      <th>sbj7</th>\n",
       "      <td>0.004780</td>\n",
       "      <td>антропология</td>\n",
       "    </tr>\n",
       "    <tr>\n",
       "      <th>sbj26</th>\n",
       "      <td>0.002958</td>\n",
       "      <td>искусство</td>\n",
       "    </tr>\n",
       "  </tbody>\n",
       "</table>\n",
       "</div>"
      ],
      "text/plain": [
       "           prob                        name\n",
       "bcg    0.678461                Фоновая тема\n",
       "sbj13  0.041787                       наука\n",
       "sbj19  0.021651               микробиология\n",
       "sbj20  0.015673            квантовая физика\n",
       "sbj21  0.014534                  литература\n",
       "sbj10  0.014469                    биология\n",
       "sbj1   0.013312                       химия\n",
       "sbj24  0.013265                   филология\n",
       "sbj18  0.013185              востоковедение\n",
       "sbj27  0.011510                 астрофизика\n",
       "sbj14  0.011454                  астрономия\n",
       "sbj9   0.011263                    медицина\n",
       "sbj2   0.010887                 Политология\n",
       "sbj0   0.010022  Физика элементарных частиц\n",
       "sbj17  0.009913                 информатика\n",
       "sbj12  0.009874                     история\n",
       "sbj25  0.009220                  математика\n",
       "sbj15  0.009198                   экономика\n",
       "sbj22  0.008877                    политика\n",
       "sbj5   0.008135                   мифология\n",
       "sbj16  0.008119         семейная психология\n",
       "sbj6   0.007617                 лингвистика\n",
       "sbj8   0.007441                       право\n",
       "sbj3   0.007176                  социология\n",
       "sbj23  0.007064               истрория ссср\n",
       "sbj11  0.006378                  психология\n",
       "sbj4   0.006059               нейробиология\n",
       "sbj28  0.005715                    культура\n",
       "sbj7   0.004780                антропология\n",
       "sbj26  0.002958                   искусство"
      ]
     },
     "execution_count": 52,
     "metadata": {},
     "output_type": "execute_result"
    }
   ],
   "source": [
    "probs.sort_values(by='prob', ascending=False)"
   ]
  },
  {
   "cell_type": "markdown",
   "metadata": {},
   "source": [
    "Найдите 5 самых распространенных и 3 наименее освещенных темы в коллекции (наибольшие и наименьшие $p(t)$ соответственно), не считая фоновую и общенаучную. Укажите названия, которые вы дали этим темам."
   ]
  },
  {
   "cell_type": "raw",
   "metadata": {},
   "source": [
    "Ваш ответ:\n",
    "5 тем с max p(t): sbj19, sbj20, sbj21, sbj10, sbj1 ('микробиология', 'квантовая физика', 'литература', 'биология', 'химия')\n",
    "3 темы с min p(t): sbj26,sbj7, sbj28('искусство', 'антропология', 'культура')"
   ]
  },
  {
   "cell_type": "markdown",
   "metadata": {},
   "source": [
    "Визуализируйте матрицу $\\Phi$ модальности авторов в виде изображения. Рекомендация: установите yticklabels=False в heatmap."
   ]
  },
  {
   "cell_type": "code",
   "execution_count": 54,
   "metadata": {},
   "outputs": [
    {
     "data": {
      "image/png": "[encoded data removed]",
      "text/plain": [
       "<Figure size 1440x720 with 2 Axes>"
      ]
     },
     "metadata": {},
     "output_type": "display_data"
    }
   ],
   "source": [
    "# Ваш код\n",
    "fig= plt.figure(figsize=(20,10))\n",
    "\n",
    "\n",
    "seaborn.heatmap(phi_a)\n",
    "fig.yticklabels=False"
   ]
  },
  {
   "cell_type": "markdown",
   "metadata": {},
   "source": [
    "Каждой теме соответствует не очень большое число авторов - матрица достаточно разреженная. Кроме того, некоторые темы имеют доминирующего автора $a$, имеющего большую вероятность $p(a|t)$ - этот автор записал больше всего лекций по теме. "
   ]
  },
  {
   "cell_type": "markdown",
   "metadata": {},
   "source": [
    "Будем считать, что автор $a$ значим в теме, если $p(a|t) > 0.01$. Для каждого автора посчитайте, в скольких темах он значим. Найдите авторов-рекордсменов, которые значимы (а значит, читали лекции) в >= 3 темах."
   ]
  },
  {
   "cell_type": "code",
   "execution_count": 55,
   "metadata": {},
   "outputs": [
    {
     "data": {
      "text/plain": [
       "['Андрей_Журавлев',\n",
       " 'Дина_Гусейнова',\n",
       " 'Александр_Воеводский',\n",
       " 'Фёдор_Успенский',\n",
       " 'Ольга_Вайнштейн']"
      ]
     },
     "execution_count": 55,
     "metadata": {},
     "output_type": "execute_result"
    }
   ],
   "source": [
    "signif_author = pd.DataFrame(phi_a[phi_a>0.01].count(axis=1), columns=['value'])\n",
    "signif_author[signif_author['value']>=3].index.values.tolist()"
   ]
  },
  {
   "cell_type": "raw",
   "metadata": {},
   "source": [
    "Ваш ответ:\n",
    "авторы, значимые в не менее чем 3 темах:['Андрей_Журавлев',\n",
    " 'Дина_Гусейнова',\n",
    " 'Александр_Воеводский',\n",
    " 'Фёдор_Успенский',\n",
    " 'Ольга_Вайнштейн']"
   ]
  },
  {
   "cell_type": "markdown",
   "metadata": {},
   "source": [
    "Большинство авторов значимы в 1 теме, что логично."
   ]
  },
  {
   "cell_type": "markdown",
   "metadata": {},
   "source": [
    "##### Построение тематической карты авторов"
   ]
  },
  {
   "cell_type": "markdown",
   "metadata": {},
   "source": [
    "По сути, в матрице $\\Phi$, соответствующей модальности авторов, записаны тематические кластеры авторов. Для любого автора мы можем составить его тематический круг - авторов, разбирающихся в той же теме, что и данный. Интересующиеся слушатели могут попробовать выполнить эту процедуру для ученых, читающих лекции на Постнауке, которых они знают (например, на Постнауке есть лекции с К. В. Воронцовым - лектором текущего модуля :)\n",
    "\n",
    "Составим карту близости авторов по тематике их исследований. Для этого применим метод понижения размерности MDS к тематическим профилям авторов.\n",
    "\n",
    "Чтобы получить тематический профиль автора, распределение $p(t|a)$, нужно воспользоваться формулой Байеса: \n",
    "$p(t|a) = \\frac {p(a|t) p(t)} {\\sum_t' p(a|t') p(t')}$. Все необходимые для этого величины у вас есть и записаны в переменных phi и pt. \n",
    "\n",
    "Передайте матрицу тематических профилей авторов, записанных по строкам, в метод MDS с n_components=2. Используйте косинусную метрику (она хорошо подходит для поиска расстояний между векторами, имеющими фиксированную сумму компонент)."
   ]
  },
  {
   "cell_type": "code",
   "execution_count": 56,
   "metadata": {},
   "outputs": [],
   "source": [
    "from sklearn.manifold import MDS\n",
    "from sklearn.metrics import pairwise_distances"
   ]
  },
  {
   "cell_type": "code",
   "execution_count": 58,
   "metadata": {},
   "outputs": [],
   "source": [
    "# Ваш код\n",
    "prof = phi_a.copy()\n",
    "for i in prof.columns:\n",
    "    prof[i] = (prof[i]*probs.loc[i, 'prob'])\n",
    "\n",
    "for i in prof.columns:\n",
    "    prof[i] /= prof.sum(axis=1)"
   ]
  },
  {
   "cell_type": "code",
   "execution_count": 59,
   "metadata": {},
   "outputs": [],
   "source": [
    "mds_cos = MDS(random_state=321, dissimilarity='precomputed', n_components=2)\n",
    "MDS_transformed_cos = mds_cos.fit_transform( pairwise_distances(prof, metric='cosine'))"
   ]
  },
  {
   "cell_type": "code",
   "execution_count": 60,
   "metadata": {},
   "outputs": [
    {
     "data": {
      "text/plain": [
       "array([[-0.50732889, -0.50309614],\n",
       "       [-0.69409994, -0.18492221],\n",
       "       [ 0.54478037,  0.47818537],\n",
       "       ...,\n",
       "       [ 0.54478037,  0.47818537],\n",
       "       [-0.18109232,  0.41611153],\n",
       "       [ 0.46730469, -0.48052178]])"
      ]
     },
     "execution_count": 60,
     "metadata": {},
     "output_type": "execute_result"
    }
   ],
   "source": [
    "MDS_transformed_cos"
   ]
  },
  {
   "cell_type": "markdown",
   "metadata": {},
   "source": [
    "Визуализируйте найденные двумерные представления с помощью функции scatter. "
   ]
  },
  {
   "cell_type": "code",
   "execution_count": 61,
   "metadata": {},
   "outputs": [
    {
     "data": {
      "text/plain": [
       "<matplotlib.collections.PathCollection at 0x7f7a29ff0c90>"
      ]
     },
     "execution_count": 61,
     "metadata": {},
     "output_type": "execute_result"
    },
    {
     "data": {
      "image/png": "[encoded data removed]",
      "text/plain": [
       "<Figure size 432x288 with 1 Axes>"
      ]
     },
     "metadata": {},
     "output_type": "display_data"
    }
   ],
   "source": [
    "# Ваш код\n",
    "plt.scatter(MDS_transformed_cos[:,0], MDS_transformed_cos[:,1], alpha=0.5)\n"
   ]
  },
  {
   "cell_type": "markdown",
   "metadata": {},
   "source": [
    "Должно получиться, что некоторые грппы авторов формируют сгустки, которые можно считать тематическими группами авторов.\n",
    "\n",
    "Раскрасим точки следующим образом: для каждого автора выберем наиболее вероятную для него тему ($\\max_t p(t|a)$), и каждой теме сопоставим цвет. Кроме того, добавим на карту имена и фамилии авторов, это можно сделать в цикле по всем точкам с помощью функции plt.annotate, указывая метку точки первым аргументом и ее координаты в аргументе xy. Рекомендуется сделать размер изображения большим, тогда маркеры точек тоже придется увеличить (s=100 в plt.scatter). Изобразите карту авторов и сохраните в pdf-файл с помощью функции plt.savefig. \n",
    "\n",
    "Метки авторов будут пересекаться. Будет очень хорошо, если вы найдете способ, как этого можно избежать."
   ]
  },
  {
   "cell_type": "code",
   "execution_count": 62,
   "metadata": {},
   "outputs": [],
   "source": [
    "prof_df = pd.DataFrame(prof.idxmax(axis=1), columns=['topic'])"
   ]
  },
  {
   "cell_type": "code",
   "execution_count": 63,
   "metadata": {},
   "outputs": [],
   "source": [
    "prof_df[['x', 'y']]= MDS_transformed_cos"
   ]
  },
  {
   "cell_type": "code",
   "execution_count": 64,
   "metadata": {},
   "outputs": [
    {
     "data": {
      "image/png": "[encoded data removed]",
      "text/plain": [
       "<Figure size 1440x1440 with 1 Axes>"
      ]
     },
     "metadata": {},
     "output_type": "display_data"
    }
   ],
   "source": [
    "fig= plt.figure(figsize=(20,20))\n",
    "import matplotlib.cm as cm\n",
    "colors = cm.rainbow(np.linspace(0, 1, T)) # цвета для тем\n",
    "# Ваш код\n",
    "for y, c in zip(prof.columns, colors):\n",
    "    \n",
    "    plt.scatter(prof_df[prof_df['topic']==y]['x'],\n",
    "                prof_df[prof_df['topic']==y]['y'], color=c, alpha=0.5, label=str(y), s=100);\n",
    "    \n",
    "for i in prof.index.values.tolist():\n",
    "    plt.annotate(i, xy=(prof_df.loc[i,:]['x'], prof_df.loc[i,:]['y']),  size=10) \n",
    "    \n",
    "plt.legend();\n",
    "plt.savefig('author_map.pdf')"
   ]
  },
  {
   "cell_type": "markdown",
   "metadata": {},
   "source": [
    "##### Создание простого тематического навигатора по Постнауке"
   ]
  },
  {
   "cell_type": "markdown",
   "metadata": {},
   "source": [
    "Наш тематический навигатор будет для каждой темы показывать ее список слов, а также список релевантных теме документов. \n",
    "\n",
    "Нам понадобятся распределения $p(d|t)$. По формуле Байеса $p(d|t) = \\frac{p(t|d)p(d)}{\\sum_{d'}p(t|d')p(d')}$, но поскольку мы считаем документы равновероятными, достаточно разделить каждую строку $\\Theta$ на ее сумму, чтобы оценить распределение. \n",
    "\n",
    "Отсортируйте матрицу $p(d|t)$ по убыванию $p(d|t)$ в каждой теме (то есть построчно). Нам понадобятся индексы наиболее вероятных документов в каждой теме, поэтому используйте функцию argmax."
   ]
  },
  {
   "cell_type": "code",
   "execution_count": 80,
   "metadata": {},
   "outputs": [],
   "source": [
    "# Ваш код\n",
    "theta_df = theta.copy()"
   ]
  },
  {
   "cell_type": "code",
   "execution_count": 96,
   "metadata": {},
   "outputs": [],
   "source": [
    "df = theta_df.div(theta_df.sum(axis=1), axis=0)"
   ]
  },
  {
   "cell_type": "code",
   "execution_count": 114,
   "metadata": {},
   "outputs": [],
   "source": [
    "all_cols=df.columns\n",
    "all_idxs = df.index.to_list()"
   ]
  },
  {
   "cell_type": "code",
   "execution_count": 115,
   "metadata": {},
   "outputs": [
    {
     "name": "stdout",
     "output_type": "stream",
     "text": [
      "http://postnauka.ru/video/13043    0.021945\n",
      "http://postnauka.ru/video/18870    0.020201\n",
      "http://postnauka.ru/video/18873    0.018590\n",
      "http://postnauka.ru/video/47950    0.016570\n",
      "http://postnauka.ru/video/18865    0.016243\n",
      "http://postnauka.ru/video/2945     0.015993\n",
      "http://postnauka.ru/video/47826    0.015550\n",
      "http://postnauka.ru/video/1894     0.015412\n",
      "http://postnauka.ru/video/47175    0.015362\n",
      "http://postnauka.ru/video/14282    0.014874\n",
      "Name: sbj0, dtype: float32\n",
      "http://postnauka.ru/video/13700    0.014807\n",
      "http://postnauka.ru/video/31182    0.014535\n",
      "http://postnauka.ru/video/18048    0.013867\n",
      "http://postnauka.ru/video/57995    0.012649\n",
      "http://postnauka.ru/video/41686    0.012096\n",
      "http://postnauka.ru/video/13544    0.012006\n",
      "http://postnauka.ru/video/51490    0.011873\n",
      "http://postnauka.ru/video/46379    0.011592\n",
      "http://postnauka.ru/video/31682    0.011333\n",
      "http://postnauka.ru/video/56295    0.010837\n",
      "Name: sbj1, dtype: float32\n",
      "http://postnauka.ru/video/9968     0.017076\n",
      "http://postnauka.ru/video/28942    0.016531\n",
      "http://postnauka.ru/video/31677    0.015505\n",
      "http://postnauka.ru/video/23472    0.012939\n",
      "http://postnauka.ru/video/16824    0.012542\n",
      "http://postnauka.ru/video/32906    0.012474\n",
      "http://postnauka.ru/video/25261    0.011642\n",
      "http://postnauka.ru/video/5633     0.011537\n",
      "http://postnauka.ru/video/42087    0.011369\n",
      "http://postnauka.ru/video/42088    0.011069\n",
      "Name: sbj2, dtype: float32\n",
      "http://postnauka.ru/video/20720    0.026557\n",
      "http://postnauka.ru/video/434      0.018770\n",
      "http://postnauka.ru/video/6380     0.018756\n",
      "http://postnauka.ru/video/7731     0.018202\n",
      "http://postnauka.ru/video/12083    0.017889\n",
      "http://postnauka.ru/video/10783    0.017240\n",
      "http://postnauka.ru/video/6725     0.016545\n",
      "http://postnauka.ru/video/23361    0.015739\n",
      "http://postnauka.ru/video/51350    0.015545\n",
      "http://postnauka.ru/video/14295    0.015509\n",
      "Name: sbj3, dtype: float32\n",
      "http://postnauka.ru/video/50793    0.021791\n",
      "http://postnauka.ru/video/7068     0.021594\n",
      "http://postnauka.ru/video/55068    0.021263\n",
      "http://postnauka.ru/video/12521    0.019044\n",
      "http://postnauka.ru/video/26207    0.018075\n",
      "http://postnauka.ru/video/47548    0.017815\n",
      "http://postnauka.ru/video/36350    0.016686\n",
      "http://postnauka.ru/video/25891    0.015510\n",
      "http://postnauka.ru/video/7767     0.014032\n",
      "http://postnauka.ru/video/41350    0.013955\n",
      "Name: sbj4, dtype: float32\n",
      "http://postnauka.ru/video/9997     0.023650\n",
      "http://postnauka.ru/video/43664    0.017746\n",
      "http://postnauka.ru/video/12156    0.016453\n",
      "http://postnauka.ru/video/5999     0.016261\n",
      "http://postnauka.ru/video/47300    0.016254\n",
      "http://postnauka.ru/video/9992     0.015449\n",
      "http://postnauka.ru/video/31990    0.014705\n",
      "http://postnauka.ru/video/42796    0.014595\n",
      "http://postnauka.ru/video/46427    0.014459\n",
      "http://postnauka.ru/video/12290    0.013969\n",
      "Name: sbj5, dtype: float32\n",
      "http://postnauka.ru/video/10773    0.022932\n",
      "http://postnauka.ru/video/51171    0.019902\n",
      "http://postnauka.ru/video/8964     0.018955\n",
      "http://postnauka.ru/video/40001    0.016328\n",
      "http://postnauka.ru/video/48114    0.014817\n",
      "http://postnauka.ru/video/41689    0.014675\n",
      "http://postnauka.ru/video/48112    0.014469\n",
      "http://postnauka.ru/video/3379     0.013970\n",
      "http://postnauka.ru/video/36272    0.013898\n",
      "http://postnauka.ru/video/53453    0.013504\n",
      "Name: sbj6, dtype: float32\n",
      "http://postnauka.ru/video/17397    0.035494\n",
      "http://postnauka.ru/video/31707    0.033482\n",
      "http://postnauka.ru/video/37732    0.029671\n",
      "http://postnauka.ru/video/32898    0.028884\n",
      "http://postnauka.ru/video/15341    0.028815\n",
      "http://postnauka.ru/video/35150    0.028204\n",
      "http://postnauka.ru/video/42707    0.027917\n",
      "http://postnauka.ru/video/42735    0.025692\n",
      "http://postnauka.ru/video/40880    0.024422\n",
      "http://postnauka.ru/video/31675    0.022495\n",
      "Name: sbj7, dtype: float32\n",
      "http://postnauka.ru/video/9299     0.033277\n",
      "http://postnauka.ru/video/31688    0.024707\n",
      "http://postnauka.ru/video/38009    0.024454\n",
      "http://postnauka.ru/video/34414    0.024259\n",
      "http://postnauka.ru/video/49455    0.023749\n",
      "http://postnauka.ru/video/42221    0.023145\n",
      "http://postnauka.ru/video/17912    0.022897\n",
      "http://postnauka.ru/video/16822    0.022782\n",
      "http://postnauka.ru/video/13042    0.022412\n",
      "http://postnauka.ru/video/31666    0.021718\n",
      "Name: sbj8, dtype: float32\n",
      "http://postnauka.ru/video/13746    0.022461\n",
      "http://postnauka.ru/video/12974    0.017559\n",
      "http://postnauka.ru/video/7753     0.017082\n",
      "http://postnauka.ru/video/2541     0.016557\n",
      "http://postnauka.ru/video/532      0.016042\n",
      "http://postnauka.ru/video/11361    0.015882\n",
      "http://postnauka.ru/video/57657    0.015389\n",
      "http://postnauka.ru/video/49206    0.015259\n",
      "http://postnauka.ru/video/11850    0.014808\n",
      "http://postnauka.ru/video/45961    0.014480\n",
      "Name: sbj9, dtype: float32\n",
      "http://postnauka.ru/video/2531     0.013800\n",
      "http://postnauka.ru/video/9861     0.013777\n",
      "http://postnauka.ru/video/7113     0.013739\n",
      "http://postnauka.ru/video/8953     0.012797\n",
      "http://postnauka.ru/video/30673    0.012665\n",
      "http://postnauka.ru/video/19071    0.011926\n",
      "http://postnauka.ru/video/25889    0.011486\n",
      "http://postnauka.ru/video/32635    0.011055\n",
      "http://postnauka.ru/video/49437    0.010850\n",
      "http://postnauka.ru/video/31671    0.010256\n",
      "Name: sbj10, dtype: float32\n",
      "http://postnauka.ru/video/25267    0.021385\n",
      "http://postnauka.ru/video/53949    0.020221\n",
      "http://postnauka.ru/video/17421    0.019544\n",
      "http://postnauka.ru/video/56052    0.019097\n",
      "http://postnauka.ru/video/54916    0.019002\n",
      "http://postnauka.ru/video/16159    0.018076\n",
      "http://postnauka.ru/video/23829    0.018018\n",
      "http://postnauka.ru/video/57336    0.017574\n",
      "http://postnauka.ru/video/48962    0.016374\n",
      "http://postnauka.ru/video/37979    0.014464\n",
      "Name: sbj11, dtype: float32\n",
      "http://postnauka.ru/video/3348     0.021657\n",
      "http://postnauka.ru/video/24034    0.020801\n",
      "http://postnauka.ru/video/24039    0.019250\n",
      "http://postnauka.ru/video/19574    0.016961\n",
      "http://postnauka.ru/video/32637    0.015921\n",
      "http://postnauka.ru/video/24030    0.015000\n",
      "http://postnauka.ru/video/23900    0.014919\n",
      "http://postnauka.ru/video/50668    0.014874\n",
      "http://postnauka.ru/video/47449    0.014840\n",
      "http://postnauka.ru/video/34936    0.014458\n",
      "Name: sbj12, dtype: float32\n",
      "http://postnauka.ru/video/12148    0.006570\n",
      "http://postnauka.ru/video/7778     0.006102\n",
      "http://postnauka.ru/video/9870     0.005728\n",
      "http://postnauka.ru/video/5394     0.005715\n",
      "http://postnauka.ru/video/9148     0.005648\n",
      "http://postnauka.ru/video/10385    0.005543\n",
      "http://postnauka.ru/video/5878     0.005519\n",
      "http://postnauka.ru/video/3417     0.005511\n",
      "http://postnauka.ru/video/5198     0.005445\n",
      "http://postnauka.ru/video/7541     0.005414\n",
      "Name: sbj13, dtype: float32\n",
      "http://postnauka.ru/video/2971     0.020333\n",
      "http://postnauka.ru/video/48109    0.016844\n",
      "http://postnauka.ru/video/9835     0.015812\n",
      "http://postnauka.ru/video/49451    0.015637\n",
      "http://postnauka.ru/video/57338    0.015246\n",
      "http://postnauka.ru/video/31193    0.015156\n",
      "http://postnauka.ru/video/31695    0.014938\n",
      "http://postnauka.ru/video/3423     0.014262\n",
      "http://postnauka.ru/video/59636    0.013251\n",
      "http://postnauka.ru/video/58744    0.013240\n",
      "Name: sbj14, dtype: float32\n",
      "http://postnauka.ru/video/26616    0.017136\n",
      "http://postnauka.ru/video/24286    0.016856\n",
      "http://postnauka.ru/video/53415    0.016043\n",
      "http://postnauka.ru/video/5465     0.015897\n",
      "http://postnauka.ru/video/13152    0.015870\n",
      "http://postnauka.ru/video/6376     0.013290\n",
      "http://postnauka.ru/video/27823    0.013140\n",
      "http://postnauka.ru/video/7781     0.013048\n",
      "http://postnauka.ru/video/24457    0.012714\n",
      "http://postnauka.ru/video/28282    0.012537\n",
      "Name: sbj15, dtype: float32\n",
      "http://postnauka.ru/video/22892    0.020815\n",
      "http://postnauka.ru/video/26223    0.016324\n",
      "http://postnauka.ru/video/21643    0.014601\n",
      "http://postnauka.ru/video/52948    0.013571\n",
      "http://postnauka.ru/video/30678    0.013366\n",
      "http://postnauka.ru/video/9865     0.012618\n",
      "http://postnauka.ru/video/22883    0.012488\n",
      "http://postnauka.ru/video/31220    0.012224\n",
      "http://postnauka.ru/video/40266    0.011938\n",
      "http://postnauka.ru/video/2946     0.011826\n",
      "Name: sbj16, dtype: float32\n",
      "http://postnauka.ru/video/8313     0.017132\n",
      "http://postnauka.ru/video/24306    0.016465\n",
      "http://postnauka.ru/video/32901    0.015271\n",
      "http://postnauka.ru/video/9998     0.013542\n",
      "http://postnauka.ru/video/12172    0.012958\n",
      "http://postnauka.ru/video/33885    0.012932\n",
      "http://postnauka.ru/video/34964    0.012172\n",
      "http://postnauka.ru/video/26228    0.012151\n",
      "http://postnauka.ru/video/47810    0.011749\n",
      "http://postnauka.ru/video/53575    0.011167\n",
      "Name: sbj17, dtype: float32\n",
      "http://postnauka.ru/video/53171    0.021175\n",
      "http://postnauka.ru/video/5891     0.016392\n",
      "http://postnauka.ru/video/59201    0.013792\n",
      "http://postnauka.ru/video/2527     0.013502\n",
      "http://postnauka.ru/video/51380    0.012232\n",
      "http://postnauka.ru/video/17041    0.012030\n",
      "http://postnauka.ru/video/56302    0.011766\n",
      "http://postnauka.ru/video/6377     0.011636\n",
      "http://postnauka.ru/video/52958    0.011521\n",
      "http://postnauka.ru/video/45458    0.011501\n",
      "Name: sbj18, dtype: float32\n",
      "http://postnauka.ru/video/5915     0.011553\n",
      "http://postnauka.ru/video/5390     0.010786\n",
      "http://postnauka.ru/video/19436    0.009779\n",
      "http://postnauka.ru/video/17051    0.009289\n",
      "http://postnauka.ru/video/10475    0.008858\n",
      "http://postnauka.ru/video/35051    0.008713\n",
      "http://postnauka.ru/video/35461    0.008689\n",
      "http://postnauka.ru/video/16156    0.008574\n",
      "http://postnauka.ru/video/11628    0.008422\n",
      "http://postnauka.ru/video/37537    0.008413\n",
      "Name: sbj19, dtype: float32\n",
      "http://postnauka.ru/video/21662    0.013213\n",
      "http://postnauka.ru/video/25875    0.013167\n",
      "http://postnauka.ru/video/19457    0.012917\n",
      "http://postnauka.ru/video/25902    0.011970\n",
      "http://postnauka.ru/video/19509    0.011187\n",
      "http://postnauka.ru/video/36187    0.010843\n",
      "http://postnauka.ru/video/24434    0.010798\n",
      "http://postnauka.ru/video/51174    0.010558\n",
      "http://postnauka.ru/video/26609    0.010186\n",
      "http://postnauka.ru/video/27829    0.010173\n",
      "Name: sbj20, dtype: float32\n",
      "http://postnauka.ru/video/12738    0.015551\n",
      "http://postnauka.ru/video/2524     0.014643\n",
      "http://postnauka.ru/video/2529     0.014370\n",
      "http://postnauka.ru/video/9728     0.011813\n",
      "http://postnauka.ru/video/7764     0.011098\n",
      "http://postnauka.ru/video/23834    0.011022\n",
      "http://postnauka.ru/video/32664    0.010789\n",
      "http://postnauka.ru/video/53513    0.010504\n",
      "http://postnauka.ru/video/26234    0.010434\n",
      "http://postnauka.ru/video/22570    0.009243\n",
      "Name: sbj21, dtype: float32\n",
      "http://postnauka.ru/video/53577    0.020390\n",
      "http://postnauka.ru/video/36246    0.018117\n",
      "http://postnauka.ru/video/48492    0.017671\n",
      "http://postnauka.ru/video/47823    0.017315\n",
      "http://postnauka.ru/video/51331    0.017203\n",
      "http://postnauka.ru/video/54175    0.017136\n",
      "http://postnauka.ru/video/50656    0.016817\n",
      "http://postnauka.ru/video/25882    0.015974\n",
      "http://postnauka.ru/video/1893     0.015498\n",
      "http://postnauka.ru/video/58542    0.014866\n",
      "Name: sbj22, dtype: float32\n",
      "http://postnauka.ru/video/25906    0.021726\n",
      "http://postnauka.ru/video/25097    0.021067\n",
      "http://postnauka.ru/video/34413    0.019972\n",
      "http://postnauka.ru/video/46939    0.019665\n",
      "http://postnauka.ru/video/52936    0.019139\n",
      "http://postnauka.ru/video/30261    0.018994\n",
      "http://postnauka.ru/video/57259    0.017617\n",
      "http://postnauka.ru/video/47816    0.015645\n",
      "http://postnauka.ru/video/55219    0.015304\n",
      "http://postnauka.ru/video/41680    0.015197\n",
      "Name: sbj23, dtype: float32\n",
      "http://postnauka.ru/video/7755     0.017908\n",
      "http://postnauka.ru/video/13041    0.016626\n",
      "http://postnauka.ru/video/55301    0.014150\n",
      "http://postnauka.ru/video/10473    0.013982\n",
      "http://postnauka.ru/video/52778    0.012801\n",
      "http://postnauka.ru/video/53169    0.012491\n",
      "http://postnauka.ru/video/22433    0.012296\n",
      "http://postnauka.ru/video/16157    0.012159\n",
      "http://postnauka.ru/video/9556     0.012013\n",
      "http://postnauka.ru/video/48959    0.011480\n",
      "Name: sbj24, dtype: float32\n",
      "http://postnauka.ru/video/3388     0.022692\n",
      "http://postnauka.ru/video/57128    0.016728\n",
      "http://postnauka.ru/video/36804    0.014891\n",
      "http://postnauka.ru/video/55069    0.013579\n",
      "http://postnauka.ru/video/18086    0.013102\n",
      "http://postnauka.ru/video/7032     0.012500\n",
      "http://postnauka.ru/video/19456    0.012411\n",
      "http://postnauka.ru/video/18085    0.012351\n",
      "http://postnauka.ru/video/51371    0.012046\n",
      "http://postnauka.ru/video/11651    0.012042\n",
      "Name: sbj25, dtype: float32\n",
      "http://postnauka.ru/video/40004    0.040111\n",
      "http://postnauka.ru/video/43843    0.039381\n",
      "http://postnauka.ru/video/31228    0.037063\n",
      "http://postnauka.ru/video/49866    0.034127\n",
      "http://postnauka.ru/video/57127    0.028382\n",
      "http://postnauka.ru/video/37978    0.027694\n",
      "http://postnauka.ru/video/48624    0.026505\n",
      "http://postnauka.ru/video/13156    0.023072\n",
      "http://postnauka.ru/video/57524    0.021075\n",
      "http://postnauka.ru/video/46559    0.021015\n",
      "Name: sbj26, dtype: float32\n",
      "http://postnauka.ru/video/53693    0.023772\n",
      "http://postnauka.ru/video/6673     0.020257\n",
      "http://postnauka.ru/video/7067     0.019009\n",
      "http://postnauka.ru/video/30015    0.016476\n",
      "http://postnauka.ru/video/17779    0.014418\n",
      "http://postnauka.ru/video/59202    0.013694\n",
      "http://postnauka.ru/video/23969    0.012942\n",
      "http://postnauka.ru/video/19085    0.012755\n",
      "http://postnauka.ru/video/10756    0.012722\n",
      "http://postnauka.ru/video/23500    0.012182\n",
      "Name: sbj27, dtype: float32\n",
      "http://postnauka.ru/video/5396     0.034345\n",
      "http://postnauka.ru/video/9429     0.027914\n",
      "http://postnauka.ru/video/13098    0.027857\n",
      "http://postnauka.ru/video/10779    0.027590\n",
      "http://postnauka.ru/video/39723    0.026727\n",
      "http://postnauka.ru/video/11246    0.025504\n",
      "http://postnauka.ru/video/10759    0.024033\n",
      "http://postnauka.ru/video/13541    0.019454\n",
      "http://postnauka.ru/video/7074     0.019223\n",
      "http://postnauka.ru/video/57126    0.018864\n",
      "Name: sbj28, dtype: float32\n",
      "http://postnauka.ru/video/51365    0.000773\n",
      "http://postnauka.ru/video/58752    0.000757\n",
      "http://postnauka.ru/video/42436    0.000755\n",
      "http://postnauka.ru/video/49851    0.000753\n",
      "http://postnauka.ru/video/23886    0.000747\n",
      "http://postnauka.ru/video/10750    0.000745\n",
      "http://postnauka.ru/video/31214    0.000739\n",
      "http://postnauka.ru/video/55760    0.000739\n",
      "http://postnauka.ru/video/51184    0.000738\n",
      "http://postnauka.ru/video/46943    0.000738\n",
      "Name: bcg, dtype: float32\n"
     ]
    }
   ],
   "source": [
    "for i in all_idxs:\n",
    "    print(df.loc[i,:].sort_values(ascending=False)[:10])"
   ]
  },
  {
   "cell_type": "markdown",
   "metadata": {},
   "source": [
    "Создавать навигатор мы будем прямо в jupiter notebook: это возможно благодаря тому факту, что при печати ссылки она автоматически превращается в гиперссылку."
   ]
  },
  {
   "cell_type": "code",
   "execution_count": 117,
   "metadata": {},
   "outputs": [
    {
     "name": "stdout",
     "output_type": "stream",
     "text": [
      "http://yandex.ru\n"
     ]
    }
   ],
   "source": [
    "print( \"http://yandex.ru\")   # получится кликабельная ссылка"
   ]
  },
  {
   "cell_type": "markdown",
   "metadata": {},
   "source": [
    "Кроме того, подключив модуль [ipython.core.display](https://ipython.org/ipython-doc/2/api/generated/IPython.core.display.html), можно использовать html-разметку в выводе. Например:"
   ]
  },
  {
   "cell_type": "code",
   "execution_count": 118,
   "metadata": {},
   "outputs": [
    {
     "data": {
      "text/html": [
       "<h1>Заголовок</h1>"
      ],
      "text/plain": [
       "<IPython.core.display.HTML object>"
      ]
     },
     "metadata": {},
     "output_type": "display_data"
    },
    {
     "data": {
      "text/html": [
       "<ul><li>Пункт 1</li><li>Пункт 2</li></ul>"
      ],
      "text/plain": [
       "<IPython.core.display.HTML object>"
      ]
     },
     "metadata": {},
     "output_type": "display_data"
    },
    {
     "data": {
      "text/html": [
       "<font color=\"green\">Зеленый!</font>"
      ],
      "text/plain": [
       "<IPython.core.display.HTML object>"
      ]
     },
     "metadata": {},
     "output_type": "display_data"
    },
    {
     "data": {
      "text/html": [
       "<a href=\"http://yandex.ru\">Еще один вариант вывода ссылки</a>"
      ],
      "text/plain": [
       "<IPython.core.display.HTML object>"
      ]
     },
     "metadata": {},
     "output_type": "display_data"
    }
   ],
   "source": [
    "from IPython.core.display import display, HTML\n",
    "display(HTML(u\"<h1>Заголовок</h1>\"))   # также <h2>, <h3>\n",
    "display(HTML(u\"<ul><li>Пункт 1</li><li>Пункт 2</li></ul>\"))\n",
    "display(HTML(u'<font color=\"green\">Зеленый!</font>'))\n",
    "display(HTML(u'<a href=\"http://yandex.ru\">Еще один вариант вывода ссылки</a>'))"
   ]
  },
  {
   "cell_type": "markdown",
   "metadata": {},
   "source": [
    "В цикле для каждой темы выведите ее заголовок, в следующей строке - топ-10 слов темы, затем в виде списка ссылки на 10 наиболее релевантных (по $p(d|t)$) теме документов. Используйте html-разметку. Творчество приветствуется :)"
   ]
  },
  {
   "cell_type": "code",
   "execution_count": 127,
   "metadata": {},
   "outputs": [
    {
     "data": {
      "text/html": [
       "<h1>Физика элементарных частиц</h1>"
      ],
      "text/plain": [
       "<IPython.core.display.HTML object>"
      ]
     },
     "metadata": {},
     "output_type": "display_data"
    },
    {
     "data": {
      "text/html": [
       "<font color=\"green\">частица, энергия, взаимодействие, физика, кварк, симметрия, элементарный, нейтрино, стандартный, материя</font>"
      ],
      "text/plain": [
       "<IPython.core.display.HTML object>"
      ]
     },
     "metadata": {},
     "output_type": "display_data"
    },
    {
     "data": {
      "text/html": [
       "<ul><li><a href=http://postnauka.ru/video/13043>http://postnauka.ru/video/13043</a></li><li><a href=http://postnauka.ru/video/18870>http://postnauka.ru/video/18870</a></li><li><a href=http://postnauka.ru/video/18873>http://postnauka.ru/video/18873</a></li><li><a href=http://postnauka.ru/video/47950>http://postnauka.ru/video/47950</a></li><li><a href=http://postnauka.ru/video/18865>http://postnauka.ru/video/18865</a></li><li><a href=http://postnauka.ru/video/2945>http://postnauka.ru/video/2945</a></li><li><a href=http://postnauka.ru/video/47826>http://postnauka.ru/video/47826</a></li><li><a href=http://postnauka.ru/video/1894>http://postnauka.ru/video/1894</a></li><li><a href=http://postnauka.ru/video/47175>http://postnauka.ru/video/47175</a></li><li><a href=http://postnauka.ru/video/14282>http://postnauka.ru/video/14282</a></li></ul>"
      ],
      "text/plain": [
       "<IPython.core.display.HTML object>"
      ]
     },
     "metadata": {},
     "output_type": "display_data"
    },
    {
     "data": {
      "text/html": [
       "<h1>химия</h1>"
      ],
      "text/plain": [
       "<IPython.core.display.HTML object>"
      ]
     },
     "metadata": {},
     "output_type": "display_data"
    },
    {
     "data": {
      "text/html": [
       "<font color=\"green\">материал, температура, структура, химический, вещество, соединение, поверхность, свойство, химия, молекула</font>"
      ],
      "text/plain": [
       "<IPython.core.display.HTML object>"
      ]
     },
     "metadata": {},
     "output_type": "display_data"
    },
    {
     "data": {
      "text/html": [
       "<ul><li><a href=http://postnauka.ru/video/13700>http://postnauka.ru/video/13700</a></li><li><a href=http://postnauka.ru/video/31182>http://postnauka.ru/video/31182</a></li><li><a href=http://postnauka.ru/video/18048>http://postnauka.ru/video/18048</a></li><li><a href=http://postnauka.ru/video/57995>http://postnauka.ru/video/57995</a></li><li><a href=http://postnauka.ru/video/41686>http://postnauka.ru/video/41686</a></li><li><a href=http://postnauka.ru/video/13544>http://postnauka.ru/video/13544</a></li><li><a href=http://postnauka.ru/video/51490>http://postnauka.ru/video/51490</a></li><li><a href=http://postnauka.ru/video/46379>http://postnauka.ru/video/46379</a></li><li><a href=http://postnauka.ru/video/31682>http://postnauka.ru/video/31682</a></li><li><a href=http://postnauka.ru/video/56295>http://postnauka.ru/video/56295</a></li></ul>"
      ],
      "text/plain": [
       "<IPython.core.display.HTML object>"
      ]
     },
     "metadata": {},
     "output_type": "display_data"
    },
    {
     "data": {
      "text/html": [
       "<h1>Политология</h1>"
      ],
      "text/plain": [
       "<IPython.core.display.HTML object>"
      ]
     },
     "metadata": {},
     "output_type": "display_data"
    },
    {
     "data": {
      "text/html": [
       "<font color=\"green\">политический, государство, власть, царь, партия, церковь, народ, правитель, император, средневековый</font>"
      ],
      "text/plain": [
       "<IPython.core.display.HTML object>"
      ]
     },
     "metadata": {},
     "output_type": "display_data"
    },
    {
     "data": {
      "text/html": [
       "<ul><li><a href=http://postnauka.ru/video/9968>http://postnauka.ru/video/9968</a></li><li><a href=http://postnauka.ru/video/28942>http://postnauka.ru/video/28942</a></li><li><a href=http://postnauka.ru/video/31677>http://postnauka.ru/video/31677</a></li><li><a href=http://postnauka.ru/video/23472>http://postnauka.ru/video/23472</a></li><li><a href=http://postnauka.ru/video/16824>http://postnauka.ru/video/16824</a></li><li><a href=http://postnauka.ru/video/32906>http://postnauka.ru/video/32906</a></li><li><a href=http://postnauka.ru/video/25261>http://postnauka.ru/video/25261</a></li><li><a href=http://postnauka.ru/video/5633>http://postnauka.ru/video/5633</a></li><li><a href=http://postnauka.ru/video/42087>http://postnauka.ru/video/42087</a></li><li><a href=http://postnauka.ru/video/42088>http://postnauka.ru/video/42088</a></li></ul>"
      ],
      "text/plain": [
       "<IPython.core.display.HTML object>"
      ]
     },
     "metadata": {},
     "output_type": "display_data"
    },
    {
     "data": {
      "text/html": [
       "<h1>социология</h1>"
      ],
      "text/plain": [
       "<IPython.core.display.HTML object>"
      ]
     },
     "metadata": {},
     "output_type": "display_data"
    },
    {
     "data": {
      "text/html": [
       "<font color=\"green\">знание, социология, социологический, познание, школа, предмет, социолог, факультет, виктор, аргумент</font>"
      ],
      "text/plain": [
       "<IPython.core.display.HTML object>"
      ]
     },
     "metadata": {},
     "output_type": "display_data"
    },
    {
     "data": {
      "text/html": [
       "<ul><li><a href=http://postnauka.ru/video/20720>http://postnauka.ru/video/20720</a></li><li><a href=http://postnauka.ru/video/434>http://postnauka.ru/video/434</a></li><li><a href=http://postnauka.ru/video/6380>http://postnauka.ru/video/6380</a></li><li><a href=http://postnauka.ru/video/7731>http://postnauka.ru/video/7731</a></li><li><a href=http://postnauka.ru/video/12083>http://postnauka.ru/video/12083</a></li><li><a href=http://postnauka.ru/video/10783>http://postnauka.ru/video/10783</a></li><li><a href=http://postnauka.ru/video/6725>http://postnauka.ru/video/6725</a></li><li><a href=http://postnauka.ru/video/23361>http://postnauka.ru/video/23361</a></li><li><a href=http://postnauka.ru/video/51350>http://postnauka.ru/video/51350</a></li><li><a href=http://postnauka.ru/video/14295>http://postnauka.ru/video/14295</a></li></ul>"
      ],
      "text/plain": [
       "<IPython.core.display.HTML object>"
      ]
     },
     "metadata": {},
     "output_type": "display_data"
    },
    {
     "data": {
      "text/html": [
       "<h1>нейробиология</h1>"
      ],
      "text/plain": [
       "<IPython.core.display.HTML object>"
      ]
     },
     "metadata": {},
     "output_type": "display_data"
    },
    {
     "data": {
      "text/html": [
       "<font color=\"green\">мозг, нейрон, мышление, предложение, категория, чтение, взрослый, синтаксический, синтаксис, лицо</font>"
      ],
      "text/plain": [
       "<IPython.core.display.HTML object>"
      ]
     },
     "metadata": {},
     "output_type": "display_data"
    },
    {
     "data": {
      "text/html": [
       "<ul><li><a href=http://postnauka.ru/video/50793>http://postnauka.ru/video/50793</a></li><li><a href=http://postnauka.ru/video/7068>http://postnauka.ru/video/7068</a></li><li><a href=http://postnauka.ru/video/55068>http://postnauka.ru/video/55068</a></li><li><a href=http://postnauka.ru/video/12521>http://postnauka.ru/video/12521</a></li><li><a href=http://postnauka.ru/video/26207>http://postnauka.ru/video/26207</a></li><li><a href=http://postnauka.ru/video/47548>http://postnauka.ru/video/47548</a></li><li><a href=http://postnauka.ru/video/36350>http://postnauka.ru/video/36350</a></li><li><a href=http://postnauka.ru/video/25891>http://postnauka.ru/video/25891</a></li><li><a href=http://postnauka.ru/video/7767>http://postnauka.ru/video/7767</a></li><li><a href=http://postnauka.ru/video/41350>http://postnauka.ru/video/41350</a></li></ul>"
      ],
      "text/plain": [
       "<IPython.core.display.HTML object>"
      ]
     },
     "metadata": {},
     "output_type": "display_data"
    },
    {
     "data": {
      "text/html": [
       "<h1>мифология</h1>"
      ],
      "text/plain": [
       "<IPython.core.display.HTML object>"
      ]
     },
     "metadata": {},
     "output_type": "display_data"
    },
    {
     "data": {
      "text/html": [
       "<font color=\"green\">бог, миф, греческий, герой, мифология, религия, душа, ритуал, грек, море</font>"
      ],
      "text/plain": [
       "<IPython.core.display.HTML object>"
      ]
     },
     "metadata": {},
     "output_type": "display_data"
    },
    {
     "data": {
      "text/html": [
       "<ul><li><a href=http://postnauka.ru/video/9997>http://postnauka.ru/video/9997</a></li><li><a href=http://postnauka.ru/video/43664>http://postnauka.ru/video/43664</a></li><li><a href=http://postnauka.ru/video/12156>http://postnauka.ru/video/12156</a></li><li><a href=http://postnauka.ru/video/5999>http://postnauka.ru/video/5999</a></li><li><a href=http://postnauka.ru/video/47300>http://postnauka.ru/video/47300</a></li><li><a href=http://postnauka.ru/video/9992>http://postnauka.ru/video/9992</a></li><li><a href=http://postnauka.ru/video/31990>http://postnauka.ru/video/31990</a></li><li><a href=http://postnauka.ru/video/42796>http://postnauka.ru/video/42796</a></li><li><a href=http://postnauka.ru/video/46427>http://postnauka.ru/video/46427</a></li><li><a href=http://postnauka.ru/video/12290>http://postnauka.ru/video/12290</a></li></ul>"
      ],
      "text/plain": [
       "<IPython.core.display.HTML object>"
      ]
     },
     "metadata": {},
     "output_type": "display_data"
    },
    {
     "data": {
      "text/html": [
       "<h1>лингвистика</h1>"
      ],
      "text/plain": [
       "<IPython.core.display.HTML object>"
      ]
     },
     "metadata": {},
     "output_type": "display_data"
    },
    {
     "data": {
      "text/html": [
       "<font color=\"green\">русский, слово, текст, словарь, перевод, корпус, гласный, согласный, говор, немецкий</font>"
      ],
      "text/plain": [
       "<IPython.core.display.HTML object>"
      ]
     },
     "metadata": {},
     "output_type": "display_data"
    },
    {
     "data": {
      "text/html": [
       "<ul><li><a href=http://postnauka.ru/video/10773>http://postnauka.ru/video/10773</a></li><li><a href=http://postnauka.ru/video/51171>http://postnauka.ru/video/51171</a></li><li><a href=http://postnauka.ru/video/8964>http://postnauka.ru/video/8964</a></li><li><a href=http://postnauka.ru/video/40001>http://postnauka.ru/video/40001</a></li><li><a href=http://postnauka.ru/video/48114>http://postnauka.ru/video/48114</a></li><li><a href=http://postnauka.ru/video/41689>http://postnauka.ru/video/41689</a></li><li><a href=http://postnauka.ru/video/48112>http://postnauka.ru/video/48112</a></li><li><a href=http://postnauka.ru/video/3379>http://postnauka.ru/video/3379</a></li><li><a href=http://postnauka.ru/video/36272>http://postnauka.ru/video/36272</a></li><li><a href=http://postnauka.ru/video/53453>http://postnauka.ru/video/53453</a></li></ul>"
      ],
      "text/plain": [
       "<IPython.core.display.HTML object>"
      ]
     },
     "metadata": {},
     "output_type": "display_data"
    },
    {
     "data": {
      "text/html": [
       "<h1>антропология</h1>"
      ],
      "text/plain": [
       "<IPython.core.display.HTML object>"
      ]
     },
     "metadata": {},
     "output_type": "display_data"
    },
    {
     "data": {
      "text/html": [
       "<font color=\"green\">раса, трудность, африка, праздник, шаман, станислав, нос, америка, монголоид, дробышевский</font>"
      ],
      "text/plain": [
       "<IPython.core.display.HTML object>"
      ]
     },
     "metadata": {},
     "output_type": "display_data"
    },
    {
     "data": {
      "text/html": [
       "<ul><li><a href=http://postnauka.ru/video/17397>http://postnauka.ru/video/17397</a></li><li><a href=http://postnauka.ru/video/31707>http://postnauka.ru/video/31707</a></li><li><a href=http://postnauka.ru/video/37732>http://postnauka.ru/video/37732</a></li><li><a href=http://postnauka.ru/video/32898>http://postnauka.ru/video/32898</a></li><li><a href=http://postnauka.ru/video/15341>http://postnauka.ru/video/15341</a></li><li><a href=http://postnauka.ru/video/35150>http://postnauka.ru/video/35150</a></li><li><a href=http://postnauka.ru/video/42707>http://postnauka.ru/video/42707</a></li><li><a href=http://postnauka.ru/video/42735>http://postnauka.ru/video/42735</a></li><li><a href=http://postnauka.ru/video/40880>http://postnauka.ru/video/40880</a></li><li><a href=http://postnauka.ru/video/31675>http://postnauka.ru/video/31675</a></li></ul>"
      ],
      "text/plain": [
       "<IPython.core.display.HTML object>"
      ]
     },
     "metadata": {},
     "output_type": "display_data"
    },
    {
     "data": {
      "text/html": [
       "<h1>право</h1>"
      ],
      "text/plain": [
       "<IPython.core.display.HTML object>"
      ]
     },
     "metadata": {},
     "output_type": "display_data"
    },
    {
     "data": {
      "text/html": [
       "<font color=\"green\">право, римский, правовой, юрист, суд, юридический, должник, собственность, обязательство, владение</font>"
      ],
      "text/plain": [
       "<IPython.core.display.HTML object>"
      ]
     },
     "metadata": {},
     "output_type": "display_data"
    },
    {
     "data": {
      "text/html": [
       "<ul><li><a href=http://postnauka.ru/video/9299>http://postnauka.ru/video/9299</a></li><li><a href=http://postnauka.ru/video/31688>http://postnauka.ru/video/31688</a></li><li><a href=http://postnauka.ru/video/38009>http://postnauka.ru/video/38009</a></li><li><a href=http://postnauka.ru/video/34414>http://postnauka.ru/video/34414</a></li><li><a href=http://postnauka.ru/video/49455>http://postnauka.ru/video/49455</a></li><li><a href=http://postnauka.ru/video/42221>http://postnauka.ru/video/42221</a></li><li><a href=http://postnauka.ru/video/17912>http://postnauka.ru/video/17912</a></li><li><a href=http://postnauka.ru/video/16822>http://postnauka.ru/video/16822</a></li><li><a href=http://postnauka.ru/video/13042>http://postnauka.ru/video/13042</a></li><li><a href=http://postnauka.ru/video/31666>http://postnauka.ru/video/31666</a></li></ul>"
      ],
      "text/plain": [
       "<IPython.core.display.HTML object>"
      ]
     },
     "metadata": {},
     "output_type": "display_data"
    },
    {
     "data": {
      "text/html": [
       "<h1>медицина</h1>"
      ],
      "text/plain": [
       "<IPython.core.display.HTML object>"
      ]
     },
     "metadata": {},
     "output_type": "display_data"
    },
    {
     "data": {
      "text/html": [
       "<font color=\"green\">болезнь, заболевание, пациент, лечение, врач, медицина, боль, препарат, медицинский, лекарство</font>"
      ],
      "text/plain": [
       "<IPython.core.display.HTML object>"
      ]
     },
     "metadata": {},
     "output_type": "display_data"
    },
    {
     "data": {
      "text/html": [
       "<ul><li><a href=http://postnauka.ru/video/13746>http://postnauka.ru/video/13746</a></li><li><a href=http://postnauka.ru/video/12974>http://postnauka.ru/video/12974</a></li><li><a href=http://postnauka.ru/video/7753>http://postnauka.ru/video/7753</a></li><li><a href=http://postnauka.ru/video/2541>http://postnauka.ru/video/2541</a></li><li><a href=http://postnauka.ru/video/532>http://postnauka.ru/video/532</a></li><li><a href=http://postnauka.ru/video/11361>http://postnauka.ru/video/11361</a></li><li><a href=http://postnauka.ru/video/57657>http://postnauka.ru/video/57657</a></li><li><a href=http://postnauka.ru/video/49206>http://postnauka.ru/video/49206</a></li><li><a href=http://postnauka.ru/video/11850>http://postnauka.ru/video/11850</a></li><li><a href=http://postnauka.ru/video/45961>http://postnauka.ru/video/45961</a></li></ul>"
      ],
      "text/plain": [
       "<IPython.core.display.HTML object>"
      ]
     },
     "metadata": {},
     "output_type": "display_data"
    },
    {
     "data": {
      "text/html": [
       "<h1>биология</h1>"
      ],
      "text/plain": [
       "<IPython.core.display.HTML object>"
      ]
     },
     "metadata": {},
     "output_type": "display_data"
    },
    {
     "data": {
      "text/html": [
       "<font color=\"green\">животное, робот, вода, растение, организм, микроорганизм, рецептор, биологический, кислород, метан</font>"
      ],
      "text/plain": [
       "<IPython.core.display.HTML object>"
      ]
     },
     "metadata": {},
     "output_type": "display_data"
    },
    {
     "data": {
      "text/html": [
       "<ul><li><a href=http://postnauka.ru/video/2531>http://postnauka.ru/video/2531</a></li><li><a href=http://postnauka.ru/video/9861>http://postnauka.ru/video/9861</a></li><li><a href=http://postnauka.ru/video/7113>http://postnauka.ru/video/7113</a></li><li><a href=http://postnauka.ru/video/8953>http://postnauka.ru/video/8953</a></li><li><a href=http://postnauka.ru/video/30673>http://postnauka.ru/video/30673</a></li><li><a href=http://postnauka.ru/video/19071>http://postnauka.ru/video/19071</a></li><li><a href=http://postnauka.ru/video/25889>http://postnauka.ru/video/25889</a></li><li><a href=http://postnauka.ru/video/32635>http://postnauka.ru/video/32635</a></li><li><a href=http://postnauka.ru/video/49437>http://postnauka.ru/video/49437</a></li><li><a href=http://postnauka.ru/video/31671>http://postnauka.ru/video/31671</a></li></ul>"
      ],
      "text/plain": [
       "<IPython.core.display.HTML object>"
      ]
     },
     "metadata": {},
     "output_type": "display_data"
    },
    {
     "data": {
      "text/html": [
       "<h1>психология</h1>"
      ],
      "text/plain": [
       "<IPython.core.display.HTML object>"
      ]
     },
     "metadata": {},
     "output_type": "display_data"
    },
    {
     "data": {
      "text/html": [
       "<font color=\"green\">память, психология, восприятие, психологический, сознание, когнитивный, психолог, внимание, эмоциональный, зрительный</font>"
      ],
      "text/plain": [
       "<IPython.core.display.HTML object>"
      ]
     },
     "metadata": {},
     "output_type": "display_data"
    },
    {
     "data": {
      "text/html": [
       "<ul><li><a href=http://postnauka.ru/video/25267>http://postnauka.ru/video/25267</a></li><li><a href=http://postnauka.ru/video/53949>http://postnauka.ru/video/53949</a></li><li><a href=http://postnauka.ru/video/17421>http://postnauka.ru/video/17421</a></li><li><a href=http://postnauka.ru/video/56052>http://postnauka.ru/video/56052</a></li><li><a href=http://postnauka.ru/video/54916>http://postnauka.ru/video/54916</a></li><li><a href=http://postnauka.ru/video/16159>http://postnauka.ru/video/16159</a></li><li><a href=http://postnauka.ru/video/23829>http://postnauka.ru/video/23829</a></li><li><a href=http://postnauka.ru/video/57336>http://postnauka.ru/video/57336</a></li><li><a href=http://postnauka.ru/video/48962>http://postnauka.ru/video/48962</a></li><li><a href=http://postnauka.ru/video/37979>http://postnauka.ru/video/37979</a></li></ul>"
      ],
      "text/plain": [
       "<IPython.core.display.HTML object>"
      ]
     },
     "metadata": {},
     "output_type": "display_data"
    },
    {
     "data": {
      "text/html": [
       "<h1>история</h1>"
      ],
      "text/plain": [
       "<IPython.core.display.HTML object>"
      ]
     },
     "metadata": {},
     "output_type": "display_data"
    },
    {
     "data": {
      "text/html": [
       "<font color=\"green\">германия, университет, русь, святой, князь, немецкий, андрей, византийский, апостол, польский</font>"
      ],
      "text/plain": [
       "<IPython.core.display.HTML object>"
      ]
     },
     "metadata": {},
     "output_type": "display_data"
    },
    {
     "data": {
      "text/html": [
       "<ul><li><a href=http://postnauka.ru/video/3348>http://postnauka.ru/video/3348</a></li><li><a href=http://postnauka.ru/video/24034>http://postnauka.ru/video/24034</a></li><li><a href=http://postnauka.ru/video/24039>http://postnauka.ru/video/24039</a></li><li><a href=http://postnauka.ru/video/19574>http://postnauka.ru/video/19574</a></li><li><a href=http://postnauka.ru/video/32637>http://postnauka.ru/video/32637</a></li><li><a href=http://postnauka.ru/video/24030>http://postnauka.ru/video/24030</a></li><li><a href=http://postnauka.ru/video/23900>http://postnauka.ru/video/23900</a></li><li><a href=http://postnauka.ru/video/50668>http://postnauka.ru/video/50668</a></li><li><a href=http://postnauka.ru/video/47449>http://postnauka.ru/video/47449</a></li><li><a href=http://postnauka.ru/video/34936>http://postnauka.ru/video/34936</a></li></ul>"
      ],
      "text/plain": [
       "<IPython.core.display.HTML object>"
      ]
     },
     "metadata": {},
     "output_type": "display_data"
    },
    {
     "data": {
      "text/html": [
       "<h1>наука</h1>"
      ],
      "text/plain": [
       "<IPython.core.display.HTML object>"
      ]
     },
     "metadata": {},
     "output_type": "display_data"
    },
    {
     "data": {
      "text/html": [
       "<font color=\"green\">город, социальный, общество, наука, исторический, история, рассказывать, понятие, кандидат, политика</font>"
      ],
      "text/plain": [
       "<IPython.core.display.HTML object>"
      ]
     },
     "metadata": {},
     "output_type": "display_data"
    },
    {
     "data": {
      "text/html": [
       "<ul><li><a href=http://postnauka.ru/video/12148>http://postnauka.ru/video/12148</a></li><li><a href=http://postnauka.ru/video/7778>http://postnauka.ru/video/7778</a></li><li><a href=http://postnauka.ru/video/9870>http://postnauka.ru/video/9870</a></li><li><a href=http://postnauka.ru/video/5394>http://postnauka.ru/video/5394</a></li><li><a href=http://postnauka.ru/video/9148>http://postnauka.ru/video/9148</a></li><li><a href=http://postnauka.ru/video/10385>http://postnauka.ru/video/10385</a></li><li><a href=http://postnauka.ru/video/5878>http://postnauka.ru/video/5878</a></li><li><a href=http://postnauka.ru/video/3417>http://postnauka.ru/video/3417</a></li><li><a href=http://postnauka.ru/video/5198>http://postnauka.ru/video/5198</a></li><li><a href=http://postnauka.ru/video/7541>http://postnauka.ru/video/7541</a></li></ul>"
      ],
      "text/plain": [
       "<IPython.core.display.HTML object>"
      ]
     },
     "metadata": {},
     "output_type": "display_data"
    },
    {
     "data": {
      "text/html": [
       "<h1>астрономия</h1>"
      ],
      "text/plain": [
       "<IPython.core.display.HTML object>"
      ]
     },
     "metadata": {},
     "output_type": "display_data"
    },
    {
     "data": {
      "text/html": [
       "<font color=\"green\">галактика, планета, земля, черный, дыра, газ, масса, диск, атмосфера, солнце</font>"
      ],
      "text/plain": [
       "<IPython.core.display.HTML object>"
      ]
     },
     "metadata": {},
     "output_type": "display_data"
    },
    {
     "data": {
      "text/html": [
       "<ul><li><a href=http://postnauka.ru/video/2971>http://postnauka.ru/video/2971</a></li><li><a href=http://postnauka.ru/video/48109>http://postnauka.ru/video/48109</a></li><li><a href=http://postnauka.ru/video/9835>http://postnauka.ru/video/9835</a></li><li><a href=http://postnauka.ru/video/49451>http://postnauka.ru/video/49451</a></li><li><a href=http://postnauka.ru/video/57338>http://postnauka.ru/video/57338</a></li><li><a href=http://postnauka.ru/video/31193>http://postnauka.ru/video/31193</a></li><li><a href=http://postnauka.ru/video/31695>http://postnauka.ru/video/31695</a></li><li><a href=http://postnauka.ru/video/3423>http://postnauka.ru/video/3423</a></li><li><a href=http://postnauka.ru/video/59636>http://postnauka.ru/video/59636</a></li><li><a href=http://postnauka.ru/video/58744>http://postnauka.ru/video/58744</a></li></ul>"
      ],
      "text/plain": [
       "<IPython.core.display.HTML object>"
      ]
     },
     "metadata": {},
     "output_type": "display_data"
    },
    {
     "data": {
      "text/html": [
       "<h1>экономика</h1>"
      ],
      "text/plain": [
       "<IPython.core.display.HTML object>"
      ]
     },
     "metadata": {},
     "output_type": "display_data"
    },
    {
     "data": {
      "text/html": [
       "<font color=\"green\">решение, экономический, экономика, деньги, компания, принятие, оценка, критерий, рынок, выбор</font>"
      ],
      "text/plain": [
       "<IPython.core.display.HTML object>"
      ]
     },
     "metadata": {},
     "output_type": "display_data"
    },
    {
     "data": {
      "text/html": [
       "<ul><li><a href=http://postnauka.ru/video/26616>http://postnauka.ru/video/26616</a></li><li><a href=http://postnauka.ru/video/24286>http://postnauka.ru/video/24286</a></li><li><a href=http://postnauka.ru/video/53415>http://postnauka.ru/video/53415</a></li><li><a href=http://postnauka.ru/video/5465>http://postnauka.ru/video/5465</a></li><li><a href=http://postnauka.ru/video/13152>http://postnauka.ru/video/13152</a></li><li><a href=http://postnauka.ru/video/6376>http://postnauka.ru/video/6376</a></li><li><a href=http://postnauka.ru/video/27823>http://postnauka.ru/video/27823</a></li><li><a href=http://postnauka.ru/video/7781>http://postnauka.ru/video/7781</a></li><li><a href=http://postnauka.ru/video/24457>http://postnauka.ru/video/24457</a></li><li><a href=http://postnauka.ru/video/28282>http://postnauka.ru/video/28282</a></li></ul>"
      ],
      "text/plain": [
       "<IPython.core.display.HTML object>"
      ]
     },
     "metadata": {},
     "output_type": "display_data"
    },
    {
     "data": {
      "text/html": [
       "<h1>семейная психология</h1>"
      ],
      "text/plain": [
       "<IPython.core.display.HTML object>"
      ]
     },
     "metadata": {},
     "output_type": "display_data"
    },
    {
     "data": {
      "text/html": [
       "<font color=\"green\">ребенок, женщина, поведение, семья, эмоция, личность, мужчина, коллективный, конфликт, мать</font>"
      ],
      "text/plain": [
       "<IPython.core.display.HTML object>"
      ]
     },
     "metadata": {},
     "output_type": "display_data"
    },
    {
     "data": {
      "text/html": [
       "<ul><li><a href=http://postnauka.ru/video/22892>http://postnauka.ru/video/22892</a></li><li><a href=http://postnauka.ru/video/26223>http://postnauka.ru/video/26223</a></li><li><a href=http://postnauka.ru/video/21643>http://postnauka.ru/video/21643</a></li><li><a href=http://postnauka.ru/video/52948>http://postnauka.ru/video/52948</a></li><li><a href=http://postnauka.ru/video/30678>http://postnauka.ru/video/30678</a></li><li><a href=http://postnauka.ru/video/9865>http://postnauka.ru/video/9865</a></li><li><a href=http://postnauka.ru/video/22883>http://postnauka.ru/video/22883</a></li><li><a href=http://postnauka.ru/video/31220>http://postnauka.ru/video/31220</a></li><li><a href=http://postnauka.ru/video/40266>http://postnauka.ru/video/40266</a></li><li><a href=http://postnauka.ru/video/2946>http://postnauka.ru/video/2946</a></li></ul>"
      ],
      "text/plain": [
       "<IPython.core.display.HTML object>"
      ]
     },
     "metadata": {},
     "output_type": "display_data"
    },
    {
     "data": {
      "text/html": [
       "<h1>информатика</h1>"
      ],
      "text/plain": [
       "<IPython.core.display.HTML object>"
      ]
     },
     "metadata": {},
     "output_type": "display_data"
    },
    {
     "data": {
      "text/html": [
       "<font color=\"green\">задача, данные, компьютер, сеть, программа, компьютерный, алгоритм, интеллект, искусственный, интернет</font>"
      ],
      "text/plain": [
       "<IPython.core.display.HTML object>"
      ]
     },
     "metadata": {},
     "output_type": "display_data"
    },
    {
     "data": {
      "text/html": [
       "<ul><li><a href=http://postnauka.ru/video/8313>http://postnauka.ru/video/8313</a></li><li><a href=http://postnauka.ru/video/24306>http://postnauka.ru/video/24306</a></li><li><a href=http://postnauka.ru/video/32901>http://postnauka.ru/video/32901</a></li><li><a href=http://postnauka.ru/video/9998>http://postnauka.ru/video/9998</a></li><li><a href=http://postnauka.ru/video/12172>http://postnauka.ru/video/12172</a></li><li><a href=http://postnauka.ru/video/33885>http://postnauka.ru/video/33885</a></li><li><a href=http://postnauka.ru/video/34964>http://postnauka.ru/video/34964</a></li><li><a href=http://postnauka.ru/video/26228>http://postnauka.ru/video/26228</a></li><li><a href=http://postnauka.ru/video/47810>http://postnauka.ru/video/47810</a></li><li><a href=http://postnauka.ru/video/53575>http://postnauka.ru/video/53575</a></li></ul>"
      ],
      "text/plain": [
       "<IPython.core.display.HTML object>"
      ]
     },
     "metadata": {},
     "output_type": "display_data"
    },
    {
     "data": {
      "text/html": [
       "<h1>востоковедение</h1>"
      ],
      "text/plain": [
       "<IPython.core.display.HTML object>"
      ]
     },
     "metadata": {},
     "output_type": "display_data"
    },
    {
     "data": {
      "text/html": [
       "<font color=\"green\">территория, империя, восток, древний, письменность, китай, памятник, северный, восточный, китайский</font>"
      ],
      "text/plain": [
       "<IPython.core.display.HTML object>"
      ]
     },
     "metadata": {},
     "output_type": "display_data"
    },
    {
     "data": {
      "text/html": [
       "<ul><li><a href=http://postnauka.ru/video/53171>http://postnauka.ru/video/53171</a></li><li><a href=http://postnauka.ru/video/5891>http://postnauka.ru/video/5891</a></li><li><a href=http://postnauka.ru/video/59201>http://postnauka.ru/video/59201</a></li><li><a href=http://postnauka.ru/video/2527>http://postnauka.ru/video/2527</a></li><li><a href=http://postnauka.ru/video/51380>http://postnauka.ru/video/51380</a></li><li><a href=http://postnauka.ru/video/17041>http://postnauka.ru/video/17041</a></li><li><a href=http://postnauka.ru/video/56302>http://postnauka.ru/video/56302</a></li><li><a href=http://postnauka.ru/video/6377>http://postnauka.ru/video/6377</a></li><li><a href=http://postnauka.ru/video/52958>http://postnauka.ru/video/52958</a></li><li><a href=http://postnauka.ru/video/45458>http://postnauka.ru/video/45458</a></li></ul>"
      ],
      "text/plain": [
       "<IPython.core.display.HTML object>"
      ]
     },
     "metadata": {},
     "output_type": "display_data"
    },
    {
     "data": {
      "text/html": [
       "<h1>микробиология</h1>"
      ],
      "text/plain": [
       "<IPython.core.display.HTML object>"
      ]
     },
     "metadata": {},
     "output_type": "display_data"
    },
    {
     "data": {
      "text/html": [
       "<font color=\"green\">клетка, ген, днк, белок, организм, генетический, молекула, геном, бактерия, рнк</font>"
      ],
      "text/plain": [
       "<IPython.core.display.HTML object>"
      ]
     },
     "metadata": {},
     "output_type": "display_data"
    },
    {
     "data": {
      "text/html": [
       "<ul><li><a href=http://postnauka.ru/video/5915>http://postnauka.ru/video/5915</a></li><li><a href=http://postnauka.ru/video/5390>http://postnauka.ru/video/5390</a></li><li><a href=http://postnauka.ru/video/19436>http://postnauka.ru/video/19436</a></li><li><a href=http://postnauka.ru/video/17051>http://postnauka.ru/video/17051</a></li><li><a href=http://postnauka.ru/video/10475>http://postnauka.ru/video/10475</a></li><li><a href=http://postnauka.ru/video/35051>http://postnauka.ru/video/35051</a></li><li><a href=http://postnauka.ru/video/35461>http://postnauka.ru/video/35461</a></li><li><a href=http://postnauka.ru/video/16156>http://postnauka.ru/video/16156</a></li><li><a href=http://postnauka.ru/video/11628>http://postnauka.ru/video/11628</a></li><li><a href=http://postnauka.ru/video/37537>http://postnauka.ru/video/37537</a></li></ul>"
      ],
      "text/plain": [
       "<IPython.core.display.HTML object>"
      ]
     },
     "metadata": {},
     "output_type": "display_data"
    },
    {
     "data": {
      "text/html": [
       "<h1>квантовая физика</h1>"
      ],
      "text/plain": [
       "<IPython.core.display.HTML object>"
      ]
     },
     "metadata": {},
     "output_type": "display_data"
    },
    {
     "data": {
      "text/html": [
       "<font color=\"green\">квантовый, поле, атом, магнитный, электрон, свет, волна, фотон, эффект, измерение</font>"
      ],
      "text/plain": [
       "<IPython.core.display.HTML object>"
      ]
     },
     "metadata": {},
     "output_type": "display_data"
    },
    {
     "data": {
      "text/html": [
       "<ul><li><a href=http://postnauka.ru/video/21662>http://postnauka.ru/video/21662</a></li><li><a href=http://postnauka.ru/video/25875>http://postnauka.ru/video/25875</a></li><li><a href=http://postnauka.ru/video/19457>http://postnauka.ru/video/19457</a></li><li><a href=http://postnauka.ru/video/25902>http://postnauka.ru/video/25902</a></li><li><a href=http://postnauka.ru/video/19509>http://postnauka.ru/video/19509</a></li><li><a href=http://postnauka.ru/video/36187>http://postnauka.ru/video/36187</a></li><li><a href=http://postnauka.ru/video/24434>http://postnauka.ru/video/24434</a></li><li><a href=http://postnauka.ru/video/51174>http://postnauka.ru/video/51174</a></li><li><a href=http://postnauka.ru/video/26609>http://postnauka.ru/video/26609</a></li><li><a href=http://postnauka.ru/video/27829>http://postnauka.ru/video/27829</a></li></ul>"
      ],
      "text/plain": [
       "<IPython.core.display.HTML object>"
      ]
     },
     "metadata": {},
     "output_type": "display_data"
    },
    {
     "data": {
      "text/html": [
       "<h1>литература</h1>"
      ],
      "text/plain": [
       "<IPython.core.display.HTML object>"
      ]
     },
     "metadata": {},
     "output_type": "display_data"
    },
    {
     "data": {
      "text/html": [
       "<font color=\"green\">культура, философия, философский, литература, философ, литературный, произведение, роман, автор, платон</font>"
      ],
      "text/plain": [
       "<IPython.core.display.HTML object>"
      ]
     },
     "metadata": {},
     "output_type": "display_data"
    },
    {
     "data": {
      "text/html": [
       "<ul><li><a href=http://postnauka.ru/video/12738>http://postnauka.ru/video/12738</a></li><li><a href=http://postnauka.ru/video/2524>http://postnauka.ru/video/2524</a></li><li><a href=http://postnauka.ru/video/2529>http://postnauka.ru/video/2529</a></li><li><a href=http://postnauka.ru/video/9728>http://postnauka.ru/video/9728</a></li><li><a href=http://postnauka.ru/video/7764>http://postnauka.ru/video/7764</a></li><li><a href=http://postnauka.ru/video/23834>http://postnauka.ru/video/23834</a></li><li><a href=http://postnauka.ru/video/32664>http://postnauka.ru/video/32664</a></li><li><a href=http://postnauka.ru/video/53513>http://postnauka.ru/video/53513</a></li><li><a href=http://postnauka.ru/video/26234>http://postnauka.ru/video/26234</a></li><li><a href=http://postnauka.ru/video/22570>http://postnauka.ru/video/22570</a></li></ul>"
      ],
      "text/plain": [
       "<IPython.core.display.HTML object>"
      ]
     },
     "metadata": {},
     "output_type": "display_data"
    },
    {
     "data": {
      "text/html": [
       "<h1>политика</h1>"
      ],
      "text/plain": [
       "<IPython.core.display.HTML object>"
      ]
     },
     "metadata": {},
     "output_type": "display_data"
    },
    {
     "data": {
      "text/html": [
       "<font color=\"green\">революция, король, страна, государственный, французский, реформа, петр, франция, против, сталин</font>"
      ],
      "text/plain": [
       "<IPython.core.display.HTML object>"
      ]
     },
     "metadata": {},
     "output_type": "display_data"
    },
    {
     "data": {
      "text/html": [
       "<ul><li><a href=http://postnauka.ru/video/53577>http://postnauka.ru/video/53577</a></li><li><a href=http://postnauka.ru/video/36246>http://postnauka.ru/video/36246</a></li><li><a href=http://postnauka.ru/video/48492>http://postnauka.ru/video/48492</a></li><li><a href=http://postnauka.ru/video/47823>http://postnauka.ru/video/47823</a></li><li><a href=http://postnauka.ru/video/51331>http://postnauka.ru/video/51331</a></li><li><a href=http://postnauka.ru/video/54175>http://postnauka.ru/video/54175</a></li><li><a href=http://postnauka.ru/video/50656>http://postnauka.ru/video/50656</a></li><li><a href=http://postnauka.ru/video/25882>http://postnauka.ru/video/25882</a></li><li><a href=http://postnauka.ru/video/1893>http://postnauka.ru/video/1893</a></li><li><a href=http://postnauka.ru/video/58542>http://postnauka.ru/video/58542</a></li></ul>"
      ],
      "text/plain": [
       "<IPython.core.display.HTML object>"
      ]
     },
     "metadata": {},
     "output_type": "display_data"
    },
    {
     "data": {
      "text/html": [
       "<h1>истрория ссср</h1>"
      ],
      "text/plain": [
       "<IPython.core.display.HTML object>"
      ]
     },
     "metadata": {},
     "output_type": "display_data"
    },
    {
     "data": {
      "text/html": [
       "<font color=\"green\">война, россия, советский, мировой, военный, союз, гражданский, песня, армия, обряд</font>"
      ],
      "text/plain": [
       "<IPython.core.display.HTML object>"
      ]
     },
     "metadata": {},
     "output_type": "display_data"
    },
    {
     "data": {
      "text/html": [
       "<ul><li><a href=http://postnauka.ru/video/25906>http://postnauka.ru/video/25906</a></li><li><a href=http://postnauka.ru/video/25097>http://postnauka.ru/video/25097</a></li><li><a href=http://postnauka.ru/video/34413>http://postnauka.ru/video/34413</a></li><li><a href=http://postnauka.ru/video/46939>http://postnauka.ru/video/46939</a></li><li><a href=http://postnauka.ru/video/52936>http://postnauka.ru/video/52936</a></li><li><a href=http://postnauka.ru/video/30261>http://postnauka.ru/video/30261</a></li><li><a href=http://postnauka.ru/video/57259>http://postnauka.ru/video/57259</a></li><li><a href=http://postnauka.ru/video/47816>http://postnauka.ru/video/47816</a></li><li><a href=http://postnauka.ru/video/55219>http://postnauka.ru/video/55219</a></li><li><a href=http://postnauka.ru/video/41680>http://postnauka.ru/video/41680</a></li></ul>"
      ],
      "text/plain": [
       "<IPython.core.display.HTML object>"
      ]
     },
     "metadata": {},
     "output_type": "display_data"
    },
    {
     "data": {
      "text/html": [
       "<h1>филология</h1>"
      ],
      "text/plain": [
       "<IPython.core.display.HTML object>"
      ]
     },
     "metadata": {},
     "output_type": "display_data"
    },
    {
     "data": {
      "text/html": [
       "<font color=\"green\">язык, христианский, лингвист, христианство, глагол, лингвистика, языковой, христианин, грамматика, филологический</font>"
      ],
      "text/plain": [
       "<IPython.core.display.HTML object>"
      ]
     },
     "metadata": {},
     "output_type": "display_data"
    },
    {
     "data": {
      "text/html": [
       "<ul><li><a href=http://postnauka.ru/video/7755>http://postnauka.ru/video/7755</a></li><li><a href=http://postnauka.ru/video/13041>http://postnauka.ru/video/13041</a></li><li><a href=http://postnauka.ru/video/55301>http://postnauka.ru/video/55301</a></li><li><a href=http://postnauka.ru/video/10473>http://postnauka.ru/video/10473</a></li><li><a href=http://postnauka.ru/video/52778>http://postnauka.ru/video/52778</a></li><li><a href=http://postnauka.ru/video/53169>http://postnauka.ru/video/53169</a></li><li><a href=http://postnauka.ru/video/22433>http://postnauka.ru/video/22433</a></li><li><a href=http://postnauka.ru/video/16157>http://postnauka.ru/video/16157</a></li><li><a href=http://postnauka.ru/video/9556>http://postnauka.ru/video/9556</a></li><li><a href=http://postnauka.ru/video/48959>http://postnauka.ru/video/48959</a></li></ul>"
      ],
      "text/plain": [
       "<IPython.core.display.HTML object>"
      ]
     },
     "metadata": {},
     "output_type": "display_data"
    },
    {
     "data": {
      "text/html": [
       "<h1>математика</h1>"
      ],
      "text/plain": [
       "<IPython.core.display.HTML object>"
      ]
     },
     "metadata": {},
     "output_type": "display_data"
    },
    {
     "data": {
      "text/html": [
       "<font color=\"green\">теория, пространство, математический, уравнение, матрица, математика, описывать, описание, эйнштейн, относительность</font>"
      ],
      "text/plain": [
       "<IPython.core.display.HTML object>"
      ]
     },
     "metadata": {},
     "output_type": "display_data"
    },
    {
     "data": {
      "text/html": [
       "<ul><li><a href=http://postnauka.ru/video/3388>http://postnauka.ru/video/3388</a></li><li><a href=http://postnauka.ru/video/57128>http://postnauka.ru/video/57128</a></li><li><a href=http://postnauka.ru/video/36804>http://postnauka.ru/video/36804</a></li><li><a href=http://postnauka.ru/video/55069>http://postnauka.ru/video/55069</a></li><li><a href=http://postnauka.ru/video/18086>http://postnauka.ru/video/18086</a></li><li><a href=http://postnauka.ru/video/7032>http://postnauka.ru/video/7032</a></li><li><a href=http://postnauka.ru/video/19456>http://postnauka.ru/video/19456</a></li><li><a href=http://postnauka.ru/video/18085>http://postnauka.ru/video/18085</a></li><li><a href=http://postnauka.ru/video/51371>http://postnauka.ru/video/51371</a></li><li><a href=http://postnauka.ru/video/11651>http://postnauka.ru/video/11651</a></li></ul>"
      ],
      "text/plain": [
       "<IPython.core.display.HTML object>"
      ]
     },
     "metadata": {},
     "output_type": "display_data"
    },
    {
     "data": {
      "text/html": [
       "<h1>искусство</h1>"
      ],
      "text/plain": [
       "<IPython.core.display.HTML object>"
      ]
     },
     "metadata": {},
     "output_type": "display_data"
    },
    {
     "data": {
      "text/html": [
       "<font color=\"green\">театр, костюм, актер, пьеса, театральный, сцена, фильтр, скелет, телесный, зритель</font>"
      ],
      "text/plain": [
       "<IPython.core.display.HTML object>"
      ]
     },
     "metadata": {},
     "output_type": "display_data"
    },
    {
     "data": {
      "text/html": [
       "<ul><li><a href=http://postnauka.ru/video/40004>http://postnauka.ru/video/40004</a></li><li><a href=http://postnauka.ru/video/43843>http://postnauka.ru/video/43843</a></li><li><a href=http://postnauka.ru/video/31228>http://postnauka.ru/video/31228</a></li><li><a href=http://postnauka.ru/video/49866>http://postnauka.ru/video/49866</a></li><li><a href=http://postnauka.ru/video/57127>http://postnauka.ru/video/57127</a></li><li><a href=http://postnauka.ru/video/37978>http://postnauka.ru/video/37978</a></li><li><a href=http://postnauka.ru/video/48624>http://postnauka.ru/video/48624</a></li><li><a href=http://postnauka.ru/video/13156>http://postnauka.ru/video/13156</a></li><li><a href=http://postnauka.ru/video/57524>http://postnauka.ru/video/57524</a></li><li><a href=http://postnauka.ru/video/46559>http://postnauka.ru/video/46559</a></li></ul>"
      ],
      "text/plain": [
       "<IPython.core.display.HTML object>"
      ]
     },
     "metadata": {},
     "output_type": "display_data"
    },
    {
     "data": {
      "text/html": [
       "<h1>астрофизика</h1>"
      ],
      "text/plain": [
       "<IPython.core.display.HTML object>"
      ]
     },
     "metadata": {},
     "output_type": "display_data"
    },
    {
     "data": {
      "text/html": [
       "<font color=\"green\">звезда, вселенная, излучение, скорость, объект, телескоп, космический, белый, гравитационный, нейтронный</font>"
      ],
      "text/plain": [
       "<IPython.core.display.HTML object>"
      ]
     },
     "metadata": {},
     "output_type": "display_data"
    },
    {
     "data": {
      "text/html": [
       "<ul><li><a href=http://postnauka.ru/video/53693>http://postnauka.ru/video/53693</a></li><li><a href=http://postnauka.ru/video/6673>http://postnauka.ru/video/6673</a></li><li><a href=http://postnauka.ru/video/7067>http://postnauka.ru/video/7067</a></li><li><a href=http://postnauka.ru/video/30015>http://postnauka.ru/video/30015</a></li><li><a href=http://postnauka.ru/video/17779>http://postnauka.ru/video/17779</a></li><li><a href=http://postnauka.ru/video/59202>http://postnauka.ru/video/59202</a></li><li><a href=http://postnauka.ru/video/23969>http://postnauka.ru/video/23969</a></li><li><a href=http://postnauka.ru/video/19085>http://postnauka.ru/video/19085</a></li><li><a href=http://postnauka.ru/video/10756>http://postnauka.ru/video/10756</a></li><li><a href=http://postnauka.ru/video/23500>http://postnauka.ru/video/23500</a></li></ul>"
      ],
      "text/plain": [
       "<IPython.core.display.HTML object>"
      ]
     },
     "metadata": {},
     "output_type": "display_data"
    },
    {
     "data": {
      "text/html": [
       "<h1>культура</h1>"
      ],
      "text/plain": [
       "<IPython.core.display.HTML object>"
      ]
     },
     "metadata": {},
     "output_type": "display_data"
    },
    {
     "data": {
      "text/html": [
       "<font color=\"green\">фильм, свобода, кино, кинематограф, культовый, климат, глобальный, бердяев, вечный, жанр</font>"
      ],
      "text/plain": [
       "<IPython.core.display.HTML object>"
      ]
     },
     "metadata": {},
     "output_type": "display_data"
    },
    {
     "data": {
      "text/html": [
       "<ul><li><a href=http://postnauka.ru/video/5396>http://postnauka.ru/video/5396</a></li><li><a href=http://postnauka.ru/video/9429>http://postnauka.ru/video/9429</a></li><li><a href=http://postnauka.ru/video/13098>http://postnauka.ru/video/13098</a></li><li><a href=http://postnauka.ru/video/10779>http://postnauka.ru/video/10779</a></li><li><a href=http://postnauka.ru/video/39723>http://postnauka.ru/video/39723</a></li><li><a href=http://postnauka.ru/video/11246>http://postnauka.ru/video/11246</a></li><li><a href=http://postnauka.ru/video/10759>http://postnauka.ru/video/10759</a></li><li><a href=http://postnauka.ru/video/13541>http://postnauka.ru/video/13541</a></li><li><a href=http://postnauka.ru/video/7074>http://postnauka.ru/video/7074</a></li><li><a href=http://postnauka.ru/video/57126>http://postnauka.ru/video/57126</a></li></ul>"
      ],
      "text/plain": [
       "<IPython.core.display.HTML object>"
      ]
     },
     "metadata": {},
     "output_type": "display_data"
    },
    {
     "data": {
      "text/html": [
       "<h1>Фоновая тема</h1>"
      ],
      "text/plain": [
       "<IPython.core.display.HTML object>"
      ]
     },
     "metadata": {},
     "output_type": "display_data"
    },
    {
     "data": {
      "text/html": [
       "<font color=\"green\">быть, что, это, который, этот, как, они, мочь, такой, очень</font>"
      ],
      "text/plain": [
       "<IPython.core.display.HTML object>"
      ]
     },
     "metadata": {},
     "output_type": "display_data"
    },
    {
     "data": {
      "text/html": [
       "<ul><li><a href=http://postnauka.ru/video/51365>http://postnauka.ru/video/51365</a></li><li><a href=http://postnauka.ru/video/58752>http://postnauka.ru/video/58752</a></li><li><a href=http://postnauka.ru/video/42436>http://postnauka.ru/video/42436</a></li><li><a href=http://postnauka.ru/video/49851>http://postnauka.ru/video/49851</a></li><li><a href=http://postnauka.ru/video/23886>http://postnauka.ru/video/23886</a></li><li><a href=http://postnauka.ru/video/10750>http://postnauka.ru/video/10750</a></li><li><a href=http://postnauka.ru/video/31214>http://postnauka.ru/video/31214</a></li><li><a href=http://postnauka.ru/video/55760>http://postnauka.ru/video/55760</a></li><li><a href=http://postnauka.ru/video/51184>http://postnauka.ru/video/51184</a></li><li><a href=http://postnauka.ru/video/46943>http://postnauka.ru/video/46943</a></li></ul>"
      ],
      "text/plain": [
       "<IPython.core.display.HTML object>"
      ]
     },
     "metadata": {},
     "output_type": "display_data"
    }
   ],
   "source": [
    "# Ваш код\n",
    "for i in zip(all_idxs, topic_labels):\n",
    "    display(HTML(f\"<h1>{i[1]}</h1>\"))\n",
    "    top_words = \", \".join(model_artm.score_tracker[\"top_text\"].last_tokens[i[0]][:10])\n",
    "    display(HTML(f'<font color=\"green\">{top_words}</font>'))\n",
    "\n",
    "\n",
    "    doc_string = '<ul>'\n",
    "    for doc in df.loc[i[0],:].sort_values(ascending=False)[:10].iteritems():\n",
    "        doc_string += f'<li><a href={doc[0]}>{doc[0]}</a></li>'\n",
    "    doc_string += '</ul>'\n",
    "    display(HTML(doc_string))\n",
    "\n",
    "\n",
    "\n"
   ]
  },
  {
   "cell_type": "markdown",
   "metadata": {},
   "source": [
    "##### Заключение"
   ]
  },
  {
   "cell_type": "markdown",
   "metadata": {},
   "source": [
    "В этом Peer Review мы познакомились с базовыми возможностями библиотеки BigARTM и с методами визуализации тематических моделей. Визуализация тематических моделей - это широкая и активно развивающаяся область научных исследований. Мы рассмотрели только самые простые приемы. Желающие могут попробовать применить [Serendip](http://vep.cs.wisc.edu/serendip/#serendipHero), разработанный в  University of Wisconsin-Madison, к построенной модели. Эта библиотека позволяет максимально полно охарактеризовать темы и написана для языка python. \n",
    "\n",
    "Сделав задание, вы можете выбрать в навигаторе наиболее интересную для вас тему и посмотреть видеолекции :) На Постнауке очень много интересных материалов. "
   ]
  }
 ],
 "metadata": {
  "kernelspec": {
   "display_name": "Python 3 (ipykernel)",
   "language": "python",
   "name": "python3"
  },
  "language_info": {
   "codemirror_mode": {
    "name": "ipython",
    "version": 3
   },
   "file_extension": ".py",
   "mimetype": "text/x-python",
   "name": "python",
   "nbconvert_exporter": "python",
   "pygments_lexer": "ipython3",
   "version": "3.7.11"
  }
 },
 "nbformat": 4,
 "nbformat_minor": 1
}
