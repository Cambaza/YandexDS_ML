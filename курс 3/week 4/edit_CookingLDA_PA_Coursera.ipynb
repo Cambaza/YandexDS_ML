{
 "cells": [
  {
   "cell_type": "markdown",
   "metadata": {},
   "source": [
    "# Programming Assignment: \n",
    "## Готовим LDA по рецептам"
   ]
  },
  {
   "cell_type": "markdown",
   "metadata": {},
   "source": [
    "Как вы уже знаете, в тематическом моделировании делается предположение о том, что для определения тематики порядок слов в документе не важен; об этом гласит гипотеза «мешка слов». Сегодня мы будем работать с несколько нестандартной для тематического моделирования коллекцией, которую можно назвать «мешком ингредиентов», потому что на состоит из рецептов блюд разных кухонь. Тематические модели ищут слова, которые часто вместе встречаются в документах, и составляют из них темы. Мы попробуем применить эту идею к рецептам и найти кулинарные «темы». Эта коллекция хороша тем, что не требует предобработки. Кроме того, эта задача достаточно наглядно иллюстрирует принцип работы тематических моделей.\n",
    "\n",
    "Для выполнения заданий, помимо часто используемых в курсе библиотек, потребуются модули *json* и *gensim*. Первый входит в дистрибутив Anaconda, второй можно поставить командой \n",
    "\n",
    "*pip install gensim*\n",
    "\n",
    "Построение модели занимает некоторое время. На ноутбуке с процессором Intel Core i7 и тактовой частотой 2400 МГц на построение одной модели уходит менее 10 минут."
   ]
  },
  {
   "cell_type": "markdown",
   "metadata": {},
   "source": [
    "### Загрузка данных"
   ]
  },
  {
   "cell_type": "markdown",
   "metadata": {},
   "source": [
    "Коллекция дана в json-формате: для каждого рецепта известны его id, кухня (cuisine) и список ингредиентов, в него входящих. Загрузить данные можно с помощью модуля json (он входит в дистрибутив Anaconda):"
   ]
  },
  {
   "cell_type": "code",
   "execution_count": 63,
   "metadata": {},
   "outputs": [],
   "source": [
    "import json"
   ]
  },
  {
   "cell_type": "code",
   "execution_count": 64,
   "metadata": {},
   "outputs": [],
   "source": [
    "with open(\"recipes.json\") as f:\n",
    "    recipes = json.load(f)"
   ]
  },
  {
   "cell_type": "code",
   "execution_count": 65,
   "metadata": {},
   "outputs": [
    {
     "name": "stdout",
     "output_type": "stream",
     "text": [
      "{'id': 10259, 'cuisine': 'greek', 'ingredients': ['romaine lettuce', 'black olives', 'grape tomatoes', 'garlic', 'pepper', 'purple onion', 'seasoning', 'garbanzo beans', 'feta cheese crumbles']}\n"
     ]
    }
   ],
   "source": [
    "print(recipes[0])"
   ]
  },
  {
   "cell_type": "markdown",
   "metadata": {},
   "source": [
    "### Составление корпуса"
   ]
  },
  {
   "cell_type": "code",
   "execution_count": 66,
   "metadata": {},
   "outputs": [],
   "source": [
    "from gensim import corpora, models\n",
    "import numpy as np"
   ]
  },
  {
   "cell_type": "markdown",
   "metadata": {},
   "source": [
    "Наша коллекция небольшая, и целиком помещается в оперативную память. Gensim может работать с такими данными и не требует их сохранения на диск в специальном формате. Для этого коллекция должна быть представлена в виде списка списков, каждый внутренний список соответствует отдельному документу и состоит из его слов. Пример коллекции из двух документов: \n",
    "\n",
    "[[\"hello\", \"world\"], [\"programming\", \"in\", \"python\"]]\n",
    "\n",
    "Преобразуем наши данные в такой формат, а затем создадим объекты corpus и dictionary, с которыми будет работать модель."
   ]
  },
  {
   "cell_type": "code",
   "execution_count": 67,
   "metadata": {},
   "outputs": [],
   "source": [
    "texts = [recipe[\"ingredients\"] for recipe in recipes]\n",
    "dictionary = corpora.Dictionary(texts)   # составляем словарь\n",
    "corpus = [dictionary.doc2bow(text) for text in texts]  # составляем корпус документов"
   ]
  },
  {
   "cell_type": "code",
   "execution_count": 68,
   "metadata": {},
   "outputs": [],
   "source": []
  },
  {
   "cell_type": "code",
   "execution_count": 69,
   "metadata": {},
   "outputs": [
    {
     "name": "stdout",
     "output_type": "stream",
     "text": [
      "['romaine lettuce', 'black olives', 'grape tomatoes', 'garlic', 'pepper', 'purple onion', 'seasoning', 'garbanzo beans', 'feta cheese crumbles']\n",
      "[(0, 1), (1, 1), (2, 1), (3, 1), (4, 1), (5, 1), (6, 1), (7, 1), (8, 1)]\n"
     ]
    }
   ],
   "source": [
    "print(texts[0])\n",
    "print(corpus[0])"
   ]
  },
  {
   "cell_type": "markdown",
   "metadata": {},
   "source": [
    "У объекта dictionary есть полезная переменная dictionary.token2id, позволяющая находить соответствие между ингредиентами и их индексами."
   ]
  },
  {
   "cell_type": "markdown",
   "metadata": {},
   "source": [
    "### Обучение модели\n",
    "Вам может понадобиться [документация](https://radimrehurek.com/gensim/models/ldamodel.html) LDA в gensim."
   ]
  },
  {
   "cell_type": "markdown",
   "metadata": {},
   "source": [
    "__Задание 1.__ Обучите модель LDA с 40 темами, установив количество проходов по коллекции 5 и оставив остальные параметры по умолчанию. \n",
    "\n",
    "\n",
    "Затем вызовите метод модели *show_topics*, указав количество тем 40 и количество токенов 10, и сохраните результат (топы ингредиентов в темах) в отдельную переменную. Если при вызове метода *show_topics* указать параметр *formatted=True*, то топы ингредиентов будет удобно выводить на печать, если *formatted=False*, будет удобно работать со списком программно. Выведите топы на печать, рассмотрите темы, а затем ответьте на вопрос:\n",
    "\n",
    "Сколько раз ингредиенты \"salt\", \"sugar\", \"water\", \"mushrooms\", \"chicken\", \"eggs\" встретились среди топов-10 всех 40 тем? При ответе __не нужно__ учитывать составные ингредиенты, например, \"hot water\".\n",
    "\n",
    "Передайте 6 чисел в функцию save_answers1 и загрузите сгенерированный файл в форму.\n",
    "\n",
    "У gensim нет возможности фиксировать случайное приближение через параметры метода, но библиотека использует numpy для инициализации матриц. Поэтому, по утверждению автора библиотеки, фиксировать случайное приближение нужно командой, которая написана в следующей ячейке. __Перед строкой кода с построением модели обязательно вставляйте указанную строку фиксации random.seed.__"
   ]
  },
  {
   "cell_type": "code",
   "execution_count": 70,
   "metadata": {},
   "outputs": [],
   "source": [
    "np.random.seed(76543)\n",
    "# здесь код для построения модели:\n",
    "ldamodel = models.ldamodel.LdaModel(corpus, id2word=dictionary, num_topics=40, passes=5)\n"
   ]
  },
  {
   "cell_type": "code",
   "execution_count": 71,
   "metadata": {},
   "outputs": [
    {
     "data": {
      "text/plain": [
       "[(0,\n",
       "  '0.106*\"chopped onion\" + 0.083*\"garlic cloves\" + 0.064*\"salt\" + 0.055*\"fat free less sodium chicken broth\" + 0.048*\"sliced green onions\" + 0.047*\"cooking spray\" + 0.045*\"ground red pepper\" + 0.045*\"water\" + 0.038*\"spinach\" + 0.030*\"black pepper\"'),\n",
       " (1,\n",
       "  '0.101*\"corn kernels\" + 0.086*\"diced onions\" + 0.072*\"tortillas\" + 0.066*\"vegetable stock\" + 0.050*\"chopped fresh chives\" + 0.049*\"sliced black olives\" + 0.048*\"cream cheese, soften\" + 0.043*\"lard\" + 0.034*\"jack cheese\" + 0.024*\"canned black beans\"'),\n",
       " (2,\n",
       "  '0.086*\"olive oil\" + 0.060*\"crushed red pepper\" + 0.056*\"fresh parsley\" + 0.042*\"garlic cloves\" + 0.039*\"grated parmesan cheese\" + 0.035*\"cherry tomatoes\" + 0.035*\"butter\" + 0.035*\"salt\" + 0.034*\"low salt chicken broth\" + 0.032*\"fresh rosemary\"'),\n",
       " (3,\n",
       "  '0.074*\"bacon\" + 0.070*\"salt\" + 0.061*\"red pepper flakes\" + 0.054*\"onions\" + 0.051*\"garlic\" + 0.049*\"ground black pepper\" + 0.044*\"mushrooms\" + 0.043*\"chicken thighs\" + 0.042*\"pasta\" + 0.034*\"olive oil\"'),\n",
       " (4,\n",
       "  '0.091*\"cooking spray\" + 0.067*\"salt\" + 0.061*\"powdered sugar\" + 0.055*\"large egg whites\" + 0.054*\"all-purpose flour\" + 0.050*\"sugar\" + 0.049*\"large eggs\" + 0.045*\"cream cheese\" + 0.044*\"yellow corn meal\" + 0.042*\"butter\"'),\n",
       " (5,\n",
       "  '0.093*\"large garlic cloves\" + 0.092*\"shallots\" + 0.075*\"dry white wine\" + 0.056*\"olive oil\" + 0.045*\"finely chopped onion\" + 0.033*\"unsalted butter\" + 0.033*\"salt\" + 0.032*\"white wine vinegar\" + 0.031*\"arborio rice\" + 0.027*\"saffron threads\"'),\n",
       " (6,\n",
       "  '0.078*\"fresh thyme\" + 0.078*\"dry red wine\" + 0.053*\"pork tenderloin\" + 0.047*\"reduced sodium soy sauce\" + 0.046*\"cilantro sprigs\" + 0.041*\"beef broth\" + 0.036*\"peppercorns\" + 0.032*\"cremini mushrooms\" + 0.023*\"rosemary\" + 0.023*\"daikon\"'),\n",
       " (7,\n",
       "  '0.092*\"soy sauce\" + 0.051*\"sesame oil\" + 0.043*\"scallions\" + 0.043*\"green onions\" + 0.041*\"rice vinegar\" + 0.039*\"sugar\" + 0.037*\"corn starch\" + 0.035*\"garlic\" + 0.034*\"vegetable oil\" + 0.027*\"fresh ginger\"'),\n",
       " (8,\n",
       "  '0.175*\"garlic powder\" + 0.122*\"cayenne pepper\" + 0.066*\"onion powder\" + 0.047*\"ground black pepper\" + 0.044*\"smoked paprika\" + 0.041*\"black pepper\" + 0.040*\"pinenuts\" + 0.038*\"salt\" + 0.026*\"fresh spinach\" + 0.026*\"dried oregano\"'),\n",
       " (9,\n",
       "  '0.114*\"extra-virgin olive oil\" + 0.067*\"garlic cloves\" + 0.061*\"fresh lemon juice\" + 0.056*\"salt\" + 0.053*\"olive oil\" + 0.052*\"ground black pepper\" + 0.046*\"plum tomatoes\" + 0.043*\"purple onion\" + 0.035*\"balsamic vinegar\" + 0.034*\"fresh basil\"'),\n",
       " (10,\n",
       "  '0.065*\"broccoli florets\" + 0.049*\"button mushrooms\" + 0.048*\"crème fraîche\" + 0.046*\"yellow squash\" + 0.044*\"radishes\" + 0.038*\"greek style plain yogurt\" + 0.038*\"pork sausages\" + 0.035*\"watercress\" + 0.033*\"quickcooking grits\" + 0.031*\"ripe olives\"'),\n",
       " (11,\n",
       "  '0.134*\"lime\" + 0.113*\"lime juice\" + 0.056*\"fresh cilantro\" + 0.036*\"chopped cilantro\" + 0.036*\"purple onion\" + 0.031*\"mango\" + 0.031*\"garlic\" + 0.027*\"jalapeno chilies\" + 0.027*\"lime wedges\" + 0.022*\"thai chile\"'),\n",
       " (12,\n",
       "  '0.096*\"cheese\" + 0.093*\"ricotta cheese\" + 0.087*\"orange juice\" + 0.059*\"sliced mushrooms\" + 0.058*\"baby spinach\" + 0.057*\"vegetable broth\" + 0.052*\"vegetable oil cooking spray\" + 0.037*\"frozen chopped spinach\" + 0.035*\"part-skim mozzarella cheese\" + 0.033*\"italian sausage\"'),\n",
       " (13,\n",
       "  '0.094*\"diced tomatoes\" + 0.063*\"onions\" + 0.060*\"dried oregano\" + 0.053*\"tomato sauce\" + 0.048*\"garlic\" + 0.046*\"tomato paste\" + 0.046*\"salt\" + 0.038*\"olive oil\" + 0.033*\"crushed tomatoes\" + 0.030*\"ground beef\"'),\n",
       " (14,\n",
       "  '0.119*\"tomatoes\" + 0.088*\"salt\" + 0.084*\"red wine vinegar\" + 0.072*\"olive oil\" + 0.068*\"cucumber\" + 0.053*\"pepper\" + 0.046*\"lemon juice\" + 0.044*\"fresh oregano\" + 0.035*\"purple onion\" + 0.034*\"garlic\"'),\n",
       " (15,\n",
       "  '0.202*\"lemon\" + 0.055*\"orange\" + 0.053*\"boiling water\" + 0.049*\"fine sea salt\" + 0.045*\"sugar\" + 0.044*\"cold water\" + 0.034*\"fennel seeds\" + 0.032*\"almonds\" + 0.031*\"water\" + 0.028*\"mint\"'),\n",
       " (16,\n",
       "  '0.102*\"chopped cilantro fresh\" + 0.076*\"fresh lime juice\" + 0.069*\"jalapeno chilies\" + 0.051*\"white onion\" + 0.046*\"salt\" + 0.042*\"avocado\" + 0.038*\"ground cumin\" + 0.037*\"garlic cloves\" + 0.028*\"vegetable oil\" + 0.027*\"cilantro leaves\"'),\n",
       " (17,\n",
       "  '0.100*\"ground ginger\" + 0.099*\"ground cinnamon\" + 0.081*\"raisins\" + 0.077*\"ground cloves\" + 0.070*\"white wine\" + 0.061*\"ground allspice\" + 0.055*\"fresh mushrooms\" + 0.050*\"lean ground beef\" + 0.032*\"dried rosemary\" + 0.030*\"iceberg lettuce\"'),\n",
       " (18,\n",
       "  '0.117*\"parmesan cheese\" + 0.072*\"warm water\" + 0.064*\"salt\" + 0.053*\"olive oil\" + 0.053*\"dried basil\" + 0.039*\"grits\" + 0.032*\"kale\" + 0.031*\"plain flour\" + 0.028*\"water\" + 0.027*\"dry yeast\"'),\n",
       " (19,\n",
       "  '0.122*\"unsalted butter\" + 0.098*\"large eggs\" + 0.096*\"all-purpose flour\" + 0.076*\"salt\" + 0.061*\"sugar\" + 0.039*\"whole milk\" + 0.038*\"granulated sugar\" + 0.034*\"baking powder\" + 0.026*\"large egg yolks\" + 0.026*\"buttermilk\"'),\n",
       " (20,\n",
       "  '0.118*\"flat leaf parsley\" + 0.101*\"freshly ground pepper\" + 0.055*\"extra-virgin olive oil\" + 0.054*\"garlic cloves\" + 0.044*\"large shrimp\" + 0.044*\"olive oil\" + 0.042*\"salt\" + 0.033*\"dry bread crumbs\" + 0.027*\"ground black pepper\" + 0.024*\"kosher salt\"'),\n",
       " (21,\n",
       "  '0.146*\"chicken broth\" + 0.067*\"green bell pepper\" + 0.059*\"boneless skinless chicken breast halves\" + 0.055*\"boneless skinless chicken breasts\" + 0.055*\"onions\" + 0.049*\"chicken breasts\" + 0.040*\"red bell pepper\" + 0.040*\"butter\" + 0.040*\"pepper\" + 0.036*\"salt\"'),\n",
       " (22,\n",
       "  '0.115*\"grated parmesan cheese\" + 0.063*\"olive oil\" + 0.056*\"zucchini\" + 0.045*\"salt\" + 0.042*\"garlic\" + 0.041*\"mozzarella cheese\" + 0.038*\"shredded mozzarella cheese\" + 0.037*\"eggplant\" + 0.035*\"pepper\" + 0.033*\"eggs\"'),\n",
       " (23,\n",
       "  '0.078*\"brown sugar\" + 0.051*\"water\" + 0.050*\"salt\" + 0.048*\"soy sauce\" + 0.046*\"white pepper\" + 0.044*\"oil\" + 0.041*\"sugar\" + 0.038*\"sauce\" + 0.035*\"ketchup\" + 0.034*\"garlic\"'),\n",
       " (24,\n",
       "  '0.074*\"ground cumin\" + 0.047*\"ground coriander\" + 0.046*\"salt\" + 0.039*\"curry powder\" + 0.033*\"onions\" + 0.029*\"garlic\" + 0.028*\"vegetable oil\" + 0.027*\"ground turmeric\" + 0.027*\"garlic cloves\" + 0.024*\"fresh ginger\"'),\n",
       " (25,\n",
       "  '0.089*\"hot water\" + 0.083*\"chopped garlic\" + 0.065*\"peanut oil\" + 0.059*\"rice wine\" + 0.046*\"hot red pepper flakes\" + 0.036*\"corn oil\" + 0.033*\"fontina cheese\" + 0.030*\"marsala wine\" + 0.030*\"seasoning\" + 0.029*\"garlic chili sauce\"'),\n",
       " (26,\n",
       "  '0.082*\"mirin\" + 0.072*\"chickpeas\" + 0.051*\"red pepper\" + 0.050*\"mint leaves\" + 0.048*\"juice\" + 0.048*\"chopped fresh mint\" + 0.039*\"sugar\" + 0.037*\"fresh coriander\" + 0.035*\"sake\" + 0.030*\"grated lemon zest\"'),\n",
       " (27,\n",
       "  '0.185*\"heavy cream\" + 0.102*\"cheddar cheese\" + 0.069*\"frozen peas\" + 0.066*\"grated nutmeg\" + 0.041*\"bananas\" + 0.037*\"bread\" + 0.026*\"ice\" + 0.024*\"adobo sauce\" + 0.023*\"old bay seasoning\" + 0.022*\"butter\"'),\n",
       " (28,\n",
       "  '0.115*\"oil\" + 0.087*\"salt\" + 0.053*\"cilantro leaves\" + 0.051*\"green chilies\" + 0.048*\"cumin seed\" + 0.046*\"onions\" + 0.042*\"ground turmeric\" + 0.041*\"water\" + 0.033*\"chili powder\" + 0.029*\"tomatoes\"'),\n",
       " (29,\n",
       "  '0.077*\"sour cream\" + 0.047*\"salsa\" + 0.047*\"flour tortillas\" + 0.045*\"chili powder\" + 0.042*\"corn tortillas\" + 0.041*\"shredded cheddar cheese\" + 0.040*\"black beans\" + 0.036*\"cilantro\" + 0.030*\"salt\" + 0.028*\"ground cumin\"'),\n",
       " (30,\n",
       "  '0.093*\"sugar\" + 0.081*\"whipping cream\" + 0.077*\"egg yolks\" + 0.051*\"vanilla extract\" + 0.050*\"butter\" + 0.049*\"egg whites\" + 0.043*\"half & half\" + 0.037*\"sweetened condensed milk\" + 0.035*\"water\" + 0.031*\"strawberries\"'),\n",
       " (31,\n",
       "  '0.100*\"shrimp\" + 0.063*\"medium shrimp\" + 0.045*\"long-grain rice\" + 0.045*\"vegetable oil\" + 0.035*\"green onions\" + 0.035*\"long grain white rice\" + 0.035*\"rice noodles\" + 0.035*\"hot pepper sauce\" + 0.029*\"scallions\" + 0.026*\"asian fish sauce\"'),\n",
       " (32,\n",
       "  '0.112*\"eggs\" + 0.104*\"milk\" + 0.096*\"salt\" + 0.072*\"butter\" + 0.068*\"all-purpose flour\" + 0.042*\"flour\" + 0.041*\"baking powder\" + 0.040*\"sugar\" + 0.040*\"white sugar\" + 0.023*\"water\"'),\n",
       " (33,\n",
       "  '0.062*\"rice\" + 0.054*\"coriander\" + 0.049*\"onions\" + 0.047*\"salt\" + 0.042*\"garam masala\" + 0.040*\"ginger\" + 0.040*\"tumeric\" + 0.038*\"cabbage\" + 0.035*\"garlic\" + 0.034*\"ghee\"'),\n",
       " (34,\n",
       "  '0.091*\"cinnamon sticks\" + 0.085*\"clove\" + 0.071*\"black peppercorns\" + 0.042*\"chopped tomatoes\" + 0.042*\"cream\" + 0.039*\"garlic paste\" + 0.035*\"yoghurt\" + 0.034*\"coriander seeds\" + 0.033*\"fresh dill\" + 0.028*\"onions\"'),\n",
       " (35,\n",
       "  '0.067*\"onions\" + 0.051*\"bay leaves\" + 0.050*\"celery\" + 0.049*\"salt\" + 0.046*\"dried thyme\" + 0.046*\"bay leaf\" + 0.045*\"carrots\" + 0.041*\"water\" + 0.033*\"garlic\" + 0.031*\"ground black pepper\"'),\n",
       " (36,\n",
       "  '0.116*\"salt\" + 0.095*\"pepper\" + 0.072*\"paprika\" + 0.070*\"onions\" + 0.056*\"potatoes\" + 0.044*\"butter\" + 0.038*\"garlic\" + 0.037*\"olive oil\" + 0.025*\"worcestershire sauce\" + 0.025*\"carrots\"'),\n",
       " (37,\n",
       "  '0.110*\"sea salt\" + 0.066*\"coarse salt\" + 0.056*\"crushed red pepper flakes\" + 0.050*\"extra-virgin olive oil\" + 0.045*\"ground black pepper\" + 0.045*\"celery ribs\" + 0.041*\"ground pepper\" + 0.039*\"kosher salt\" + 0.034*\"garlic cloves\" + 0.033*\"parmigiano reggiano cheese\"'),\n",
       " (38,\n",
       "  '0.115*\"fish sauce\" + 0.055*\"coconut milk\" + 0.042*\"garlic\" + 0.037*\"shallots\" + 0.036*\"red chili peppers\" + 0.034*\"lemongrass\" + 0.028*\"sugar\" + 0.026*\"vegetable oil\" + 0.025*\"boneless chicken skinless thigh\" + 0.024*\"cooking oil\"'),\n",
       " (39,\n",
       "  '0.153*\"mayonaise\" + 0.095*\"dijon mustard\" + 0.069*\"cider vinegar\" + 0.069*\"cracked black pepper\" + 0.047*\"roma tomatoes\" + 0.043*\"white rice\" + 0.043*\"lemon wedge\" + 0.036*\"romaine lettuce\" + 0.024*\"chicken wings\" + 0.024*\"green onions\"')]"
      ]
     },
     "execution_count": 71,
     "metadata": {},
     "output_type": "execute_result"
    }
   ],
   "source": [
    "ldamodel.show_topics(num_topics=40, num_words=10, formatted=True)"
   ]
  },
  {
   "cell_type": "code",
   "execution_count": 72,
   "metadata": {},
   "outputs": [],
   "source": [
    "showtopics = ldamodel.show_topics(num_topics=40, num_words=10, formatted=True)"
   ]
  },
  {
   "cell_type": "code",
   "execution_count": 73,
   "metadata": {},
   "outputs": [],
   "source": [
    "list_ingr = [\"salt\", \"sugar\", \"water\", \"mushrooms\", \"chicken\", \"eggs\"]\n",
    "counter = {}\n",
    "for ing in list_ingr:\n",
    "    counter[ing] = 0\n",
    "    for i, j in showtopics:\n",
    "        counter[ing] += j.count('\"'+ing+'\"')"
   ]
  },
  {
   "cell_type": "code",
   "execution_count": 74,
   "metadata": {},
   "outputs": [
    {
     "data": {
      "text/plain": [
       "dict_values([23, 9, 8, 1, 0, 2])"
      ]
     },
     "execution_count": 74,
     "metadata": {},
     "output_type": "execute_result"
    }
   ],
   "source": [
    "counter.values()"
   ]
  },
  {
   "cell_type": "code",
   "execution_count": 75,
   "metadata": {},
   "outputs": [],
   "source": [
    "def save_answers1(c_salt, c_sugar, c_water, c_mushrooms, c_chicken, c_eggs):\n",
    "    with open(\"cooking_LDA_pa_task1.txt\", \"w\") as fout:\n",
    "        fout.write(\" \".join([str(el) for el in [c_salt, c_sugar, c_water, c_mushrooms, c_chicken, c_eggs]]))"
   ]
  },
  {
   "cell_type": "code",
   "execution_count": 76,
   "metadata": {},
   "outputs": [],
   "source": [
    "save_answers1(23, 9, 8, 1, 0, 2)"
   ]
  },
  {
   "cell_type": "markdown",
   "metadata": {},
   "source": [
    "### Фильтрация словаря\n",
    "В топах тем гораздо чаще встречаются первые три рассмотренных ингредиента, чем последние три. При этом наличие в рецепте курицы, яиц и грибов яснее дает понять, что мы будем готовить, чем наличие соли, сахара и воды. Таким образом, даже в рецептах есть слова, часто встречающиеся в текстах и не несущие смысловой нагрузки, и поэтому их не желательно видеть в темах. Наиболее простой прием борьбы с такими фоновыми элементами — фильтрация словаря по частоте. Обычно словарь фильтруют с двух сторон: убирают очень редкие слова (в целях экономии памяти) и очень частые слова (в целях повышения интерпретируемости тем). Мы уберем только частые слова."
   ]
  },
  {
   "cell_type": "code",
   "execution_count": 183,
   "metadata": {},
   "outputs": [],
   "source": [
    "import copy\n",
    "dictionary2 = copy.deepcopy(dictionary)\n",
    "dict_size_before = len(dictionary2)"
   ]
  },
  {
   "cell_type": "code",
   "execution_count": 184,
   "metadata": {},
   "outputs": [],
   "source": [
    "corpus2 = [dictionary2.doc2bow(text) for text in texts]\n",
    "corpus_size_before = sum([len(i) for i in corpus2])"
   ]
  },
  {
   "cell_type": "markdown",
   "metadata": {},
   "source": [
    "__Задание 2.__ У объекта dictionary2 есть переменная *dfs* — это словарь, ключами которого являются id токена, а элементами — число раз, сколько слово встретилось во всей коллекции. Сохраните в отдельный список ингредиенты, которые встретились в коллекции больше 4000 раз. Вызовите метод словаря *filter_tokens*, подав в качестве первого аргумента полученный список популярных ингредиентов. Вычислите две величины: dict_size_before и dict_size_after — размер словаря до и после фильтрации.\n",
    "\n",
    "Затем, используя новый словарь, создайте новый корпус документов, corpus2, по аналогии с тем, как это сделано в начале ноутбука. Вычислите две величины: corpus_size_before и corpus_size_after — суммарное количество ингредиентов в корпусе (для каждого документа вычислите число различных ингредиентов в нем и просуммируйте по всем документам) до и после фильтрации.\n",
    "\n",
    "Передайте величины dict_size_before, dict_size_after, corpus_size_before, corpus_size_after в функцию save_answers2 и загрузите сгенерированный файл в форму."
   ]
  },
  {
   "cell_type": "code",
   "execution_count": 185,
   "metadata": {},
   "outputs": [],
   "source": [
    "common_4000 = [i  for i in dictionary2.dfs if int(dictionary2.dfs[i])>4000]"
   ]
  },
  {
   "cell_type": "code",
   "execution_count": 186,
   "metadata": {},
   "outputs": [
    {
     "data": {
      "text/plain": [
       "[3, 5, 15, 11, 18, 20, 29, 44, 52, 59, 104, 114]"
      ]
     },
     "execution_count": 186,
     "metadata": {},
     "output_type": "execute_result"
    }
   ],
   "source": [
    "common_4000"
   ]
  },
  {
   "cell_type": "code",
   "execution_count": 187,
   "metadata": {},
   "outputs": [],
   "source": [
    "dictionary2.filter_tokens(bad_ids=common_4000)"
   ]
  },
  {
   "cell_type": "code",
   "execution_count": 188,
   "metadata": {},
   "outputs": [],
   "source": [
    "dict_size_after = len(dictionary2)"
   ]
  },
  {
   "cell_type": "code",
   "execution_count": 189,
   "metadata": {},
   "outputs": [],
   "source": [
    "corpus2 = [dictionary2.doc2bow(text) for text in texts]"
   ]
  },
  {
   "cell_type": "code",
   "execution_count": 190,
   "metadata": {},
   "outputs": [],
   "source": [
    "corpus_size_after = sum([len(i) for i in corpus2])"
   ]
  },
  {
   "cell_type": "code",
   "execution_count": 191,
   "metadata": {},
   "outputs": [],
   "source": [
    "def save_answers2(dict_size_before, dict_size_after, corpus_size_before, corpus_size_after):\n",
    "    with open(\"cooking_LDA_pa_task2.txt\", \"w\") as fout:\n",
    "        fout.write(\" \".join([str(el) for el in [dict_size_before, dict_size_after, corpus_size_before, corpus_size_after]]))"
   ]
  },
  {
   "cell_type": "code",
   "execution_count": 192,
   "metadata": {},
   "outputs": [],
   "source": [
    "save_answers2(dict_size_before, dict_size_after, corpus_size_before, corpus_size_after)"
   ]
  },
  {
   "cell_type": "markdown",
   "metadata": {},
   "source": [
    "### Сравнение когерентностей\n",
    "__Задание 3.__ Постройте еще одну модель по корпусу corpus2 и словарю dictionary2, остальные параметры оставьте такими же, как при первом построении модели. Сохраните новую модель в другую переменную (не перезаписывайте предыдущую модель). Не забудьте про фиксирование seed!\n",
    "\n",
    "Затем воспользуйтесь методом *top_topics* модели, чтобы вычислить ее когерентность. Передайте в качестве аргумента соответствующий модели корпус. Метод вернет список кортежей (топ токенов, когерентность), отсортированных по убыванию последней. Вычислите среднюю по всем темам когерентность для каждой из двух моделей и передайте в функцию save_answers3. "
   ]
  },
  {
   "cell_type": "code",
   "execution_count": 92,
   "metadata": {},
   "outputs": [
    {
     "data": {
      "text/plain": [
       "[([(0.09805375, 'sour cream'),\n",
       "   (0.06260538, 'chili powder'),\n",
       "   (0.05980344, 'salsa'),\n",
       "   (0.059037484, 'flour tortillas'),\n",
       "   (0.051727306, 'ground cumin'),\n",
       "   (0.049619906, 'black beans'),\n",
       "   (0.041923486, 'corn tortillas'),\n",
       "   (0.026852604, 'green onions'),\n",
       "   (0.026822895, 'shredded cheddar cheese'),\n",
       "   (0.025870563, 'diced tomatoes'),\n",
       "   (0.022652298, 'chopped cilantro fresh'),\n",
       "   (0.022008646, 'shredded Monterey Jack cheese'),\n",
       "   (0.019809254, 'enchilada sauce'),\n",
       "   (0.019730948, 'cooked chicken'),\n",
       "   (0.019138189, 'cumin'),\n",
       "   (0.017684411, 'dried oregano'),\n",
       "   (0.017233407, 'green chile'),\n",
       "   (0.016956927, 'chicken broth'),\n",
       "   (0.016009526, 'avocado'),\n",
       "   (0.015510269, 'tomatoes')],\n",
       "  -2.5968612427410345),\n",
       " ([(0.09577483, 'jalapeno chilies'),\n",
       "   (0.07228091, 'lime'),\n",
       "   (0.061941136, 'lime juice'),\n",
       "   (0.0601038, 'avocado'),\n",
       "   (0.046930872, 'purple onion'),\n",
       "   (0.04674713, 'cilantro'),\n",
       "   (0.042781785, 'chopped cilantro'),\n",
       "   (0.042351104, 'fresh cilantro'),\n",
       "   (0.035289127, 'tomatoes'),\n",
       "   (0.031312857, 'chopped cilantro fresh'),\n",
       "   (0.028083557, 'fresh lime juice'),\n",
       "   (0.027767535, 'kosher salt'),\n",
       "   (0.025220029, 'ground cumin'),\n",
       "   (0.024469094, 'cilantro leaves'),\n",
       "   (0.023594093, 'lime wedges'),\n",
       "   (0.02148715, 'tomatillos'),\n",
       "   (0.021424653, 'white onion'),\n",
       "   (0.021079179, 'corn tortillas'),\n",
       "   (0.012033286, 'cumin'),\n",
       "   (0.011748558, 'black beans')],\n",
       "  -2.6650788856772643),\n",
       " ([(0.115676604, 'soy sauce'),\n",
       "   (0.059046872, 'sesame oil'),\n",
       "   (0.05006001, 'scallions'),\n",
       "   (0.04697653, 'corn starch'),\n",
       "   (0.046880506, 'green onions'),\n",
       "   (0.042909063, 'rice vinegar'),\n",
       "   (0.034820877, 'ginger'),\n",
       "   (0.026193282, 'fresh ginger'),\n",
       "   (0.025020447, 'carrots'),\n",
       "   (0.021321934, 'sesame seeds'),\n",
       "   (0.018683566, 'brown sugar'),\n",
       "   (0.017868238, 'peanut oil'),\n",
       "   (0.015776113, 'mirin'),\n",
       "   (0.015020141, 'minced garlic'),\n",
       "   (0.014919646, 'oyster sauce'),\n",
       "   (0.01474882, 'honey'),\n",
       "   (0.014715509, 'oil'),\n",
       "   (0.013959667, 'hoisin sauce'),\n",
       "   (0.012566991, 'light soy sauce'),\n",
       "   (0.012336254, 'beansprouts')],\n",
       "  -2.8265769406570342),\n",
       " ([(0.053136215, 'celery'),\n",
       "   (0.051669292, 'shrimp'),\n",
       "   (0.041340362, 'bay leaf'),\n",
       "   (0.03803727, 'chicken broth'),\n",
       "   (0.03670421, 'bay leaves'),\n",
       "   (0.03555963, 'green bell pepper'),\n",
       "   (0.035529796, 'celery ribs'),\n",
       "   (0.03333556, 'thyme'),\n",
       "   (0.031654824, 'tomato paste'),\n",
       "   (0.031649657, 'dried thyme'),\n",
       "   (0.029660318, 'dry red wine'),\n",
       "   (0.029334104, 'yellow onion'),\n",
       "   (0.023526864, 'andouille sausage'),\n",
       "   (0.023248235, 'long grain white rice'),\n",
       "   (0.021220367, 'chicken thighs'),\n",
       "   (0.020290036, 'low sodium chicken broth'),\n",
       "   (0.019368825, 'green onions'),\n",
       "   (0.017674984, 'scallions'),\n",
       "   (0.017533595, 'chicken stock'),\n",
       "   (0.01663812, 'kosher salt')],\n",
       "  -3.2062340974352206),\n",
       " ([(0.12649621, 'milk'),\n",
       "   (0.08767955, 'vanilla extract'),\n",
       "   (0.07217503, 'white sugar'),\n",
       "   (0.06169406, 'eggs'),\n",
       "   (0.046719998, 'granulated sugar'),\n",
       "   (0.04547729, 'unsalted butter'),\n",
       "   (0.0410731, 'large eggs'),\n",
       "   (0.039745133, 'large egg yolks'),\n",
       "   (0.039223466, 'egg yolks'),\n",
       "   (0.034143716, 'baking powder'),\n",
       "   (0.033060327, 'powdered sugar'),\n",
       "   (0.032384645, 'whipping cream'),\n",
       "   (0.029393816, 'egg whites'),\n",
       "   (0.029113168, 'confectioners sugar'),\n",
       "   (0.020955838, 'corn starch'),\n",
       "   (0.020861559, 'ground cinnamon'),\n",
       "   (0.019066565, 'unsweetened cocoa powder'),\n",
       "   (0.01641754, 'shortening'),\n",
       "   (0.012847557, 'almond extract'),\n",
       "   (0.012314982, 'whole milk')],\n",
       "  -3.267753040930376),\n",
       " ([(0.08713494, 'ground cumin'),\n",
       "   (0.07152092, 'ground turmeric'),\n",
       "   (0.06733057, 'cumin seed'),\n",
       "   (0.062856115, 'ground coriander'),\n",
       "   (0.04480995, 'garam masala'),\n",
       "   (0.036597047, 'ginger'),\n",
       "   (0.034827426, 'coriander seeds'),\n",
       "   (0.026695099, 'chili powder'),\n",
       "   (0.026600374, 'tomatoes'),\n",
       "   (0.024988249, 'fresh coriander'),\n",
       "   (0.024469256, 'mustard seeds'),\n",
       "   (0.019446762, 'cauliflower'),\n",
       "   (0.018793846, 'cayenne pepper'),\n",
       "   (0.01754885, 'curry leaves'),\n",
       "   (0.01747528, 'green chilies'),\n",
       "   (0.014774188, 'ground cardamom'),\n",
       "   (0.014678065, 'cilantro leaves'),\n",
       "   (0.01436535, 'coconut milk'),\n",
       "   (0.013905432, 'red chili peppers'),\n",
       "   (0.0137532, 'couscous')],\n",
       "  -3.292779148771711),\n",
       " ([(0.15458265, 'extra-virgin olive oil'),\n",
       "   (0.081670225, 'freshly ground pepper'),\n",
       "   (0.07601405, 'flat leaf parsley'),\n",
       "   (0.0649066, 'large garlic cloves'),\n",
       "   (0.050829507, 'kosher salt'),\n",
       "   (0.03555215, 'parmigiano reggiano cheese'),\n",
       "   (0.03396842, 'dry white wine'),\n",
       "   (0.0293827, 'finely chopped onion'),\n",
       "   (0.029072894, 'large shrimp'),\n",
       "   (0.028863782, 'chopped parsley'),\n",
       "   (0.028106475, 'plum tomatoes'),\n",
       "   (0.02386963, 'russet potatoes'),\n",
       "   (0.021683821, 'unsalted butter'),\n",
       "   (0.016642615, 'bread crumb fresh'),\n",
       "   (0.016125465, 'fresh rosemary'),\n",
       "   (0.013707984, 'fresh basil'),\n",
       "   (0.013431422, 'crushed red pepper'),\n",
       "   (0.013058201, 'pecorino romano cheese'),\n",
       "   (0.012495521, 'tomatoes'),\n",
       "   (0.012435178, 'black pepper')],\n",
       "  -3.479147984042398),\n",
       " ([(0.13552502, 'garlic powder'),\n",
       "   (0.110578425, 'cayenne pepper'),\n",
       "   (0.10340131, 'paprika'),\n",
       "   (0.050845858, 'onion powder'),\n",
       "   (0.046099033, 'black pepper'),\n",
       "   (0.038207203, 'oregano'),\n",
       "   (0.0351686, 'cracked black pepper'),\n",
       "   (0.034006592, 'chili powder'),\n",
       "   (0.03373931, 'smoked paprika'),\n",
       "   (0.02929099, 'bell pepper'),\n",
       "   (0.025835676, 'diced onions'),\n",
       "   (0.025338033, 'okra'),\n",
       "   (0.024254212, 'cumin'),\n",
       "   (0.022498332, 'dried oregano'),\n",
       "   (0.022132589, 'ground cumin'),\n",
       "   (0.020145575, 'kosher salt'),\n",
       "   (0.018651253, 'reduced sodium chicken broth'),\n",
       "   (0.017222779, 'stewed tomatoes'),\n",
       "   (0.016159296, 'diced tomatoes'),\n",
       "   (0.014306461, 'kidney beans')],\n",
       "  -3.8252479599475553),\n",
       " ([(0.07008464, 'rice'),\n",
       "   (0.058109783, 'oil'),\n",
       "   (0.057642255, 'green chilies'),\n",
       "   (0.03962818, 'cilantro leaves'),\n",
       "   (0.037617996, 'garlic paste'),\n",
       "   (0.036537852, 'chili powder'),\n",
       "   (0.033235505, 'tomatoes'),\n",
       "   (0.031483263, 'garam masala'),\n",
       "   (0.02540909, 'yoghurt'),\n",
       "   (0.024516277, 'whole wheat flour'),\n",
       "   (0.02331792, 'ghee'),\n",
       "   (0.022919765, 'coriander powder'),\n",
       "   (0.018613743, 'ginger paste'),\n",
       "   (0.018396363, 'cumin seed'),\n",
       "   (0.017777631, 'seeds'),\n",
       "   (0.017163077, 'parsley sprigs'),\n",
       "   (0.016615551, 'coriander'),\n",
       "   (0.016280342, 'potatoes'),\n",
       "   (0.016212655, 'ginger'),\n",
       "   (0.015960068, 'cream')],\n",
       "  -4.377012916338342),\n",
       " ([(0.14802776, 'fresh lemon juice'),\n",
       "   (0.07002589, 'extra-virgin olive oil'),\n",
       "   (0.06900061, 'red wine vinegar'),\n",
       "   (0.049390998, 'fresh parsley'),\n",
       "   (0.048764527, 'capers'),\n",
       "   (0.037546966, 'tomatoes'),\n",
       "   (0.03683528, 'purple onion'),\n",
       "   (0.036062043, 'lemon'),\n",
       "   (0.029509544, 'sweet onion'),\n",
       "   (0.026764609, 'white wine'),\n",
       "   (0.024200315, 'feta cheese'),\n",
       "   (0.024028808, 'baguette'),\n",
       "   (0.020640496, 'chopped fresh chives'),\n",
       "   (0.019788034, 'pitted kalamata olives'),\n",
       "   (0.019700278, 'flat leaf parsley'),\n",
       "   (0.018799875, 'dijon mustard'),\n",
       "   (0.01875267, 'black pepper'),\n",
       "   (0.018608926, 'hot pepper sauce'),\n",
       "   (0.018274263, 'dried oregano'),\n",
       "   (0.017663544, 'black-eyed peas')],\n",
       "  -4.633107489588794),\n",
       " ([(0.11642368, 'grated parmesan cheese'),\n",
       "   (0.07134083, 'fresh basil'),\n",
       "   (0.063234255, 'dried oregano'),\n",
       "   (0.050548054, 'dried basil'),\n",
       "   (0.039216608, 'crushed red pepper'),\n",
       "   (0.03545254, 'fresh parsley'),\n",
       "   (0.032896884, 'ricotta cheese'),\n",
       "   (0.028802557, 'parmesan cheese'),\n",
       "   (0.027336333, 'diced tomatoes'),\n",
       "   (0.025837675, 'spaghetti'),\n",
       "   (0.023052325, 'fresh mushrooms'),\n",
       "   (0.02291595, 'fresh parmesan cheese'),\n",
       "   (0.020647906, 'shredded mozzarella cheese'),\n",
       "   (0.020058705, 'marinara sauce'),\n",
       "   (0.019979129, 'asparagus'),\n",
       "   (0.01929581, 'part-skim mozzarella cheese'),\n",
       "   (0.019126408, 'black pepper'),\n",
       "   (0.018945087, 'tomato paste'),\n",
       "   (0.018539332, 'tomato sauce'),\n",
       "   (0.017916067, 'evaporated milk')],\n",
       "  -4.794554721495129),\n",
       " ([(0.16282322, 'chopped onion'),\n",
       "   (0.06685908, 'ground red pepper'),\n",
       "   (0.05161295, 'fat free less sodium chicken broth'),\n",
       "   (0.048548624, 'chopped celery'),\n",
       "   (0.04441104, 'cooking spray'),\n",
       "   (0.042245016, 'long-grain rice'),\n",
       "   (0.032681324, 'sliced mushrooms'),\n",
       "   (0.03023826, 'chopped green bell pepper'),\n",
       "   (0.028640037, 'vegetable oil cooking spray'),\n",
       "   (0.02735515, 'black pepper'),\n",
       "   (0.026770368, 'diced tomatoes'),\n",
       "   (0.024506222, 'chopped pecans'),\n",
       "   (0.022326598, 'margarine'),\n",
       "   (0.021079155, 'creole seasoning'),\n",
       "   (0.020885685, 'fresh parsley'),\n",
       "   (0.019071555, 'cooked rice'),\n",
       "   (0.01715777, 'green onions'),\n",
       "   (0.016879998, 'minced garlic'),\n",
       "   (0.014770636, 'fresh chives'),\n",
       "   (0.013649979, 'crawfish')],\n",
       "  -4.813355056786778),\n",
       " ([(0.105955444, 'tumeric'),\n",
       "   (0.056933004, 'chickpeas'),\n",
       "   (0.05128777, 'frozen peas'),\n",
       "   (0.04692646, 'coriander'),\n",
       "   (0.038124066, 'juice'),\n",
       "   (0.034358367, 'basil leaves'),\n",
       "   (0.03311323, 'noodles'),\n",
       "   (0.029981252, 'cinnamon'),\n",
       "   (0.029533867, 'vegetable stock'),\n",
       "   (0.02944464, 'ginger'),\n",
       "   (0.027945386, 'cilantro sprigs'),\n",
       "   (0.026945814, 'fresh ginger'),\n",
       "   (0.02567152, 'hot red pepper flakes'),\n",
       "   (0.023148825, 'spices'),\n",
       "   (0.021583846, 'cashew nuts'),\n",
       "   (0.021189388, 'cumin'),\n",
       "   (0.020638693, 'tomatoes'),\n",
       "   (0.019154694, 'garam masala'),\n",
       "   (0.016702227, 'lemon'),\n",
       "   (0.016622923, 'peas')],\n",
       "  -5.479868125870132),\n",
       " ([(0.05726825, 'grated parmesan cheese'),\n",
       "   (0.05403928, 'fresh basil leaves'),\n",
       "   (0.04562576, 'italian seasoning'),\n",
       "   (0.043433174, 'mozzarella cheese'),\n",
       "   (0.038685266, 'pinenuts'),\n",
       "   (0.03837627, 'pasta'),\n",
       "   (0.035009824, 'dry bread crumbs'),\n",
       "   (0.033410832, 'extra-virgin olive oil'),\n",
       "   (0.029805083, 'baby spinach'),\n",
       "   (0.02849596, 'nutmeg'),\n",
       "   (0.027379448, 'lemon wedge'),\n",
       "   (0.026717292, 'shredded mozzarella cheese'),\n",
       "   (0.026555676, 'red pepper flakes'),\n",
       "   (0.026449436, 'lasagna noodles'),\n",
       "   (0.026305085, 'roasted red peppers'),\n",
       "   (0.025542427, 'parmesan cheese'),\n",
       "   (0.022898708, 'basil'),\n",
       "   (0.019644588, 'chicken breast halves'),\n",
       "   (0.018927373, 'pasta sauce'),\n",
       "   (0.01885381, 'fettucine')],\n",
       "  -5.84687960598003),\n",
       " ([(0.09611648, 'honey'),\n",
       "   (0.08278482, 'ground ginger'),\n",
       "   (0.0760914, 'ground cinnamon'),\n",
       "   (0.047353905, 'orange juice'),\n",
       "   (0.045904078, 'white vinegar'),\n",
       "   (0.045533586, 'cayenne'),\n",
       "   (0.04190549, 'raisins'),\n",
       "   (0.040962823, 'orange'),\n",
       "   (0.032489467, 'ground cumin'),\n",
       "   (0.026979772, 'brown sugar'),\n",
       "   (0.026884424, 'golden raisins'),\n",
       "   (0.026750794, 'fresh orange juice'),\n",
       "   (0.017331436, 'sliced almonds'),\n",
       "   (0.017028745, 'lemon juice'),\n",
       "   (0.016926909, 'lemon'),\n",
       "   (0.016751183, 'sweet paprika'),\n",
       "   (0.016173527, 'sausage casings'),\n",
       "   (0.013751003, 'paprika'),\n",
       "   (0.01196801, 'blanched almonds'),\n",
       "   (0.011859688, 'boneless pork shoulder')],\n",
       "  -6.481015990558607),\n",
       " ([(0.20511143, 'carrots'),\n",
       "   (0.08336603, 'potatoes'),\n",
       "   (0.03646982, 'fresh thyme'),\n",
       "   (0.036026046, 'cabbage'),\n",
       "   (0.03149657, 'fresh rosemary'),\n",
       "   (0.0282999, 'pork'),\n",
       "   (0.027548542, 'rice noodles'),\n",
       "   (0.02486557, 'celery'),\n",
       "   (0.023133907, 'greek yogurt'),\n",
       "   (0.022172559, 'cannellini beans'),\n",
       "   (0.021154288, 'curry powder'),\n",
       "   (0.021114785, 'bay leaf'),\n",
       "   (0.020702092, 'green peas'),\n",
       "   (0.020283647, 'vinegar'),\n",
       "   (0.020066211, 'mussels'),\n",
       "   (0.01941878, 'celery ribs'),\n",
       "   (0.019350912, 'black pepper'),\n",
       "   (0.019176168, 'green cabbage'),\n",
       "   (0.018081918, 'butternut squash'),\n",
       "   (0.017884154, 'fresh parsley')],\n",
       "  -6.659479596492677),\n",
       " ([(0.26613125, 'red bell pepper'),\n",
       "   (0.10970243, 'green bell pepper'),\n",
       "   (0.052537035, 'vegetable broth'),\n",
       "   (0.050638106, 'white onion'),\n",
       "   (0.037854698, 'yellow bell pepper'),\n",
       "   (0.025899468, 'unsweetened coconut milk'),\n",
       "   (0.023771867, 'purple onion'),\n",
       "   (0.021825941, 'poblano chiles'),\n",
       "   (0.021088548, 'pinto beans'),\n",
       "   (0.020696972, 'chopped cilantro fresh'),\n",
       "   (0.01984122, 'fresh tomatoes'),\n",
       "   (0.01925272, 'green olives'),\n",
       "   (0.019088069, 'garbanzo beans'),\n",
       "   (0.018246436, 'lard'),\n",
       "   (0.016343862, 'serrano peppers'),\n",
       "   (0.015497448, 'diced tomatoes'),\n",
       "   (0.015387591, 'frozen corn kernels'),\n",
       "   (0.015185557, 'lentils'),\n",
       "   (0.013924909, 'tomatoes'),\n",
       "   (0.013682219, 'green onions')],\n",
       "  -6.706127815341549),\n",
       " ([(0.099850155, 'cinnamon sticks'),\n",
       "   (0.082952574, 'clove'),\n",
       "   (0.077852346, 'black peppercorns'),\n",
       "   (0.07314923, 'bay leaves'),\n",
       "   (0.068573736, 'chicken'),\n",
       "   (0.045934964, 'fennel seeds'),\n",
       "   (0.03416164, 'saffron'),\n",
       "   (0.033951655, 'basmati rice'),\n",
       "   (0.028681556, 'almonds'),\n",
       "   (0.027807219, 'tomato purée'),\n",
       "   (0.026982574, 'spinach'),\n",
       "   (0.020531395, 'ground lamb'),\n",
       "   (0.020275433, 'bay leaf'),\n",
       "   (0.019423068, 'meat'),\n",
       "   (0.018085891, 'fresh ginger'),\n",
       "   (0.017387183, 'molasses'),\n",
       "   (0.017301045, 'collard greens'),\n",
       "   (0.014309455, 'lamb shoulder'),\n",
       "   (0.012404738, 'cinnamon'),\n",
       "   (0.012186742, 'green cardamom')],\n",
       "  -6.884038793677736),\n",
       " ([(0.116270505, 'fresh lime juice'),\n",
       "   (0.09082135, 'chopped cilantro fresh'),\n",
       "   (0.07816685, 'peeled fresh ginger'),\n",
       "   (0.049781106, 'low sodium soy sauce'),\n",
       "   (0.04337347, 'serrano chile'),\n",
       "   (0.04268189, 'arborio rice'),\n",
       "   (0.035067033, 'canola oil'),\n",
       "   (0.032032594, 'chives'),\n",
       "   (0.030797772, 'cooking spray'),\n",
       "   (0.027717996, 'mango'),\n",
       "   (0.023007331, 'crushed red pepper'),\n",
       "   (0.022424374, 'dark sesame oil'),\n",
       "   (0.021101939, 'green onions'),\n",
       "   (0.019897705, 'radishes'),\n",
       "   (0.019577919, 'pecans'),\n",
       "   (0.016938008, 'pork sausages'),\n",
       "   (0.016307402, 'sea scallops'),\n",
       "   (0.01617919, 'purple onion'),\n",
       "   (0.015951188, 'brown sugar'),\n",
       "   (0.015703345, 'cilantro leaves')],\n",
       "  -7.308223264629313),\n",
       " ([(0.14289477, 'ground beef'),\n",
       "   (0.09428255, 'tomato sauce'),\n",
       "   (0.066930786, 'peanuts'),\n",
       "   (0.063772, 'shredded cheddar cheese'),\n",
       "   (0.05748167, 'lean ground beef'),\n",
       "   (0.037740484, 'refried beans'),\n",
       "   (0.027658569, 'eggs'),\n",
       "   (0.02734747, 'dried parsley'),\n",
       "   (0.026349483, 'taco seasoning mix'),\n",
       "   (0.025612982, 'sliced black olives'),\n",
       "   (0.024895208, 'black olives'),\n",
       "   (0.024330266, 'Mexican cheese blend'),\n",
       "   (0.021779442, 'green onions'),\n",
       "   (0.020181106, 'shredded carrots'),\n",
       "   (0.018173994, 'diced tomatoes'),\n",
       "   (0.017277872, 'tomatoes'),\n",
       "   (0.017259143, 'canned low sodium chicken broth'),\n",
       "   (0.016231263, 'cottage cheese'),\n",
       "   (0.016147656, 'tomato juice'),\n",
       "   (0.01607211, 'egg noodles')],\n",
       "  -7.819335780949607),\n",
       " ([(0.13723032, 'baking powder'),\n",
       "   (0.10464379, 'baking soda'),\n",
       "   (0.09166392, 'buttermilk'),\n",
       "   (0.055572186, 'large eggs'),\n",
       "   (0.05225388, 'milk'),\n",
       "   (0.047218822, 'cream cheese'),\n",
       "   (0.04551122, 'eggs'),\n",
       "   (0.03923746, 'cornmeal'),\n",
       "   (0.038224548, 'yellow corn meal'),\n",
       "   (0.025712887, 'strawberries'),\n",
       "   (0.023264252, 'vanilla'),\n",
       "   (0.019952968, 'salt and ground black pepper'),\n",
       "   (0.018617757, 'ground turkey'),\n",
       "   (0.017088939, 'ancho chile pepper'),\n",
       "   (0.016249983, 'granulated sugar'),\n",
       "   (0.013709016, 'pimentos'),\n",
       "   (0.013436279, 'brown sugar'),\n",
       "   (0.013119068, 'pizza doughs'),\n",
       "   (0.012516175, 'sharp cheddar cheese'),\n",
       "   (0.011885847, 'catfish fillets')],\n",
       "  -8.255341514051645),\n",
       " ([(0.123227604, 'cooking spray'),\n",
       "   (0.09145347, 'balsamic vinegar'),\n",
       "   (0.079992324, 'large egg whites'),\n",
       "   (0.042204306, 'large eggs'),\n",
       "   (0.038998775, 'peaches'),\n",
       "   (0.03268103, 'sherry vinegar'),\n",
       "   (0.030085905, 'self rising flour'),\n",
       "   (0.02768854, 'ice water'),\n",
       "   (0.027615556, 'grape tomatoes'),\n",
       "   (0.027271505, 'polenta'),\n",
       "   (0.026078908, 'arugula'),\n",
       "   (0.025892125, 'semisweet chocolate'),\n",
       "   (0.023906292, 'grated orange'),\n",
       "   (0.021246994, 'fontina cheese'),\n",
       "   (0.019964745, 'maple syrup'),\n",
       "   (0.016811345, 'prosciutto'),\n",
       "   (0.016603863, 'brown sugar'),\n",
       "   (0.015923724, 'fresh basil'),\n",
       "   (0.015575058, 'sweet chili sauce'),\n",
       "   (0.015303803, 'purple onion')],\n",
       "  -8.942503822860099),\n",
       " ([(0.12876694, 'mayonaise'),\n",
       "   (0.08515832, 'worcestershire sauce'),\n",
       "   (0.058271352, 'cider vinegar'),\n",
       "   (0.05769963, 'hot sauce'),\n",
       "   (0.050764468, 'ketchup'),\n",
       "   (0.047844235, 'dijon mustard'),\n",
       "   (0.037395176, 'fresh spinach'),\n",
       "   (0.031948585, 'brown rice'),\n",
       "   (0.031208467, 'broccoli florets'),\n",
       "   (0.028974436, 'lemon juice'),\n",
       "   (0.02796827, 'green onions'),\n",
       "   (0.022408798, 'tofu'),\n",
       "   (0.022139855, 'pork shoulder'),\n",
       "   (0.021581586, 'cremini mushrooms'),\n",
       "   (0.021058057, 'chili'),\n",
       "   (0.02057065, 'coconut'),\n",
       "   (0.020210287, 'lump crab meat'),\n",
       "   (0.016461335, 'bow-tie pasta'),\n",
       "   (0.013015988, 'brown sugar'),\n",
       "   (0.012233856, 'minced garlic')],\n",
       "  -9.23623090484595),\n",
       " ([(0.06681575, 'feta cheese crumbles'),\n",
       "   (0.061238684, 'cucumber'),\n",
       "   (0.058128353, 'corn kernels'),\n",
       "   (0.054375887, 'romaine lettuce'),\n",
       "   (0.045490656, 'roma tomatoes'),\n",
       "   (0.042765707, 'fresh dill'),\n",
       "   (0.039059248, 'chopped fresh mint'),\n",
       "   (0.03868466, 'purple onion'),\n",
       "   (0.035461683, 'ham'),\n",
       "   (0.034863304, 'english cucumber'),\n",
       "   (0.03151631, 'french bread'),\n",
       "   (0.030957215, 'goat cheese'),\n",
       "   (0.027648116, 'cardamom pods'),\n",
       "   (0.026396884, 'fresh oregano'),\n",
       "   (0.021462718, 'lemon juice'),\n",
       "   (0.01968865, 'pecan halves'),\n",
       "   (0.01953523, 'tomatoes'),\n",
       "   (0.018339448, 'vidalia onion'),\n",
       "   (0.0166143, 'dill'),\n",
       "   (0.01658486, 'pineapple juice')],\n",
       "  -9.481663671208771),\n",
       " ([(0.1382226, 'fish sauce'),\n",
       "   (0.102401875, 'coconut milk'),\n",
       "   (0.064724274, 'light brown sugar'),\n",
       "   (0.058886044, 'shallots'),\n",
       "   (0.053512663, 'lemongrass'),\n",
       "   (0.034588918, 'lime'),\n",
       "   (0.03177685, 'medium shrimp'),\n",
       "   (0.028368263, 'brandy'),\n",
       "   (0.024660934, 'mint'),\n",
       "   (0.02248479, 'Thai red curry paste'),\n",
       "   (0.021279357, 'iceberg lettuce'),\n",
       "   (0.021184124, 'kaffir lime leaves'),\n",
       "   (0.019309884, 'penne'),\n",
       "   (0.017210633, 'jasmine rice'),\n",
       "   (0.016428053, 'cilantro'),\n",
       "   (0.016001485, 'red curry paste'),\n",
       "   (0.014992852, 'yeast'),\n",
       "   (0.01497512, 'lime wedges'),\n",
       "   (0.014770519, 'quickcooking grits'),\n",
       "   (0.014694763, 'shrimp')],\n",
       "  -9.65640932085276),\n",
       " ([(0.16929327, 'boneless skinless chicken breasts'),\n",
       "   (0.116256304, 'chicken breasts'),\n",
       "   (0.07449418, 'fresh ginger'),\n",
       "   (0.064611554, 'ground white pepper'),\n",
       "   (0.062381577, 'boneless chicken skinless thigh'),\n",
       "   (0.041787717, 'green beans'),\n",
       "   (0.03354058, 'chicken broth'),\n",
       "   (0.026514523, 'chili flakes'),\n",
       "   (0.026376367, 'rice flour'),\n",
       "   (0.016320633, 'canola oil'),\n",
       "   (0.016174642, 'hominy'),\n",
       "   (0.016037803, 'beans'),\n",
       "   (0.014747983, 'cilantro stems'),\n",
       "   (0.012765998, 'chicken legs'),\n",
       "   (0.0123878615, 'chicken stock'),\n",
       "   (0.012351394, 'coarse sea salt'),\n",
       "   (0.012153472, 'low sodium soy sauce'),\n",
       "   (0.011577864, 'fish fillets'),\n",
       "   (0.0106537, 'cooked rice'),\n",
       "   (0.010457442, 'konbu')],\n",
       "  -9.84356402957876),\n",
       " ([(0.094756864, 'dried thyme'),\n",
       "   (0.09190787, 'coarse salt'),\n",
       "   (0.08345638, 'ground nutmeg'),\n",
       "   (0.068746395, 'sweet potatoes'),\n",
       "   (0.06335316, 'ground cloves'),\n",
       "   (0.05773846, 'ground pepper'),\n",
       "   (0.05035574, 'half & half'),\n",
       "   (0.046620186, 'melted butter'),\n",
       "   (0.040679116, 'ground cinnamon'),\n",
       "   (0.036968663, 'ground allspice'),\n",
       "   (0.035028085, 'bananas'),\n",
       "   (0.03262126, 'beer'),\n",
       "   (0.027907318, 'sausages'),\n",
       "   (0.02485609, 'pure vanilla extract'),\n",
       "   (0.020514343, 'seasoning salt'),\n",
       "   (0.014757144, 'cinnamon'),\n",
       "   (0.0096637, 'poultry seasoning'),\n",
       "   (0.009235115, 'tomatoes with juice'),\n",
       "   (0.009155522, 'masala'),\n",
       "   (0.009014483, 'dressing')],\n",
       "  -10.06258912200453),\n",
       " ([(0.20931017, 'unsalted butter'),\n",
       "   (0.15119065, 'large eggs'),\n",
       "   (0.12215146, 'heavy cream'),\n",
       "   (0.064620584, 'whole milk'),\n",
       "   (0.044781785, 'low salt chicken broth'),\n",
       "   (0.040229093, 'kosher salt'),\n",
       "   (0.031160489, 'grated nutmeg'),\n",
       "   (0.03066639, 'sweetened condensed milk'),\n",
       "   (0.022245074, 'bourbon whiskey'),\n",
       "   (0.02000421, 'cream'),\n",
       "   (0.017254198, 'salmon fillets'),\n",
       "   (0.016801307, 'crème fraîche'),\n",
       "   (0.0137802195, 'marsala wine'),\n",
       "   (0.01338113, 'greek style plain yogurt'),\n",
       "   (0.013227758, 'dried red chile peppers'),\n",
       "   (0.010916813, 'sage leaves'),\n",
       "   (0.009936591, 'vanilla'),\n",
       "   (0.009761671, 'cinnamon'),\n",
       "   (0.00753868, 'salad'),\n",
       "   (0.0074286843, 'pears')],\n",
       "  -10.21896378884116),\n",
       " ([(0.16031863, 'zucchini'),\n",
       "   (0.09750405, 'crushed red pepper flakes'),\n",
       "   (0.09086752, 'eggplant'),\n",
       "   (0.088279925, 'crushed tomatoes'),\n",
       "   (0.06727327, 'chile pepper'),\n",
       "   (0.035360176, 'red wine'),\n",
       "   (0.026411822, 'beef stock'),\n",
       "   (0.023533365, 'white sugar'),\n",
       "   (0.023144081, 'dry yeast'),\n",
       "   (0.023074154, 'chicken wings'),\n",
       "   (0.022095662, 'chili pepper'),\n",
       "   (0.021300517, 'chili oil'),\n",
       "   (0.020890316, 'fresh ginger root'),\n",
       "   (0.019336453, 'whole peeled tomatoes'),\n",
       "   (0.018808827, 'bamboo shoots'),\n",
       "   (0.01811572, 'tomato paste'),\n",
       "   (0.014813156, 'allspice'),\n",
       "   (0.01461658, 'reduced-fat sour cream'),\n",
       "   (0.013729135, 'tamari soy sauce'),\n",
       "   (0.012752925, 'soft tofu')],\n",
       "  -11.099547312086),\n",
       " ([(0.18765363, 'shallots'),\n",
       "   (0.13425983, 'dry white wine'),\n",
       "   (0.055668373, 'tortilla chips'),\n",
       "   (0.05296918, 'white wine vinegar'),\n",
       "   (0.041066177, 'leeks'),\n",
       "   (0.03793239, 'chicken stock'),\n",
       "   (0.037404876, 'parsley'),\n",
       "   (0.03315427, 'fennel bulb'),\n",
       "   (0.027307045, 'chopped tomatoes'),\n",
       "   (0.026000453, 'fresh tarragon'),\n",
       "   (0.021894684, 'whipping cream'),\n",
       "   (0.021590082, 'fresh parsley leaves'),\n",
       "   (0.020319238, 'cornflour'),\n",
       "   (0.019084908, 'chopped fresh thyme'),\n",
       "   (0.016197966, 'ripe olives'),\n",
       "   (0.016188398, 'grated orange peel'),\n",
       "   (0.015569235, 'freshly grated parmesan'),\n",
       "   (0.015462622, 'fillets'),\n",
       "   (0.013178199, 'canned black beans'),\n",
       "   (0.010488371, 'halibut fillets')],\n",
       "  -11.543987691405535),\n",
       " ([(0.19733395, 'flour'),\n",
       "   (0.15961987, 'eggs'),\n",
       "   (0.120316, 'oil'),\n",
       "   (0.07116899, 'cold water'),\n",
       "   (0.049355626, 'cooking oil'),\n",
       "   (0.03892907, 'star anise'),\n",
       "   (0.026338069, 'lettuce'),\n",
       "   (0.019515738, 'brown sugar'),\n",
       "   (0.018426932, 'button mushrooms'),\n",
       "   (0.017141383, 'pork belly'),\n",
       "   (0.017027618, 'peppercorns'),\n",
       "   (0.013743726, 'corn starch'),\n",
       "   (0.01222554, 'pepper jack'),\n",
       "   (0.01210959, 'mustard'),\n",
       "   (0.011922824, 'sherry'),\n",
       "   (0.011733448, 'cognac'),\n",
       "   (0.011441202, 'serrano chilies'),\n",
       "   (0.01132451, 'taco sauce'),\n",
       "   (0.010641849, 'ground sirloin'),\n",
       "   (0.010380012, 'escarole')],\n",
       "  -11.687475629959795),\n",
       " ([(0.09036356, 'sauce'),\n",
       "   (0.07002593, 'beef broth'),\n",
       "   (0.06663129, 'fine sea salt'),\n",
       "   (0.04507569, 'red potato'),\n",
       "   (0.044998396, 'thyme sprigs'),\n",
       "   (0.04041539, 'pancetta'),\n",
       "   (0.033942726, 'apples'),\n",
       "   (0.032907583, 'corn oil'),\n",
       "   (0.028482873, 'barbecue sauce'),\n",
       "   (0.022865864, 'cooked white rice'),\n",
       "   (0.0225591, 'black pepper'),\n",
       "   (0.022218395, 'boiling potatoes'),\n",
       "   (0.022171218, 'dry mustard'),\n",
       "   (0.021352636, 'elbow macaroni'),\n",
       "   (0.0208563, 'chicken pieces'),\n",
       "   (0.019349964, 'fresh curry leaves'),\n",
       "   (0.018390082, 'small red potato'),\n",
       "   (0.018194811, 'pearl onions'),\n",
       "   (0.017457036, 'bay leaves'),\n",
       "   (0.017292634, 'fenugreek seeds')],\n",
       "  -12.400385697104019),\n",
       " ([(0.10380022, 'curry powder'),\n",
       "   (0.09514865, 'red chili peppers'),\n",
       "   (0.07463567, 'hot water'),\n",
       "   (0.06870969, 'chiles'),\n",
       "   (0.06442438, 'bread crumbs'),\n",
       "   (0.05137756, 'apple cider vinegar'),\n",
       "   (0.03783129, 'slivered almonds'),\n",
       "   (0.032441273, 'roasted peanuts'),\n",
       "   (0.027497048, 'lime juice'),\n",
       "   (0.027158296, 'lime zest'),\n",
       "   (0.025517995, 'palm sugar'),\n",
       "   (0.019743027, 'beansprouts'),\n",
       "   (0.018862044, 'tamarind paste'),\n",
       "   (0.017017052, 'cream of chicken soup'),\n",
       "   (0.01700575, 'pico de gallo'),\n",
       "   (0.016191764, 'skirt steak'),\n",
       "   (0.016013345, 'stock'),\n",
       "   (0.015630335, 'herbs'),\n",
       "   (0.014396375, 'chorizo'),\n",
       "   (0.01436925, 'great northern beans')],\n",
       "  -12.760488245320568),\n",
       " ([(0.1790804, 'sea salt'),\n",
       "   (0.11881329, 'mushrooms'),\n",
       "   (0.05000783, 'baking potatoes'),\n",
       "   (0.049360715, 'coconut oil'),\n",
       "   (0.043106154, 'thai basil'),\n",
       "   (0.041902706, 'garlic salt'),\n",
       "   (0.03742307, 'kale'),\n",
       "   (0.032030296, 'ground cayenne pepper'),\n",
       "   (0.028500462, 'seasoning'),\n",
       "   (0.02823285, 'Italian bread'),\n",
       "   (0.027413981, 'cooked chicken breasts'),\n",
       "   (0.022662012, 'lime'),\n",
       "   (0.022160552, 'pesto'),\n",
       "   (0.020862386, 'flank steak'),\n",
       "   (0.019641945, 'tilapia fillets'),\n",
       "   (0.018666625, 'cachaca'),\n",
       "   (0.017956676, 'dried currants'),\n",
       "   (0.0149481995, 'wild mushrooms'),\n",
       "   (0.013830587, 'minced ginger'),\n",
       "   (0.0125071285, 'puff pastry')],\n",
       "  -14.399989944219579),\n",
       " ([(0.11333516, 'cherry tomatoes'),\n",
       "   (0.11169135, 'fresh mint'),\n",
       "   (0.049464818, 'vegetables'),\n",
       "   (0.044637434, 'fresh thyme leaves'),\n",
       "   (0.044143192, 'plain yogurt'),\n",
       "   (0.03673903, 'kimchi'),\n",
       "   (0.03268931, 'sugar pea'),\n",
       "   (0.03217558, 'rosemary sprigs'),\n",
       "   (0.03190285, 'hazelnuts'),\n",
       "   (0.029789569, 'ice'),\n",
       "   (0.028674047, 'creamy peanut butter'),\n",
       "   (0.027361054, 'greens'),\n",
       "   (0.025372436, 'frozen pastry puff sheets'),\n",
       "   (0.018832056, 'kosher salt'),\n",
       "   (0.01755754, 'turkey'),\n",
       "   (0.016262004, 'chicken livers'),\n",
       "   (0.016157454, 'boneless chicken thighs'),\n",
       "   (0.015940882, 'sambal ulek'),\n",
       "   (0.014819079, 'fresh oregano leaves'),\n",
       "   (0.01414719, 'country ham')],\n",
       "  -15.571050546101239),\n",
       " ([(0.12968957, 'warm water'),\n",
       "   (0.08585492, 'active dry yeast'),\n",
       "   (0.05462614, 'lemon zest'),\n",
       "   (0.048011098, 'bacon slices'),\n",
       "   (0.04687472, 'broccoli'),\n",
       "   (0.04497074, 'yukon gold potatoes'),\n",
       "   (0.044145096, 'mint leaves'),\n",
       "   (0.04396575, 'bread flour'),\n",
       "   (0.043847896, 'thai chile'),\n",
       "   (0.036166035, 'provolone cheese'),\n",
       "   (0.030757947, 'part-skim ricotta cheese'),\n",
       "   (0.02494093, 'curry paste'),\n",
       "   (0.021220006, 'old bay seasoning'),\n",
       "   (0.018053398, 'ranch dressing'),\n",
       "   (0.016769934, 'agave nectar'),\n",
       "   (0.01658149, 'lettuce leaves'),\n",
       "   (0.01599406, 'spinach leaves'),\n",
       "   (0.013965775, 'skinless chicken breasts'),\n",
       "   (0.013775872, 'creole mustard'),\n",
       "   (0.013023846, 'gari')],\n",
       "  -15.743775277270819),\n",
       " ([(0.11736896, 'sliced green onions'),\n",
       "   (0.08712045, 'chopped garlic'),\n",
       "   (0.06985771, 'taco seasoning'),\n",
       "   (0.060299773, 'cheddar cheese'),\n",
       "   (0.060033526, 'monterey jack'),\n",
       "   (0.052895878, 'reduced sodium soy sauce'),\n",
       "   (0.050532572, 'asian fish sauce'),\n",
       "   (0.049994186, 'minced onion'),\n",
       "   (0.048658133, '1% low-fat milk'),\n",
       "   (0.037890203, 'non-fat sour cream'),\n",
       "   (0.034487467, 'szechwan peppercorns'),\n",
       "   (0.027014319, 'gruyere cheese'),\n",
       "   (0.025043225, 'cream of tartar'),\n",
       "   (0.022323783, 'semi-sweet chocolate morsels'),\n",
       "   (0.022276899, 'fat skimmed chicken broth'),\n",
       "   (0.021701425, 'cauliflower florets'),\n",
       "   (0.01691187, 'crimini mushrooms'),\n",
       "   (0.014419199, 'unsalted dry roast peanuts'),\n",
       "   (0.012740003, 'cheese tortellini'),\n",
       "   (0.011980041, 'chuck roast')],\n",
       "  -15.801137438101163),\n",
       " ([(0.11111517, 'red pepper'),\n",
       "   (0.0764822, 'corn'),\n",
       "   (0.07465512, 'beef'),\n",
       "   (0.07173451, 'cheese'),\n",
       "   (0.068649255, 'green pepper'),\n",
       "   (0.033873513, 'mascarpone'),\n",
       "   (0.033535562, 'Mexican oregano'),\n",
       "   (0.029484382, 'tequila'),\n",
       "   (0.028458761, 'paneer'),\n",
       "   (0.024720937, 'fresh green bean'),\n",
       "   (0.02459547, 'ice cubes'),\n",
       "   (0.022419645, 'fat'),\n",
       "   (0.022029173, 'whipped cream'),\n",
       "   (0.019291129, 'orange zest'),\n",
       "   (0.014600417, 'chicken stock cubes'),\n",
       "   (0.014533566, 'fruit'),\n",
       "   (0.01429012, 'orange liqueur'),\n",
       "   (0.013876908, 'dark corn syrup'),\n",
       "   (0.012693182, 'shredded parmesan cheese'),\n",
       "   (0.012452533, 'teas')],\n",
       "  -16.073938948472186),\n",
       " ([(0.14291121, 'bacon'),\n",
       "   (0.10182384, 'cajun seasoning'),\n",
       "   (0.09119487, 'grated lemon zest'),\n",
       "   (0.07212939, 'dark brown sugar'),\n",
       "   (0.05804373, 'white rice'),\n",
       "   (0.04065945, 'cake flour'),\n",
       "   (0.032142397, 'light corn syrup'),\n",
       "   (0.030036828, 'eggs'),\n",
       "   (0.026650218, 'white bread'),\n",
       "   (0.024963591, 'caraway seeds'),\n",
       "   (0.023644792, 'vanilla ice cream'),\n",
       "   (0.020085681, 'sweet italian sausage'),\n",
       "   (0.019269498, 'sirloin steak'),\n",
       "   (0.015825948, 'grating cheese'),\n",
       "   (0.015697094, 'asian pear'),\n",
       "   (0.014302883, 'sausage links'),\n",
       "   (0.013606128, 'chicken meat'),\n",
       "   (0.012097917, 'celery salt'),\n",
       "   (0.011957422, 'shredded swiss cheese'),\n",
       "   (0.011349679, 'oven-ready lasagna noodles')],\n",
       "  -16.62164959509965),\n",
       " ([(0.115136124, 'boiling water'),\n",
       "   (0.08875387, 'white pepper'),\n",
       "   (0.08190923, 'pork tenderloin'),\n",
       "   (0.0567097, 'all purpose unbleached flour'),\n",
       "   (0.048775498, 'dried shiitake mushrooms'),\n",
       "   (0.039824463, 'vegetable shortening'),\n",
       "   (0.034590475, 'masa harina'),\n",
       "   (0.03206846, 'hard-boiled egg'),\n",
       "   (0.031792123, 'orange bell pepper'),\n",
       "   (0.031106802, 'corn husks'),\n",
       "   (0.03022254, 'lime rind'),\n",
       "   (0.025945095, 'rib'),\n",
       "   (0.019769978, 'cooked turkey'),\n",
       "   (0.01960776, 'chicken bouillon granules'),\n",
       "   (0.017409049, 'hass avocado'),\n",
       "   (0.013518815, 'vietnamese fish sauce'),\n",
       "   (0.012918736, 'chinese sausage'),\n",
       "   (0.012733632, 'scallops'),\n",
       "   (0.012536041, 'green enchilada sauce'),\n",
       "   (0.01248709, 'orzo pasta')],\n",
       "  -17.50178968188845)]"
      ]
     },
     "execution_count": 92,
     "metadata": {},
     "output_type": "execute_result"
    }
   ],
   "source": [
    "np.random.seed(76543)\n",
    "ldamodel2 = models.ldamodel.LdaModel(corpus2, id2word=dictionary2, num_topics=40, passes=5)\n",
    "\n"
   ]
  },
  {
   "cell_type": "code",
   "execution_count": 96,
   "metadata": {},
   "outputs": [],
   "source": [
    "coherence2 = sum([i[1] for i in ldamodel2.top_topics(corpus2)])/len(ldamodel2.top_topics(corpus2))"
   ]
  },
  {
   "cell_type": "code",
   "execution_count": 97,
   "metadata": {},
   "outputs": [],
   "source": [
    "coherence = sum([i[1] for i in ldamodel.top_topics(corpus)])/len(ldamodel.top_topics(corpus))"
   ]
  },
  {
   "cell_type": "code",
   "execution_count": 98,
   "metadata": {},
   "outputs": [],
   "source": [
    "def save_answers3(coherence, coherence2):\n",
    "    with open(\"cooking_LDA_pa_task3.txt\", \"w\") as fout:\n",
    "        fout.write(\" \".join([\"%3f\"%el for el in [coherence, coherence2]]))"
   ]
  },
  {
   "cell_type": "code",
   "execution_count": 99,
   "metadata": {},
   "outputs": [],
   "source": [
    "save_answers3(coherence, coherence2)"
   ]
  },
  {
   "cell_type": "markdown",
   "metadata": {},
   "source": [
    "Считается, что когерентность хорошо соотносится с человеческими оценками интерпретируемости тем. Поэтому на больших текстовых коллекциях когерентность обычно повышается, если убрать фоновую лексику. Однако в нашем случае этого не произошло. "
   ]
  },
  {
   "cell_type": "markdown",
   "metadata": {},
   "source": [
    "### Изучение влияния гиперпараметра alpha"
   ]
  },
  {
   "cell_type": "markdown",
   "metadata": {},
   "source": [
    "В этом разделе мы будем работать со второй моделью, то есть той, которая построена по сокращенному корпусу. \n",
    "\n",
    "Пока что мы посмотрели только на матрицу темы-слова, теперь давайте посмотрим на матрицу темы-документы. Выведите темы для нулевого (или любого другого) документа из корпуса, воспользовавшись методом *get_document_topics* второй модели:"
   ]
  },
  {
   "cell_type": "code",
   "execution_count": 104,
   "metadata": {},
   "outputs": [
    {
     "data": {
      "text/plain": [
       "[(25, 0.12812185), (31, 0.61758035), (33, 0.13866952)]"
      ]
     },
     "execution_count": 104,
     "metadata": {},
     "output_type": "execute_result"
    }
   ],
   "source": [
    "ldamodel2.get_document_topics(corpus2)[0]"
   ]
  },
  {
   "cell_type": "markdown",
   "metadata": {},
   "source": [
    "Также выведите содержимое переменной *.alpha* второй модели:"
   ]
  },
  {
   "cell_type": "code",
   "execution_count": 105,
   "metadata": {},
   "outputs": [
    {
     "data": {
      "text/plain": [
       "array([0.025, 0.025, 0.025, 0.025, 0.025, 0.025, 0.025, 0.025, 0.025,\n",
       "       0.025, 0.025, 0.025, 0.025, 0.025, 0.025, 0.025, 0.025, 0.025,\n",
       "       0.025, 0.025, 0.025, 0.025, 0.025, 0.025, 0.025, 0.025, 0.025,\n",
       "       0.025, 0.025, 0.025, 0.025, 0.025, 0.025, 0.025, 0.025, 0.025,\n",
       "       0.025, 0.025, 0.025, 0.025], dtype=float32)"
      ]
     },
     "execution_count": 105,
     "metadata": {},
     "output_type": "execute_result"
    }
   ],
   "source": [
    "ldamodel2.alpha"
   ]
  },
  {
   "cell_type": "markdown",
   "metadata": {},
   "source": [
    "У вас должно получиться, что документ характеризуется небольшим числом тем. Попробуем поменять гиперпараметр alpha, задающий априорное распределение Дирихле для распределений тем в документах."
   ]
  },
  {
   "cell_type": "markdown",
   "metadata": {},
   "source": [
    "__Задание 4.__ Обучите третью модель: используйте сокращенный корпус (corpus2 и dictionary2) и установите параметр __alpha=1__, passes=5. Не забудьте про фиксацию seed! Выведите темы новой модели для нулевого документа; должно получиться, что распределение над множеством тем практически равномерное. Чтобы убедиться в том, что во второй модели документы описываются гораздо более разреженными распределениями, чем в третьей, посчитайте суммарное количество элементов, __превосходящих 0.01__, в матрицах темы-документы обеих моделей. Другими словами, запросите темы  модели для каждого документа с параметром *minimum_probability=0.01* и просуммируйте число элементов в получаемых массивах. Передайте две суммы (сначала для модели с alpha по умолчанию, затем для модели в alpha=1) в функцию save_answers4."
   ]
  },
  {
   "cell_type": "code",
   "execution_count": 106,
   "metadata": {},
   "outputs": [],
   "source": [
    "np.random.seed(76543)\n",
    "ldamodel3 = models.ldamodel.LdaModel(corpus2, id2word=dictionary2, num_topics=40, passes=5, alpha=1)"
   ]
  },
  {
   "cell_type": "code",
   "execution_count": 112,
   "metadata": {},
   "outputs": [],
   "source": [
    "count_model3 = sum([len(i) for i in ldamodel3.get_document_topics(corpus2, minimum_probability=0.01)])"
   ]
  },
  {
   "cell_type": "code",
   "execution_count": 113,
   "metadata": {},
   "outputs": [],
   "source": [
    "count_model2 = sum([len(i) for i in ldamodel2.get_document_topics(corpus2, minimum_probability=0.01)])"
   ]
  },
  {
   "cell_type": "code",
   "execution_count": 115,
   "metadata": {},
   "outputs": [],
   "source": [
    "def save_answers4(count_model2, count_model3):\n",
    "    with open(\"cooking_LDA_pa_task4.txt\", \"w\") as fout:\n",
    "        fout.write(\" \".join([str(el) for el in [count_model2, count_model3]]))"
   ]
  },
  {
   "cell_type": "code",
   "execution_count": 116,
   "metadata": {},
   "outputs": [],
   "source": [
    "save_answers4(count_model2, count_model3)"
   ]
  },
  {
   "cell_type": "markdown",
   "metadata": {},
   "source": [
    "Таким образом, гиперпараметр __alpha__ влияет на разреженность распределений тем в документах. Аналогично гиперпараметр __eta__ влияет на разреженность распределений слов в темах."
   ]
  },
  {
   "cell_type": "markdown",
   "metadata": {},
   "source": [
    "### LDA как способ понижения размерности\n",
    "Иногда, распределения над темами, найденные с помощью LDA, добавляют в матрицу объекты-признаки как дополнительные, семантические, признаки, и это может улучшить качество решения задачи. Для простоты давайте просто обучим классификатор рецептов на кухни на признаках, полученных из LDA, и измерим точность (accuracy).\n",
    "\n",
    "__Задание 5.__ Используйте модель, построенную по сокращенной выборке с alpha по умолчанию (вторую модель). Составьте матрицу $\\Theta = p(t|d)$ вероятностей тем в документах; вы можете использовать тот же метод get_document_topics, а также вектор правильных ответов y (в том же порядке, в котором рецепты идут в переменной recipes). Создайте объект RandomForestClassifier со 100 деревьями, с помощью функции cross_val_score вычислите среднюю accuracy по трем фолдам (перемешивать данные не нужно) и передайте в функцию save_answers5."
   ]
  },
  {
   "cell_type": "code",
   "execution_count": 117,
   "metadata": {},
   "outputs": [],
   "source": [
    "from sklearn.ensemble import RandomForestClassifier\n",
    "from sklearn.model_selection import cross_val_score"
   ]
  },
  {
   "cell_type": "code",
   "execution_count": 122,
   "metadata": {},
   "outputs": [],
   "source": [
    "Theta = np.zeros((len(ldamodel2.get_document_topics(corpus2)), 40))"
   ]
  },
  {
   "cell_type": "code",
   "execution_count": 123,
   "metadata": {},
   "outputs": [
    {
     "data": {
      "text/plain": [
       "array([[0., 0., 0., ..., 0., 0., 0.],\n",
       "       [0., 0., 0., ..., 0., 0., 0.],\n",
       "       [0., 0., 0., ..., 0., 0., 0.],\n",
       "       ...,\n",
       "       [0., 0., 0., ..., 0., 0., 0.],\n",
       "       [0., 0., 0., ..., 0., 0., 0.],\n",
       "       [0., 0., 0., ..., 0., 0., 0.]])"
      ]
     },
     "execution_count": 123,
     "metadata": {},
     "output_type": "execute_result"
    }
   ],
   "source": [
    "Theta"
   ]
  },
  {
   "cell_type": "code",
   "execution_count": 129,
   "metadata": {},
   "outputs": [],
   "source": [
    "for i in range(len(ldamodel2.get_document_topics(corpus2))):\n",
    "    for j in ldamodel2.get_document_topics(corpus2)[i]:\n",
    "\n",
    "        Theta[i,j[0]] = j[1]"
   ]
  },
  {
   "cell_type": "code",
   "execution_count": 132,
   "metadata": {},
   "outputs": [
    {
     "data": {
      "text/plain": [
       "array([0.        , 0.        , 0.        , 0.        , 0.        ,\n",
       "       0.        , 0.        , 0.        , 0.        , 0.        ,\n",
       "       0.        , 0.        , 0.        , 0.        , 0.        ,\n",
       "       0.        , 0.        , 0.        , 0.        , 0.        ,\n",
       "       0.        , 0.        , 0.        , 0.        , 0.        ,\n",
       "       0.12812185, 0.        , 0.        , 0.        , 0.        ,\n",
       "       0.        , 0.61757576, 0.        , 0.13867413, 0.        ,\n",
       "       0.        , 0.        , 0.        , 0.        , 0.        ])"
      ]
     },
     "execution_count": 132,
     "metadata": {},
     "output_type": "execute_result"
    }
   ],
   "source": [
    "Theta[0]"
   ]
  },
  {
   "cell_type": "code",
   "execution_count": 134,
   "metadata": {},
   "outputs": [],
   "source": [
    "cuisine = [i['cuisine'] for i in recipes]"
   ]
  },
  {
   "cell_type": "code",
   "execution_count": 136,
   "metadata": {},
   "outputs": [
    {
     "data": {
      "text/plain": [
       "39774"
      ]
     },
     "execution_count": 136,
     "metadata": {},
     "output_type": "execute_result"
    }
   ],
   "source": [
    "len(cuisine)"
   ]
  },
  {
   "cell_type": "code",
   "execution_count": 139,
   "metadata": {},
   "outputs": [],
   "source": [
    "rf = RandomForestClassifier(n_estimators=100)\n",
    "\n",
    "cv = cross_val_score(rf, Theta, cuisine, cv=3, scoring='accuracy')"
   ]
  },
  {
   "cell_type": "code",
   "execution_count": 143,
   "metadata": {},
   "outputs": [],
   "source": [
    "accuracy = cv.mean()"
   ]
  },
  {
   "cell_type": "code",
   "execution_count": 144,
   "metadata": {},
   "outputs": [],
   "source": [
    "def save_answers5(accuracy):\n",
    "     with open(\"cooking_LDA_pa_task5.txt\", \"w\") as fout:\n",
    "        fout.write(str(accuracy))"
   ]
  },
  {
   "cell_type": "code",
   "execution_count": 145,
   "metadata": {},
   "outputs": [],
   "source": [
    "save_answers5(accuracy)"
   ]
  },
  {
   "cell_type": "markdown",
   "metadata": {},
   "source": [
    "Для такого большого количества классов это неплохая точность. Вы можете попроовать обучать RandomForest на исходной матрице частот слов, имеющей значительно большую размерность, и увидеть, что accuracy увеличивается на 10–15%. Таким образом, LDA собрал не всю, но достаточно большую часть информации из выборки, в матрице низкого ранга."
   ]
  },
  {
   "cell_type": "markdown",
   "metadata": {},
   "source": [
    "### LDA — вероятностная модель\n",
    "Матричное разложение, использующееся в LDA, интерпретируется как следующий процесс генерации документов.\n",
    "\n",
    "Для документа $d$ длины $n_d$:\n",
    "1. Из априорного распределения Дирихле с параметром alpha сгенерировать распределение над множеством тем: $\\theta_d \\sim Dirichlet(\\alpha)$\n",
    "1. Для каждого слова $w = 1, \\dots, n_d$:\n",
    "    1. Сгенерировать тему из дискретного распределения $t \\sim \\theta_{d}$\n",
    "    1. Сгенерировать слово из дискретного распределения $w \\sim \\phi_{t}$.\n",
    "    \n",
    "Подробнее об этом в [Википедии](https://en.wikipedia.org/wiki/Latent_Dirichlet_allocation).\n",
    "\n",
    "В контексте нашей задачи получается, что, используя данный генеративный процесс, можно создавать новые рецепты. Вы можете передать в функцию модель и число ингредиентов и сгенерировать рецепт :)"
   ]
  },
  {
   "cell_type": "code",
   "execution_count": null,
   "metadata": {},
   "outputs": [],
   "source": [
    "def generate_recipe(model, num_ingredients):\n",
    "    theta = np.random.dirichlet(model.alpha)\n",
    "    for i in range(num_ingredients):\n",
    "        t = np.random.choice(np.arange(model.num_topics), p=theta)\n",
    "        topic = model.show_topic(t, topn=model.num_terms)\n",
    "        topic_distr = [x[1] for x in topic]\n",
    "        terms = [x[0] for x in topic]\n",
    "        w = np.random.choice(terms, p=topic_distr)\n",
    "        print w"
   ]
  },
  {
   "cell_type": "code",
   "execution_count": null,
   "metadata": {},
   "outputs": [],
   "source": []
  },
  {
   "cell_type": "markdown",
   "metadata": {},
   "source": [
    "### Интерпретация построенной модели\n",
    "Вы можете рассмотреть топы ингредиентов каждой темы. Большиснтво тем сами по себе похожи на рецепты; в некоторых собираются продукты одного вида, например, свежие фрукты или разные виды сыра.\n",
    "\n",
    "Попробуем эмпирически соотнести наши темы с национальными кухнями (cuisine). Построим матрицу $A$ размера темы $x$ кухни, ее элементы $a_{tc}$ — суммы $p(t|d)$ по всем документам $d$, которые отнесены к кухне $c$. Нормируем матрицу на частоты рецептов по разным кухням, чтобы избежать дисбаланса между кухнями. Следующая функция получает на вход объект модели, объект корпуса и исходные данные и возвращает нормированную матрицу $A$. Ее удобно визуализировать с помощью seaborn."
   ]
  },
  {
   "cell_type": "code",
   "execution_count": null,
   "metadata": {},
   "outputs": [],
   "source": [
    "import pandas\n",
    "import seaborn\n",
    "from matplotlib import pyplot as plt\n",
    "%matplotlib inline"
   ]
  },
  {
   "cell_type": "code",
   "execution_count": null,
   "metadata": {},
   "outputs": [],
   "source": [
    "def compute_topic_cuisine_matrix(model, corpus, recipes):\n",
    "    # составляем вектор целевых признаков\n",
    "    targets = list(set([recipe[\"cuisine\"] for recipe in recipes]))\n",
    "    # составляем матрицу\n",
    "    tc_matrix = pandas.DataFrame(data=np.zeros((model.num_topics, len(targets))), columns=targets)\n",
    "    for recipe, bow in zip(recipes, corpus):\n",
    "        recipe_topic = model.get_document_topics(bow)\n",
    "        for t, prob in recipe_topic:\n",
    "            tc_matrix[recipe[\"cuisine\"]][t] += prob\n",
    "    # нормируем матрицу\n",
    "    target_sums = pandas.DataFrame(data=np.zeros((1, len(targets))), columns=targets)\n",
    "    for recipe in recipes:\n",
    "        target_sums[recipe[\"cuisine\"]] += 1\n",
    "    return pandas.DataFrame(tc_matrix.values/target_sums.values, columns=tc_matrix.columns)"
   ]
  },
  {
   "cell_type": "code",
   "execution_count": null,
   "metadata": {},
   "outputs": [],
   "source": [
    "def plot_matrix(tc_matrix):\n",
    "    plt.figure(figsize=(10, 10))\n",
    "    seaborn.heatmap(tc_matrix, square=True)"
   ]
  },
  {
   "cell_type": "code",
   "execution_count": null,
   "metadata": {},
   "outputs": [],
   "source": [
    "# Визуализируйте матрицу\n"
   ]
  },
  {
   "cell_type": "markdown",
   "metadata": {},
   "source": [
    "Чем темнее квадрат в матрице, тем больше связь этой темы с данной кухней. Мы видим, что у нас есть темы, которые связаны с несколькими кухнями. Такие темы показывают набор ингредиентов, которые популярны в кухнях нескольких народов, то есть указывают на схожесть кухонь этих народов. Некоторые темы распределены по всем кухням равномерно, они показывают наборы продуктов, которые часто используются в кулинарии всех стран. "
   ]
  },
  {
   "cell_type": "markdown",
   "metadata": {},
   "source": [
    "Жаль, что в датасете нет названий рецептов, иначе темы было бы проще интерпретировать..."
   ]
  },
  {
   "cell_type": "markdown",
   "metadata": {},
   "source": [
    "### Заключение\n",
    "В этом задании вы построили несколько моделей LDA, посмотрели, на что влияют гиперпараметры модели и как можно использовать построенную модель. "
   ]
  }
 ],
 "metadata": {
  "kernelspec": {
   "display_name": "Python 3 (ipykernel)",
   "language": "python",
   "name": "python3"
  },
  "language_info": {
   "codemirror_mode": {
    "name": "ipython",
    "version": 3
   },
   "file_extension": ".py",
   "mimetype": "text/x-python",
   "name": "python",
   "nbconvert_exporter": "python",
   "pygments_lexer": "ipython3",
   "version": "3.9.7"
  }
 },
 "nbformat": 4,
 "nbformat_minor": 1
}
