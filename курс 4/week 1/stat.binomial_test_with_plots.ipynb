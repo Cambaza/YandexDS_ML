{
 "cells": [
  {
   "cell_type": "markdown",
   "metadata": {},
   "source": [
    "**Корректность проверена на Python 3.7:**\n",
    "+ scipy 1.1.0\n",
    "+ numpy 1.14.5"
   ]
  },
  {
   "cell_type": "markdown",
   "metadata": {},
   "source": [
    "# Биномиальный критерий для доли"
   ]
  },
  {
   "cell_type": "code",
   "execution_count": 19,
   "metadata": {},
   "outputs": [],
   "source": [
    "import numpy as np\n",
    "from scipy import stats"
   ]
  },
  {
   "cell_type": "code",
   "execution_count": 20,
   "metadata": {},
   "outputs": [
    {
     "name": "stdout",
     "output_type": "stream",
     "text": [
      "1.22.3\n",
      "1.8.0\n"
     ]
    }
   ],
   "source": [
    "import scipy\n",
    "print(numpy.__version__)\n",
    "print(scipy.__version__)"
   ]
  },
  {
   "cell_type": "code",
   "execution_count": 21,
   "metadata": {},
   "outputs": [
    {
     "name": "stdout",
     "output_type": "stream",
     "text": [
      "Populating the interactive namespace from numpy and matplotlib\n"
     ]
    }
   ],
   "source": [
    "%pylab inline"
   ]
  },
  {
   "cell_type": "markdown",
   "metadata": {},
   "source": [
    "## Shaken, not stirred"
   ]
  },
  {
   "cell_type": "markdown",
   "metadata": {},
   "source": [
    "Джеймс Бонд говорит, что предпочитает мартини взболтанным, но не смешанным. Проведём слепой тест (blind test): $n$ раз предложим ему пару напитков и выясним, какой из двух он предпочитает. Получаем: \n",
    "* **выборка:** бинарный вектор длины $n$, где 1 — Джеймс Бонд предпочел взболтанный напиток, 0 — смешанный;\n",
    "* **гипотеза $H_0$:** Джеймс Бонд не различает 2 вида напитков и выбирает наугад;\n",
    "* **статистика $T$:** количество единиц в выборке."
   ]
  },
  {
   "cell_type": "markdown",
   "metadata": {},
   "source": [
    "Если нулевая гипотеза справедлива и Джеймс Бонд действительно выбирает наугад, то мы можем с одинаковой вероятностью получить любой из $2^n$ бинарных векторов длины $n$. \n",
    "\n",
    "Мы могли бы перебрать все такие векторы, посчитать на каждом значение статистики $T$ и получить таким образом её нулевое распределение. Но в данном случае этот этап можно пропустить: мы имеем дело с выборкой, состоящей из 0 и 1, то есть, из распределения Бернулли $Ber(p)$. Нулевая гипотеза выбора наугад соответствует значению $p=\\frac1{2}$, то есть, в каждом эксперименте вероятность выбора взболтанного мартини равна $\\frac1{2}$. Сумма $n$ одинаково распределённых бернуллиевских случайных величин с параметром $p$ имеет биномиальное распределение $Bin(n, p)$. Следовательно, нулевое распределение статистики $T$ — $Bin\\left(n, \\frac1{2}\\right)$.\n",
    "\n",
    "Пусть $n=16.$"
   ]
  },
  {
   "cell_type": "code",
   "execution_count": 22,
   "metadata": {},
   "outputs": [],
   "source": [
    "n = 16\n",
    "F_H0 = stats.binom(n, 0.5)"
   ]
  },
  {
   "cell_type": "code",
   "execution_count": 23,
   "metadata": {},
   "outputs": [
    {
     "data": {
      "text/plain": [
       "array([1.52587891e-05, 2.44140625e-04, 1.83105469e-03, 8.54492188e-03,\n",
       "       2.77709961e-02, 6.66503906e-02, 1.22192383e-01, 1.74560547e-01,\n",
       "       1.96380615e-01, 1.74560547e-01, 1.22192383e-01, 6.66503906e-02,\n",
       "       2.77709961e-02, 8.54492188e-03, 1.83105469e-03, 2.44140625e-04,\n",
       "       1.52587891e-05])"
      ]
     },
     "execution_count": 23,
     "metadata": {},
     "output_type": "execute_result"
    }
   ],
   "source": [
    "F_H0.pmf(x)"
   ]
  },
  {
   "cell_type": "code",
   "execution_count": 24,
   "metadata": {},
   "outputs": [
    {
     "data": {
      "image/png": "[encoded data removed]",
      "text/plain": [
       "<Figure size 432x288 with 1 Axes>"
      ]
     },
     "metadata": {
      "needs_background": "light"
     },
     "output_type": "display_data"
    }
   ],
   "source": [
    "x = np.linspace(0,16,17)\n",
    "\n",
    "pylab.bar(x, F_H0.pmf(x), align = 'center')\n",
    "xlim(-0.5, 16.5) \n",
    "pylab.show()"
   ]
  },
  {
   "cell_type": "markdown",
   "metadata": {},
   "source": [
    "## Односторонняя альтернатива"
   ]
  },
  {
   "cell_type": "markdown",
   "metadata": {},
   "source": [
    "**гипотеза $H_1$:** Джеймс Бонд предпочитает взболтанный мартини.\n",
    "\n",
    "При такой альтернативе более вероятны большие значения статистики; при расчёте достигаемого уровня значимости будем суммировать высоту столбиков в правом хвосте распределения."
   ]
  },
  {
   "cell_type": "code",
   "execution_count": 25,
   "metadata": {},
   "outputs": [
    {
     "data": {
      "image/png": "[encoded data removed]",
      "text/plain": [
       "<Figure size 432x288 with 1 Axes>"
      ]
     },
     "metadata": {
      "needs_background": "light"
     },
     "output_type": "display_data"
    }
   ],
   "source": [
    "pylab.bar(x, F_H0.pmf(x), align = 'center')\n",
    "pylab.bar(np.linspace(12,16,5), F_H0.pmf(np.linspace(12,16,5)), align = 'center', color='red')\n",
    "xlim(-0.5, 16.5) \n",
    "pylab.show()"
   ]
  },
  {
   "cell_type": "code",
   "execution_count": 26,
   "metadata": {},
   "outputs": [
    {
     "data": {
      "text/plain": [
       "0.0384063720703125"
      ]
     },
     "execution_count": 26,
     "metadata": {},
     "output_type": "execute_result"
    }
   ],
   "source": [
    "stats.binom_test(12, 16, 0.5, alternative = 'greater')"
   ]
  },
  {
   "cell_type": "code",
   "execution_count": 27,
   "metadata": {},
   "outputs": [
    {
     "data": {
      "image/png": "[encoded data removed]",
      "text/plain": [
       "<Figure size 432x288 with 1 Axes>"
      ]
     },
     "metadata": {
      "needs_background": "light"
     },
     "output_type": "display_data"
    }
   ],
   "source": [
    "pylab.bar(x, F_H0.pmf(x), align = 'center')\n",
    "pylab.bar(np.linspace(11,16,6), F_H0.pmf(np.linspace(11,16,6)), align = 'center', color='red')\n",
    "xlim(-0.5, 16.5) \n",
    "pylab.show()"
   ]
  },
  {
   "cell_type": "code",
   "execution_count": 28,
   "metadata": {},
   "outputs": [
    {
     "data": {
      "text/plain": [
       "0.1050567626953125"
      ]
     },
     "execution_count": 28,
     "metadata": {},
     "output_type": "execute_result"
    }
   ],
   "source": [
    "stats.binom_test(11, 16, 0.5, alternative = 'greater')"
   ]
  },
  {
   "cell_type": "markdown",
   "metadata": {},
   "source": [
    "## Двусторонняя альтернатива"
   ]
  },
  {
   "cell_type": "markdown",
   "metadata": {},
   "source": [
    "**гипотеза $H_1$:** Джеймс Бонд предпочитает какой-то определённый вид мартини.\n",
    "\n",
    "При такой альтернативе более вероятны очень большие и очень маленькие значения статистики; при расчёте достигаемого уровня значимости будем суммировать высоту столбиков в правом и левом хвостах распределения."
   ]
  },
  {
   "cell_type": "code",
   "execution_count": 29,
   "metadata": {},
   "outputs": [
    {
     "data": {
      "image/png": "[encoded data removed]",
      "text/plain": [
       "<Figure size 432x288 with 1 Axes>"
      ]
     },
     "metadata": {
      "needs_background": "light"
     },
     "output_type": "display_data"
    }
   ],
   "source": [
    "pylab.bar(x, F_H0.pmf(x), align = 'center')\n",
    "pylab.bar(np.linspace(12,16,5), F_H0.pmf(np.linspace(12,16,5)), align = 'center', color='red')\n",
    "pylab.bar(np.linspace(0,4,5), F_H0.pmf(np.linspace(0,4,5)), align = 'center', color='red')\n",
    "xlim(-0.5, 16.5) \n",
    "pylab.show()"
   ]
  },
  {
   "cell_type": "code",
   "execution_count": 30,
   "metadata": {},
   "outputs": [
    {
     "data": {
      "text/plain": [
       "0.076812744140625"
      ]
     },
     "execution_count": 30,
     "metadata": {},
     "output_type": "execute_result"
    }
   ],
   "source": [
    "stats.binom_test(12, 16, 0.5, alternative = 'two-sided')"
   ]
  },
  {
   "cell_type": "code",
   "execution_count": 31,
   "metadata": {},
   "outputs": [
    {
     "data": {
      "image/png": "[encoded data removed]",
      "text/plain": [
       "<Figure size 432x288 with 1 Axes>"
      ]
     },
     "metadata": {
      "needs_background": "light"
     },
     "output_type": "display_data"
    }
   ],
   "source": [
    "pylab.bar(x, F_H0.pmf(x), align = 'center')\n",
    "pylab.bar(np.linspace(13,16,4), F_H0.pmf(np.linspace(13,16,4)), align = 'center', color='red')\n",
    "pylab.bar(np.linspace(0,3,4), F_H0.pmf(np.linspace(0,3,4)), align = 'center', color='red')\n",
    "xlim(-0.5, 16.5) \n",
    "pylab.show()"
   ]
  },
  {
   "cell_type": "code",
   "execution_count": 32,
   "metadata": {},
   "outputs": [
    {
     "data": {
      "text/plain": [
       "0.021270751953125"
      ]
     },
     "execution_count": 32,
     "metadata": {},
     "output_type": "execute_result"
    }
   ],
   "source": [
    "stats.binom_test(13, 16, 0.5, alternative = 'two-sided')"
   ]
  },
  {
   "cell_type": "code",
   "execution_count": 73,
   "metadata": {},
   "outputs": [
    {
     "data": {
      "image/png": "[encoded data removed]",
      "text/plain": [
       "<Figure size 432x288 with 1 Axes>"
      ]
     },
     "metadata": {
      "needs_background": "light"
     },
     "output_type": "display_data"
    }
   ],
   "source": [
    "n = 100\n",
    "F_H0 = stats.binom(n, 0.75)\n",
    "x = np.linspace(0,100,101)\n",
    "\n",
    "pylab.bar(x, F_H0.pmf(x), align = 'center')\n",
    "xlim(40, 100) \n",
    "pylab.show()"
   ]
  },
  {
   "cell_type": "code",
   "execution_count": 74,
   "metadata": {},
   "outputs": [
    {
     "data": {
      "image/png": "[encoded data removed]",
      "text/plain": [
       "<Figure size 432x288 with 1 Axes>"
      ]
     },
     "metadata": {
      "needs_background": "light"
     },
     "output_type": "display_data"
    }
   ],
   "source": [
    "pylab.bar(x, F_H0.pmf(x), align = 'center')\n",
    "pylab.bar(np.linspace(67,100,101), F_H0.pmf(np.linspace(67,100,101)), align = 'center', color='red')\n",
    "xlim(40, 100) \n",
    "pylab.show()"
   ]
  },
  {
   "cell_type": "code",
   "execution_count": 75,
   "metadata": {},
   "outputs": [
    {
     "data": {
      "text/plain": [
       "0.08222258891386612"
      ]
     },
     "execution_count": 75,
     "metadata": {},
     "output_type": "execute_result"
    }
   ],
   "source": [
    "stats.binom_test(67, 100, 0.75, alternative = 'two-sided')"
   ]
  },
  {
   "cell_type": "code",
   "execution_count": 43,
   "metadata": {},
   "outputs": [
    {
     "data": {
      "text/plain": [
       "0.9999992802012696"
      ]
     },
     "execution_count": 43,
     "metadata": {},
     "output_type": "execute_result"
    }
   ],
   "source": [
    "stats.binom_test(22, 50, 0.75, alternative = 'greater')"
   ]
  },
  {
   "cell_type": "code",
   "execution_count": 47,
   "metadata": {},
   "outputs": [],
   "source": [
    "import pandas as pd\n",
    "df = pd.read_table('pines.txt')"
   ]
  },
  {
   "cell_type": "code",
   "execution_count": 48,
   "metadata": {},
   "outputs": [
    {
     "data": {
      "text/html": [
       "<div>\n",
       "<style scoped>\n",
       "    .dataframe tbody tr th:only-of-type {\n",
       "        vertical-align: middle;\n",
       "    }\n",
       "\n",
       "    .dataframe tbody tr th {\n",
       "        vertical-align: top;\n",
       "    }\n",
       "\n",
       "    .dataframe thead th {\n",
       "        text-align: right;\n",
       "    }\n",
       "</style>\n",
       "<table border=\"1\" class=\"dataframe\">\n",
       "  <thead>\n",
       "    <tr style=\"text-align: right;\">\n",
       "      <th></th>\n",
       "      <th>sn</th>\n",
       "      <th>we</th>\n",
       "    </tr>\n",
       "  </thead>\n",
       "  <tbody>\n",
       "    <tr>\n",
       "      <th>0</th>\n",
       "      <td>200.0</td>\n",
       "      <td>8.8</td>\n",
       "    </tr>\n",
       "    <tr>\n",
       "      <th>1</th>\n",
       "      <td>199.3</td>\n",
       "      <td>10.0</td>\n",
       "    </tr>\n",
       "    <tr>\n",
       "      <th>2</th>\n",
       "      <td>193.6</td>\n",
       "      <td>22.4</td>\n",
       "    </tr>\n",
       "    <tr>\n",
       "      <th>3</th>\n",
       "      <td>167.7</td>\n",
       "      <td>35.6</td>\n",
       "    </tr>\n",
       "    <tr>\n",
       "      <th>4</th>\n",
       "      <td>183.9</td>\n",
       "      <td>45.4</td>\n",
       "    </tr>\n",
       "  </tbody>\n",
       "</table>\n",
       "</div>"
      ],
      "text/plain": [
       "      sn    we\n",
       "0  200.0   8.8\n",
       "1  199.3  10.0\n",
       "2  193.6  22.4\n",
       "3  167.7  35.6\n",
       "4  183.9  45.4"
      ]
     },
     "execution_count": 48,
     "metadata": {},
     "output_type": "execute_result"
    }
   ],
   "source": [
    "df.head()"
   ]
  },
  {
   "cell_type": "code",
   "execution_count": 49,
   "metadata": {},
   "outputs": [
    {
     "name": "stdout",
     "output_type": "stream",
     "text": [
      "\n",
      "binned_statistic_2d for mean :  BinnedStatistic2dResult(statistic=array([[18., 26., 29., 25., 20.],\n",
      "       [14., 12., 22., 34., 25.],\n",
      "       [12., 24., 15., 50., 37.],\n",
      "       [ 8., 19., 31., 50.,  7.],\n",
      "       [ 7.,  8., 37., 27., 27.]]), x_edge=array([  0.,  40.,  80., 120., 160., 200.]), y_edge=array([  0.,  40.,  80., 120., 160., 200.]), binnumber=array([36, 36, 36, 36, 37, 37, 37, 37, 36, 36, 36, 29, 30, 29, 30, 29, 29,\n",
      "       29, 29, 29, 22, 22, 22, 22, 22, 29, 30, 30, 23, 23, 22,  8,  8,  8,\n",
      "        8,  8,  8,  8, 15, 15,  8, 15, 15,  9,  9,  9,  9,  9,  9,  9,  9,\n",
      "        8,  8,  9,  9,  9,  8,  8,  8,  8,  9,  9, 16, 16, 17, 16, 17, 17,\n",
      "       17,  9,  9,  9,  9, 10, 10, 10, 10, 10, 10, 17, 17, 10, 10, 10, 10,\n",
      "       10, 10, 10, 24, 24, 23, 23, 23, 23, 24, 23, 23, 23, 23, 23, 23, 23,\n",
      "       23, 23, 23, 30, 23, 23, 23, 23, 30, 30, 23, 23, 30, 30, 31, 30, 30,\n",
      "       30, 22, 22, 22, 15, 22, 22, 22, 15, 15, 16, 16, 15, 15, 15, 15, 15,\n",
      "       15, 15, 38, 38, 38, 38, 38, 38, 38, 38, 38, 38, 38, 38,  8,  8,  8,\n",
      "        8,  9,  9, 10, 10, 10,  9,  9,  9,  9, 10,  9,  9,  9, 10, 39, 39,\n",
      "       39, 39, 39, 39, 39, 38, 38, 39, 38, 39, 24, 17, 17, 17, 17, 17, 17,\n",
      "       17, 17, 16, 16, 16, 16, 16, 16, 16, 23, 23, 32, 32, 32, 32, 32, 31,\n",
      "       31, 32, 32, 32, 31, 32, 30, 30, 30, 31, 31, 31, 31, 31, 31, 31, 31,\n",
      "       38, 38, 38, 38, 38, 38, 38, 25, 25, 25, 25, 32, 32, 32, 25, 25, 32,\n",
      "       32, 32, 38, 38, 38, 38, 38, 38, 38, 38, 38, 38, 38, 38, 38, 31, 31,\n",
      "       31, 31, 31, 37, 31, 31, 30, 30, 30, 37, 30, 37, 37, 38, 32, 32, 38,\n",
      "       31, 31, 31, 31, 32, 32, 39, 39, 39, 39, 32, 39, 39, 39, 32, 39, 39,\n",
      "       32, 32, 32, 32, 32, 32, 32, 32, 32, 32, 32, 32, 32, 31, 31, 24, 31,\n",
      "       31, 31, 31, 24, 24, 24, 25, 25, 25, 25, 25, 25, 24, 24, 25, 24, 25,\n",
      "       25, 25, 25, 25, 25, 25, 25, 25, 25, 25, 32, 32, 32, 25, 25, 18, 18,\n",
      "       18, 18, 18, 18, 18, 18, 25, 25, 25, 25, 25, 25, 25, 24, 24, 24, 25,\n",
      "       24, 25, 17, 17, 17, 17, 18, 32, 32, 39, 39, 39, 39, 39, 39, 18, 18,\n",
      "       18, 18, 18, 18, 18, 18, 18, 18, 17, 18, 11, 18, 11, 11, 11, 11, 17,\n",
      "       10, 10, 32, 32, 32, 32, 32, 31, 31, 32, 11, 12, 12, 11, 12, 12, 12,\n",
      "       12, 12, 12, 12, 12, 19, 12, 12, 12, 12, 12, 12, 12, 12, 25, 25, 25,\n",
      "       25, 25, 25, 25, 25, 26, 26, 26, 25, 26, 26, 26, 26, 25, 19, 19, 19,\n",
      "       19, 26, 19, 19, 26, 19, 19, 25, 18, 17, 18, 18, 17, 18, 18, 18, 18,\n",
      "       32, 33, 40, 40, 40, 40, 40, 40, 40, 40, 40, 40, 40, 40, 40, 40, 40,\n",
      "       40, 40, 40, 40, 10, 10, 10, 10, 10, 10, 11, 11, 11, 10, 10, 10, 11,\n",
      "       11, 11, 11, 11, 11, 11, 11, 11, 11, 11, 12, 12, 11, 11, 11, 18, 11,\n",
      "       19, 19, 19, 19, 19, 19, 19, 18, 19, 19, 19, 19, 19, 19, 19, 19, 26,\n",
      "       19, 26, 26, 26, 26, 26, 26, 26, 26, 25, 26, 26, 26, 18, 18, 18, 18,\n",
      "       25, 25, 26, 25, 26, 26, 26, 26, 26, 26, 26, 26, 26, 26, 26, 26, 26,\n",
      "       33, 33, 33, 26, 33, 32, 32, 33, 33, 40, 40, 40, 40, 40, 40, 39, 39,\n",
      "       40, 40, 39, 32, 32, 26]))\n"
     ]
    }
   ],
   "source": [
    "import numpy as np\n",
    "from scipy import stats\n",
    "  \n",
    "x = df['sn'].values\n",
    "y = df['we'].values\n",
    "z = np.arange(200)\n",
    "  \n",
    "# mean\n",
    "print (\"\\nbinned_statistic_2d for mean : \", \n",
    "       stats.binned_statistic_2d(x, y, values = z,\n",
    "                   statistic ='count', bins = [5, 5])) "
   ]
  },
  {
   "cell_type": "code",
   "execution_count": 50,
   "metadata": {},
   "outputs": [],
   "source": [
    "d = stats.binned_statistic_2d(x, y, values = z,\n",
    "                   statistic ='count', bins = [5, 5])"
   ]
  },
  {
   "cell_type": "code",
   "execution_count": 63,
   "metadata": {},
   "outputs": [],
   "source": [
    "m = mean(d.statistic)"
   ]
  },
  {
   "cell_type": "code",
   "execution_count": 60,
   "metadata": {},
   "outputs": [],
   "source": [
    "r = stats.uniform.rvs(size=(5,5), )"
   ]
  },
  {
   "cell_type": "code",
   "execution_count": 69,
   "metadata": {},
   "outputs": [
    {
     "data": {
      "text/plain": [
       "array([1.05942474e+02, 1.15637261e+02, 1.86461505e+02, 1.10374550e+02,\n",
       "       9.16415780e+01, 3.75346616e+01, 1.25672192e+02, 1.93012809e+02,\n",
       "       1.46004816e+02, 8.87636181e+01, 1.00058753e+02, 7.00335618e+01,\n",
       "       5.14352173e+01, 8.73362307e+01, 1.93216680e+02, 1.42768539e+02,\n",
       "       7.02722699e+01, 1.55999269e+02, 3.32074412e+01, 1.99489537e+02,\n",
       "       8.25781978e+01, 1.91120884e+02, 1.38943764e+02, 1.34804978e+02,\n",
       "       1.45338456e+02, 1.05766304e+02, 1.50687560e+02, 1.95794142e+02,\n",
       "       2.00072220e+01, 1.09082306e+02, 2.27055824e+01, 5.79995072e+01,\n",
       "       8.43575930e+01, 4.68809700e+01, 1.58317471e+02, 8.02136388e+01,\n",
       "       8.95511562e+01, 8.59284518e+01, 7.61284924e+01, 1.55660281e+02,\n",
       "       1.27132909e+01, 1.59455802e+02, 1.07322333e+02, 9.20824088e+00,\n",
       "       7.28381194e+01, 1.52425697e+02, 1.66742712e+02, 9.23890182e+01,\n",
       "       3.28824281e+01, 2.66126919e+01, 1.71782922e+02, 1.65934600e+02,\n",
       "       4.78766108e+01, 6.54196077e+01, 4.32991311e+00, 1.46254527e+02,\n",
       "       1.76647969e+00, 1.55197861e+02, 1.74972575e+02, 1.39974256e+02,\n",
       "       1.30808684e+02, 2.56403896e+01, 1.39329606e+02, 1.44905759e+02,\n",
       "       1.46333968e+02, 1.10486257e+02, 6.09363371e+01, 1.42497030e+02,\n",
       "       1.25522125e+02, 7.16413979e+01, 1.75454474e+02, 1.05529301e+02,\n",
       "       1.92794139e+02, 1.14586364e+02, 8.38637332e+00, 8.48500553e+01,\n",
       "       1.19881802e+02, 5.28613568e+01, 2.58519985e+00, 1.30645402e+02,\n",
       "       1.10272699e+01, 1.10993216e+02, 3.99408938e+01, 1.09992895e+02,\n",
       "       4.79627081e+00, 1.15354157e+02, 1.32555832e+02, 6.53485426e+01,\n",
       "       1.46619114e+02, 1.58625643e+02, 9.51999262e+01, 1.56334734e+02,\n",
       "       1.74706738e+02, 3.99264490e+01, 1.51673807e+01, 1.08975607e+02,\n",
       "       9.66750979e+01, 1.32676994e+02, 1.59366004e+02, 1.50697754e+02,\n",
       "       1.53811594e+02, 1.56522471e+02, 1.18030117e-01, 1.59950784e+02,\n",
       "       2.91125418e+01, 1.19841122e+02, 1.39453953e+02, 8.84315962e+01,\n",
       "       1.24916142e+02, 4.93616633e+01, 1.46528165e+02, 1.33582083e+02,\n",
       "       8.98428994e+01, 4.73853619e+01, 1.67042286e+02, 9.16718903e+01,\n",
       "       1.14540347e+02, 8.49732635e+01, 2.44673191e+01, 1.18183573e+02,\n",
       "       1.55406578e+02, 1.10122745e+02, 5.65006445e+01, 1.55972060e+02,\n",
       "       1.64393852e+01, 5.36064036e+01, 1.22569693e+02, 1.66500069e+02,\n",
       "       8.31322957e+01, 1.06308622e+02, 8.13760347e+01, 8.41063501e+00,\n",
       "       6.07260500e+01, 1.85833996e+02, 2.53245263e+01, 1.61730531e+01,\n",
       "       1.60338144e+02, 1.55321839e+02, 1.86743454e+02, 6.42243827e+01,\n",
       "       1.15517648e+02, 1.58265112e+02, 5.76261045e+01, 1.15603118e+02,\n",
       "       7.14627231e+01, 9.92597539e+00, 1.30262324e+02, 6.22040075e+01,\n",
       "       5.21863724e+00, 1.72847267e+02, 8.60186801e+01, 1.89794539e+02,\n",
       "       8.85616355e+01, 6.42398296e+01, 2.87468037e+01, 1.04018841e+02,\n",
       "       1.09793804e+02, 3.18369887e+01, 1.66747559e+02, 1.61811874e+02,\n",
       "       1.18142232e+02, 4.03274309e+01, 9.44290636e+01, 8.26475245e+00,\n",
       "       1.25156068e+02, 2.49507953e+01, 7.70169978e+01, 1.98696355e+02,\n",
       "       1.77746181e+01, 1.51335908e+02, 1.22699950e+02, 7.19010914e+01,\n",
       "       1.86511202e+02, 2.03203063e+01, 1.64822879e+02, 7.23051926e+01,\n",
       "       1.97262220e+02, 1.51822154e+02, 8.31299627e+01, 3.48829047e+01,\n",
       "       1.14286405e+02, 8.89491461e+01, 9.53334517e+01, 1.46149677e+01,\n",
       "       2.31872356e+01, 9.04818836e+01, 1.12676399e+02, 5.43461883e+01,\n",
       "       1.96796942e+02, 1.27777751e+02, 2.10149576e+01, 1.52398559e+02,\n",
       "       1.11884499e+02, 7.04746225e+01, 9.84357436e+01, 5.31837244e+01,\n",
       "       4.96564033e+01, 1.41513958e+02, 9.83987160e+01, 9.72080905e+01,\n",
       "       1.50539928e+02, 2.88194972e+01, 1.42972079e+02, 1.59903483e+00,\n",
       "       1.49488572e+02, 1.81215627e+02, 3.02376746e+01, 6.25011684e+01,\n",
       "       1.57659921e+01, 4.27567432e+01, 1.70193131e+02, 1.54656695e+02,\n",
       "       1.71497668e+02, 6.17189220e+01, 9.24052651e+01, 5.53364888e+01,\n",
       "       1.35288102e+02, 1.14807780e+02, 1.18346606e+02, 1.56639614e+02,\n",
       "       1.13507585e+02, 5.85408842e+01, 7.72740852e+01, 8.76610394e+00,\n",
       "       2.06906241e+01, 1.84573621e+02, 1.71780483e+02, 1.81538511e+01,\n",
       "       1.59406149e+02, 1.00590771e+01, 1.86998658e+02, 3.49598725e+00,\n",
       "       7.44132428e+01, 1.85507452e+02, 1.29745876e+02, 1.96619230e+02,\n",
       "       1.46005204e+01, 1.83340700e+02, 5.43663576e+01, 1.81482601e+02,\n",
       "       1.18080521e+02, 1.19667449e+02, 6.37661942e+01, 2.96051135e+01,\n",
       "       1.97146619e+02, 1.94259993e+02, 3.85083216e+00, 1.10266582e+02,\n",
       "       9.76244320e+01, 4.26358404e+01, 3.41005939e+01, 4.56591822e+00,\n",
       "       1.46684018e+02, 5.99652404e+01, 2.59140887e+01, 1.92251028e+02,\n",
       "       1.87908510e+02, 1.29134854e+02, 1.64243016e+02, 1.81139033e+02,\n",
       "       4.16595945e+01, 1.08413416e+02, 1.75965675e+01, 4.62081319e+01,\n",
       "       1.49447722e+01, 1.12714081e+02, 3.55339136e+01, 1.54856847e+02,\n",
       "       5.25639545e+01, 5.25154969e+01, 1.15822886e+02, 8.81944783e+01,\n",
       "       8.80906697e+01, 7.96714286e+01, 8.37346304e+01, 1.99428630e+02,\n",
       "       1.21687187e+01, 8.82570805e+01, 1.97254404e+02, 1.68296404e+02,\n",
       "       1.10631953e+02, 1.45399124e+02, 1.01608766e+02, 1.81897371e+02,\n",
       "       1.75981882e+02, 1.14745077e+02, 1.32853594e+02, 1.76187962e+02,\n",
       "       2.48211289e-01, 1.36428342e+02, 1.14734274e+02, 4.23901870e+01,\n",
       "       1.92202404e+02, 1.60539705e+02, 8.65996531e+01, 2.60198821e+01,\n",
       "       1.35795541e+02, 8.67864807e+01, 1.51466227e+02, 9.02743844e+01,\n",
       "       8.88105261e+01, 6.21044894e+01, 9.50566938e+01, 1.38344884e+02,\n",
       "       1.90246117e+02, 1.78646935e+02, 7.49955271e+01, 7.78873462e+01,\n",
       "       9.11127642e+01, 3.80186042e+01, 8.12551207e-01, 7.68039620e+01,\n",
       "       1.05728942e+02, 1.55165068e+02, 1.55575953e+02, 1.75174480e+01,\n",
       "       9.57218327e+01, 1.73613836e+02, 3.39483772e+01, 6.22922963e+01,\n",
       "       1.72500957e+02, 1.38176942e+02, 8.07316269e+01, 6.28620809e+01,\n",
       "       1.76511330e+02, 5.30485056e+01, 1.39539267e+02, 1.19869638e+02,\n",
       "       1.09734899e+02, 8.20472196e+00, 3.02132962e+01, 1.81162947e+02,\n",
       "       1.34272806e+02, 5.06134947e+01, 1.32670911e+02, 3.61719816e+01,\n",
       "       1.67949115e+02, 2.05111583e+01, 1.76127554e+02, 1.79953644e+02,\n",
       "       1.54099526e+01, 7.52238383e+01, 1.65065432e+02, 7.79858858e+01,\n",
       "       1.62113417e+02, 5.69292899e+01, 7.89785181e+01, 1.07645543e+02,\n",
       "       1.86025458e+02, 8.94894079e+01, 1.79558835e+02, 1.32512449e+02,\n",
       "       6.97230484e+01, 1.35348768e+02, 1.23138458e+02, 1.85214450e+02,\n",
       "       1.71001577e+02, 4.33409758e+01, 3.37549306e+01, 1.13068158e+02,\n",
       "       3.97710440e+01, 1.44634811e+02, 1.87282992e+02, 7.46565855e+00,\n",
       "       1.49673074e+02, 1.80967645e+01, 1.15666915e+02, 4.91230340e+01,\n",
       "       2.85187735e+01, 1.97179825e+02, 1.83012186e+02, 1.35842476e+02,\n",
       "       6.83388605e+01, 1.66019447e+02, 1.20269333e+02, 1.55945126e+02,\n",
       "       1.79105834e+02, 1.08871488e+02, 1.23146758e+02, 1.55732903e+02,\n",
       "       5.08192169e+01, 1.75171593e+02, 1.80699057e+01, 1.62882924e+02,\n",
       "       1.43595922e+02, 8.22482648e+01, 7.99275556e+01, 1.56219172e+01,\n",
       "       1.06419639e+02, 3.87463336e+01, 1.07989667e+01, 7.09366133e+01,\n",
       "       9.71792527e+01, 4.53514222e+01, 5.57527680e+01, 6.51136131e+01,\n",
       "       5.07826099e+01, 1.36826986e+02, 4.70396816e+00, 5.35570700e+01,\n",
       "       6.35010438e+01, 3.41114822e+01, 2.01021875e+01, 6.22615893e+01,\n",
       "       1.81261412e+02, 1.97530215e+02, 1.04624479e+02, 1.10673004e+02,\n",
       "       8.25193621e+01, 1.36330082e+02, 1.05577121e+02, 3.86373230e+01,\n",
       "       8.18322308e+01, 1.45542508e+02, 1.44031492e+02, 1.62224153e+02,\n",
       "       8.84609575e+01, 1.07378246e+02, 9.57892299e+01, 6.13499278e+01,\n",
       "       9.80862761e+01, 8.05961397e+01, 1.87363490e+02, 1.15121252e+00,\n",
       "       6.34906683e+00, 7.39185171e+01, 6.94829597e+01, 1.04766252e+02,\n",
       "       1.74245335e+02, 1.05716208e+02, 2.92058010e+01, 1.82105799e+02,\n",
       "       1.09387452e+02, 1.53594378e+00, 1.37830376e+02, 1.21420224e+02,\n",
       "       9.29683447e+01, 4.07355726e+01, 1.39807477e+02, 7.10138758e+01,\n",
       "       1.07563422e+02, 3.31242778e+01, 1.77024485e+02, 8.44552999e+01,\n",
       "       9.17396077e+01, 9.74933463e+01, 1.25324277e+02, 1.53792798e+02,\n",
       "       1.58153668e+02, 3.43671793e+01, 1.41496968e+02, 1.74398175e+02,\n",
       "       1.04327582e+02, 1.73819832e+02, 3.36355049e+01, 1.31340118e+02,\n",
       "       1.94010746e+02, 1.27138574e+02, 4.55871802e+00, 6.79558385e+01,\n",
       "       1.86972288e+02, 6.36642582e+01, 9.15003748e+01, 1.81046033e+02,\n",
       "       1.86621848e+01, 9.99550674e+01, 2.36462357e+01, 1.69679952e+02,\n",
       "       1.59683943e+02, 1.82809010e+02, 1.32472488e+02, 1.02742904e+02,\n",
       "       6.43825513e+01, 5.76321574e+01, 9.26787378e+01, 1.36929437e+02,\n",
       "       4.58898500e+01, 1.18360892e+02, 2.39973648e+01, 1.62645325e+02,\n",
       "       1.88589248e+02, 1.41851575e+02, 1.07749016e+02, 1.49127243e+02,\n",
       "       1.39265652e+02, 1.43767862e+02, 1.85551007e+02, 8.61205592e+01,\n",
       "       1.41276196e+02, 2.81796816e+01, 1.64285406e+02, 1.12809798e+02,\n",
       "       1.59225089e+02, 1.32917710e+02, 4.86410548e+01, 1.98415518e+02,\n",
       "       6.08687318e+01, 9.29537318e+01, 1.90956332e+02, 9.18692458e+01,\n",
       "       4.37655435e+01, 1.18529990e+02, 1.64768806e+02, 1.24337854e+02,\n",
       "       1.81790480e+02, 3.75941389e+00, 1.28339323e+02, 1.63756460e+02,\n",
       "       2.28435809e+01, 1.76726136e+02, 1.22156671e+02, 1.68517020e+02,\n",
       "       2.11767682e+01, 1.69716027e+02, 1.97758032e+02, 2.13222694e+01,\n",
       "       3.42579619e+01, 6.19978616e+01, 9.39521749e+01, 1.70151727e+02,\n",
       "       1.90952488e+01, 8.83956777e+01, 1.13340963e+02, 1.85572357e+02,\n",
       "       2.66339460e+01, 1.25512635e+02, 1.98345703e+02, 1.74052576e+02,\n",
       "       1.72585312e+02, 1.66504224e+02, 1.97803295e+02, 1.37865586e+02,\n",
       "       4.78915971e+01, 1.18427401e+02, 4.84386251e+00, 1.91907625e+02,\n",
       "       1.63826963e+02, 4.50642846e+00, 1.54300429e+02, 3.43308247e+01,\n",
       "       1.44909334e+02, 9.36855919e+01, 9.01789984e+01, 1.75123443e+02,\n",
       "       1.55201789e+02, 2.96941034e+01, 1.48147929e+02, 1.20777898e+02,\n",
       "       2.96897741e+01, 4.89606377e+01, 5.75441613e+01, 1.58939757e+02,\n",
       "       7.04311807e+01, 8.07236066e+00, 7.51877258e+01, 2.15411757e+01,\n",
       "       1.03912861e+02, 1.32530255e+02, 9.64526120e+01, 3.85490860e+01,\n",
       "       1.87915979e+02, 1.71818297e+02, 1.50827757e+02, 8.54868526e+01,\n",
       "       6.76246025e+01, 1.51416671e+02, 9.34683765e+01, 2.08943258e+00,\n",
       "       1.87122491e+02, 1.05102937e+02, 1.58123302e+01, 5.53651357e+01,\n",
       "       1.15332103e+02, 9.55330190e+01, 6.78408916e+01, 1.72206573e+02,\n",
       "       6.16838816e+01, 9.88335498e+01, 1.05259655e+02, 1.21923965e+02,\n",
       "       1.55294411e+02, 1.63621536e+02, 1.87475411e+02, 6.03404978e+01])"
      ]
     },
     "execution_count": 69,
     "metadata": {},
     "output_type": "execute_result"
    }
   ],
   "source": [
    "expected_frequences = random.uniform(low=0.0, high=200.0, size=(584))\n",
    "expected_frequences"
   ]
  },
  {
   "cell_type": "code",
   "execution_count": 66,
   "metadata": {},
   "outputs": [
    {
     "ename": "ValueError",
     "evalue": "For each axis slice, the sum of the observed frequencies must agree with the sum of the expected frequencies to a relative tolerance of 1e-08, but the percent differences are:\n[0.97966102 0.31235955 0.14726027 0.59246575 0.00689655]",
     "output_type": "error",
     "traceback": [
      "\u001b[0;31m---------------------------------------------------------------------------\u001b[0m",
      "\u001b[0;31mValueError\u001b[0m                                Traceback (most recent call last)",
      "\u001b[0;32m/var/folders/2d/8s7fzr_974372gjw0dqzc7g00000gn/T/ipykernel_22830/2751028724.py\u001b[0m in \u001b[0;36m<module>\u001b[0;34m\u001b[0m\n\u001b[0;32m----> 1\u001b[0;31m \u001b[0mstats\u001b[0m\u001b[0;34m.\u001b[0m\u001b[0mchisquare\u001b[0m\u001b[0;34m(\u001b[0m\u001b[0md\u001b[0m\u001b[0;34m.\u001b[0m\u001b[0mstatistic\u001b[0m\u001b[0;34m,\u001b[0m \u001b[0mexpected_frequences\u001b[0m\u001b[0;34m,\u001b[0m \u001b[0mddof\u001b[0m \u001b[0;34m=\u001b[0m \u001b[0;36m1\u001b[0m\u001b[0;34m)\u001b[0m\u001b[0;34m\u001b[0m\u001b[0;34m\u001b[0m\u001b[0m\n\u001b[0m",
      "\u001b[0;32m~/opt/anaconda3/lib/python3.9/site-packages/scipy/stats/_stats_py.py\u001b[0m in \u001b[0;36mchisquare\u001b[0;34m(f_obs, f_exp, ddof, axis)\u001b[0m\n\u001b[1;32m   6909\u001b[0m \u001b[0;34m\u001b[0m\u001b[0m\n\u001b[1;32m   6910\u001b[0m     \"\"\"\n\u001b[0;32m-> 6911\u001b[0;31m     return power_divergence(f_obs, f_exp=f_exp, ddof=ddof, axis=axis,\n\u001b[0m\u001b[1;32m   6912\u001b[0m                             lambda_=\"pearson\")\n\u001b[1;32m   6913\u001b[0m \u001b[0;34m\u001b[0m\u001b[0m\n",
      "\u001b[0;32m~/opt/anaconda3/lib/python3.9/site-packages/scipy/stats/_stats_py.py\u001b[0m in \u001b[0;36mpower_divergence\u001b[0;34m(f_obs, f_exp, ddof, axis, lambda_)\u001b[0m\n\u001b[1;32m   6751\u001b[0m                    \u001b[0;34mf\"of {rtol}, but the percent differences are:\\n\"\u001b[0m\u001b[0;34m\u001b[0m\u001b[0;34m\u001b[0m\u001b[0m\n\u001b[1;32m   6752\u001b[0m                    f\"{relative_diff}\")\n\u001b[0;32m-> 6753\u001b[0;31m             \u001b[0;32mraise\u001b[0m \u001b[0mValueError\u001b[0m\u001b[0;34m(\u001b[0m\u001b[0mmsg\u001b[0m\u001b[0;34m)\u001b[0m\u001b[0;34m\u001b[0m\u001b[0;34m\u001b[0m\u001b[0m\n\u001b[0m\u001b[1;32m   6754\u001b[0m \u001b[0;34m\u001b[0m\u001b[0m\n\u001b[1;32m   6755\u001b[0m     \u001b[0;32melse\u001b[0m\u001b[0;34m:\u001b[0m\u001b[0;34m\u001b[0m\u001b[0;34m\u001b[0m\u001b[0m\n",
      "\u001b[0;31mValueError\u001b[0m: For each axis slice, the sum of the observed frequencies must agree with the sum of the expected frequencies to a relative tolerance of 1e-08, but the percent differences are:\n[0.97966102 0.31235955 0.14726027 0.59246575 0.00689655]"
     ]
    }
   ],
   "source": [
    "stats.chisquare(d.statistic, expected_frequences, ddof = 1)"
   ]
  },
  {
   "cell_type": "code",
   "execution_count": 67,
   "metadata": {},
   "outputs": [
    {
     "data": {
      "text/plain": [
       "584.0"
      ]
     },
     "execution_count": 67,
     "metadata": {},
     "output_type": "execute_result"
    }
   ],
   "source": [
    "sum(d.statistic)"
   ]
  },
  {
   "cell_type": "code",
   "execution_count": 68,
   "metadata": {},
   "outputs": [
    {
     "data": {
      "text/plain": [
       "584.0"
      ]
     },
     "execution_count": 68,
     "metadata": {},
     "output_type": "execute_result"
    }
   ],
   "source": [
    "sum(expected_frequences)"
   ]
  },
  {
   "cell_type": "code",
   "execution_count": 71,
   "metadata": {},
   "outputs": [],
   "source": [
    "import matplotlib.pylab as plt"
   ]
  },
  {
   "cell_type": "code",
   "execution_count": 72,
   "metadata": {},
   "outputs": [
    {
     "data": {
      "text/plain": [
       "<matplotlib.collections.PathCollection at 0x7fc699d54ee0>"
      ]
     },
     "execution_count": 72,
     "metadata": {},
     "output_type": "execute_result"
    },
    {
     "data": {
      "image/png": "[encoded data removed]",
      "text/plain": [
       "<Figure size 432x288 with 1 Axes>"
      ]
     },
     "metadata": {
      "needs_background": "light"
     },
     "output_type": "display_data"
    }
   ],
   "source": [
    "plt.scatter(x, y)"
   ]
  },
  {
   "cell_type": "code",
   "execution_count": null,
   "metadata": {},
   "outputs": [],
   "source": []
  }
 ],
 "metadata": {
  "kernelspec": {
   "display_name": "Python 3.9.7 64-bit ('base': conda)",
   "language": "python",
   "name": "python397jvsc74a57bd0dc6f4a75986d9cb445a60b0b5fb7af2ab995ae49c603620b49c9876ed0e072b0"
  },
  "language_info": {
   "codemirror_mode": {
    "name": "ipython",
    "version": 3
   },
   "file_extension": ".py",
   "mimetype": "text/x-python",
   "name": "python",
   "nbconvert_exporter": "python",
   "pygments_lexer": "ipython3",
   "version": "3.9.7"
  }
 },
 "nbformat": 4,
 "nbformat_minor": 1
}
