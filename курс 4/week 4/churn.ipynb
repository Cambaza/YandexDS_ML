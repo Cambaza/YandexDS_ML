{
 "cells": [
  {
   "cell_type": "code",
   "execution_count": 1,
   "id": "3bc52109",
   "metadata": {},
   "outputs": [],
   "source": [
    "import pandas as pd"
   ]
  },
  {
   "cell_type": "code",
   "execution_count": 2,
   "id": "23c203f9",
   "metadata": {},
   "outputs": [],
   "source": [
    "df = pd.read_csv('churn_analysis.csv', index_col=0)"
   ]
  },
  {
   "cell_type": "code",
   "execution_count": 3,
   "id": "8bb8ef52",
   "metadata": {},
   "outputs": [
    {
     "data": {
      "text/plain": [
       "(3333, 22)"
      ]
     },
     "execution_count": 3,
     "metadata": {},
     "output_type": "execute_result"
    }
   ],
   "source": [
    "df.shape\n"
   ]
  },
  {
   "cell_type": "code",
   "execution_count": 4,
   "id": "a7adc638",
   "metadata": {},
   "outputs": [],
   "source": [
    "control = df[df['treatment']==1]\n",
    "states = control.state.unique()"
   ]
  },
  {
   "cell_type": "code",
   "execution_count": 5,
   "id": "690512d9",
   "metadata": {},
   "outputs": [
    {
     "name": "stderr",
     "output_type": "stream",
     "text": [
      "/var/folders/2d/8s7fzr_974372gjw0dqzc7g00000gn/T/ipykernel_2049/3351616026.py:3: FutureWarning: The frame.append method is deprecated and will be removed from pandas in a future version. Use pandas.concat instead.\n",
      "  sdf = sdf.append({'state': s,\n",
      "/var/folders/2d/8s7fzr_974372gjw0dqzc7g00000gn/T/ipykernel_2049/3351616026.py:3: FutureWarning: The frame.append method is deprecated and will be removed from pandas in a future version. Use pandas.concat instead.\n",
      "  sdf = sdf.append({'state': s,\n",
      "/var/folders/2d/8s7fzr_974372gjw0dqzc7g00000gn/T/ipykernel_2049/3351616026.py:3: FutureWarning: The frame.append method is deprecated and will be removed from pandas in a future version. Use pandas.concat instead.\n",
      "  sdf = sdf.append({'state': s,\n",
      "/var/folders/2d/8s7fzr_974372gjw0dqzc7g00000gn/T/ipykernel_2049/3351616026.py:3: FutureWarning: The frame.append method is deprecated and will be removed from pandas in a future version. Use pandas.concat instead.\n",
      "  sdf = sdf.append({'state': s,\n",
      "/var/folders/2d/8s7fzr_974372gjw0dqzc7g00000gn/T/ipykernel_2049/3351616026.py:3: FutureWarning: The frame.append method is deprecated and will be removed from pandas in a future version. Use pandas.concat instead.\n",
      "  sdf = sdf.append({'state': s,\n",
      "/var/folders/2d/8s7fzr_974372gjw0dqzc7g00000gn/T/ipykernel_2049/3351616026.py:3: FutureWarning: The frame.append method is deprecated and will be removed from pandas in a future version. Use pandas.concat instead.\n",
      "  sdf = sdf.append({'state': s,\n",
      "/var/folders/2d/8s7fzr_974372gjw0dqzc7g00000gn/T/ipykernel_2049/3351616026.py:3: FutureWarning: The frame.append method is deprecated and will be removed from pandas in a future version. Use pandas.concat instead.\n",
      "  sdf = sdf.append({'state': s,\n",
      "/var/folders/2d/8s7fzr_974372gjw0dqzc7g00000gn/T/ipykernel_2049/3351616026.py:3: FutureWarning: The frame.append method is deprecated and will be removed from pandas in a future version. Use pandas.concat instead.\n",
      "  sdf = sdf.append({'state': s,\n",
      "/var/folders/2d/8s7fzr_974372gjw0dqzc7g00000gn/T/ipykernel_2049/3351616026.py:3: FutureWarning: The frame.append method is deprecated and will be removed from pandas in a future version. Use pandas.concat instead.\n",
      "  sdf = sdf.append({'state': s,\n",
      "/var/folders/2d/8s7fzr_974372gjw0dqzc7g00000gn/T/ipykernel_2049/3351616026.py:3: FutureWarning: The frame.append method is deprecated and will be removed from pandas in a future version. Use pandas.concat instead.\n",
      "  sdf = sdf.append({'state': s,\n",
      "/var/folders/2d/8s7fzr_974372gjw0dqzc7g00000gn/T/ipykernel_2049/3351616026.py:3: FutureWarning: The frame.append method is deprecated and will be removed from pandas in a future version. Use pandas.concat instead.\n",
      "  sdf = sdf.append({'state': s,\n",
      "/var/folders/2d/8s7fzr_974372gjw0dqzc7g00000gn/T/ipykernel_2049/3351616026.py:3: FutureWarning: The frame.append method is deprecated and will be removed from pandas in a future version. Use pandas.concat instead.\n",
      "  sdf = sdf.append({'state': s,\n",
      "/var/folders/2d/8s7fzr_974372gjw0dqzc7g00000gn/T/ipykernel_2049/3351616026.py:3: FutureWarning: The frame.append method is deprecated and will be removed from pandas in a future version. Use pandas.concat instead.\n",
      "  sdf = sdf.append({'state': s,\n",
      "/var/folders/2d/8s7fzr_974372gjw0dqzc7g00000gn/T/ipykernel_2049/3351616026.py:3: FutureWarning: The frame.append method is deprecated and will be removed from pandas in a future version. Use pandas.concat instead.\n",
      "  sdf = sdf.append({'state': s,\n",
      "/var/folders/2d/8s7fzr_974372gjw0dqzc7g00000gn/T/ipykernel_2049/3351616026.py:3: FutureWarning: The frame.append method is deprecated and will be removed from pandas in a future version. Use pandas.concat instead.\n",
      "  sdf = sdf.append({'state': s,\n",
      "/var/folders/2d/8s7fzr_974372gjw0dqzc7g00000gn/T/ipykernel_2049/3351616026.py:3: FutureWarning: The frame.append method is deprecated and will be removed from pandas in a future version. Use pandas.concat instead.\n",
      "  sdf = sdf.append({'state': s,\n",
      "/var/folders/2d/8s7fzr_974372gjw0dqzc7g00000gn/T/ipykernel_2049/3351616026.py:3: FutureWarning: The frame.append method is deprecated and will be removed from pandas in a future version. Use pandas.concat instead.\n",
      "  sdf = sdf.append({'state': s,\n",
      "/var/folders/2d/8s7fzr_974372gjw0dqzc7g00000gn/T/ipykernel_2049/3351616026.py:3: FutureWarning: The frame.append method is deprecated and will be removed from pandas in a future version. Use pandas.concat instead.\n",
      "  sdf = sdf.append({'state': s,\n",
      "/var/folders/2d/8s7fzr_974372gjw0dqzc7g00000gn/T/ipykernel_2049/3351616026.py:3: FutureWarning: The frame.append method is deprecated and will be removed from pandas in a future version. Use pandas.concat instead.\n",
      "  sdf = sdf.append({'state': s,\n",
      "/var/folders/2d/8s7fzr_974372gjw0dqzc7g00000gn/T/ipykernel_2049/3351616026.py:3: FutureWarning: The frame.append method is deprecated and will be removed from pandas in a future version. Use pandas.concat instead.\n",
      "  sdf = sdf.append({'state': s,\n",
      "/var/folders/2d/8s7fzr_974372gjw0dqzc7g00000gn/T/ipykernel_2049/3351616026.py:3: FutureWarning: The frame.append method is deprecated and will be removed from pandas in a future version. Use pandas.concat instead.\n",
      "  sdf = sdf.append({'state': s,\n",
      "/var/folders/2d/8s7fzr_974372gjw0dqzc7g00000gn/T/ipykernel_2049/3351616026.py:3: FutureWarning: The frame.append method is deprecated and will be removed from pandas in a future version. Use pandas.concat instead.\n",
      "  sdf = sdf.append({'state': s,\n",
      "/var/folders/2d/8s7fzr_974372gjw0dqzc7g00000gn/T/ipykernel_2049/3351616026.py:3: FutureWarning: The frame.append method is deprecated and will be removed from pandas in a future version. Use pandas.concat instead.\n",
      "  sdf = sdf.append({'state': s,\n",
      "/var/folders/2d/8s7fzr_974372gjw0dqzc7g00000gn/T/ipykernel_2049/3351616026.py:3: FutureWarning: The frame.append method is deprecated and will be removed from pandas in a future version. Use pandas.concat instead.\n",
      "  sdf = sdf.append({'state': s,\n",
      "/var/folders/2d/8s7fzr_974372gjw0dqzc7g00000gn/T/ipykernel_2049/3351616026.py:3: FutureWarning: The frame.append method is deprecated and will be removed from pandas in a future version. Use pandas.concat instead.\n",
      "  sdf = sdf.append({'state': s,\n",
      "/var/folders/2d/8s7fzr_974372gjw0dqzc7g00000gn/T/ipykernel_2049/3351616026.py:3: FutureWarning: The frame.append method is deprecated and will be removed from pandas in a future version. Use pandas.concat instead.\n",
      "  sdf = sdf.append({'state': s,\n",
      "/var/folders/2d/8s7fzr_974372gjw0dqzc7g00000gn/T/ipykernel_2049/3351616026.py:3: FutureWarning: The frame.append method is deprecated and will be removed from pandas in a future version. Use pandas.concat instead.\n",
      "  sdf = sdf.append({'state': s,\n",
      "/var/folders/2d/8s7fzr_974372gjw0dqzc7g00000gn/T/ipykernel_2049/3351616026.py:3: FutureWarning: The frame.append method is deprecated and will be removed from pandas in a future version. Use pandas.concat instead.\n",
      "  sdf = sdf.append({'state': s,\n",
      "/var/folders/2d/8s7fzr_974372gjw0dqzc7g00000gn/T/ipykernel_2049/3351616026.py:3: FutureWarning: The frame.append method is deprecated and will be removed from pandas in a future version. Use pandas.concat instead.\n",
      "  sdf = sdf.append({'state': s,\n",
      "/var/folders/2d/8s7fzr_974372gjw0dqzc7g00000gn/T/ipykernel_2049/3351616026.py:3: FutureWarning: The frame.append method is deprecated and will be removed from pandas in a future version. Use pandas.concat instead.\n",
      "  sdf = sdf.append({'state': s,\n",
      "/var/folders/2d/8s7fzr_974372gjw0dqzc7g00000gn/T/ipykernel_2049/3351616026.py:3: FutureWarning: The frame.append method is deprecated and will be removed from pandas in a future version. Use pandas.concat instead.\n",
      "  sdf = sdf.append({'state': s,\n",
      "/var/folders/2d/8s7fzr_974372gjw0dqzc7g00000gn/T/ipykernel_2049/3351616026.py:3: FutureWarning: The frame.append method is deprecated and will be removed from pandas in a future version. Use pandas.concat instead.\n",
      "  sdf = sdf.append({'state': s,\n",
      "/var/folders/2d/8s7fzr_974372gjw0dqzc7g00000gn/T/ipykernel_2049/3351616026.py:3: FutureWarning: The frame.append method is deprecated and will be removed from pandas in a future version. Use pandas.concat instead.\n",
      "  sdf = sdf.append({'state': s,\n",
      "/var/folders/2d/8s7fzr_974372gjw0dqzc7g00000gn/T/ipykernel_2049/3351616026.py:3: FutureWarning: The frame.append method is deprecated and will be removed from pandas in a future version. Use pandas.concat instead.\n",
      "  sdf = sdf.append({'state': s,\n",
      "/var/folders/2d/8s7fzr_974372gjw0dqzc7g00000gn/T/ipykernel_2049/3351616026.py:3: FutureWarning: The frame.append method is deprecated and will be removed from pandas in a future version. Use pandas.concat instead.\n",
      "  sdf = sdf.append({'state': s,\n",
      "/var/folders/2d/8s7fzr_974372gjw0dqzc7g00000gn/T/ipykernel_2049/3351616026.py:3: FutureWarning: The frame.append method is deprecated and will be removed from pandas in a future version. Use pandas.concat instead.\n",
      "  sdf = sdf.append({'state': s,\n",
      "/var/folders/2d/8s7fzr_974372gjw0dqzc7g00000gn/T/ipykernel_2049/3351616026.py:3: FutureWarning: The frame.append method is deprecated and will be removed from pandas in a future version. Use pandas.concat instead.\n",
      "  sdf = sdf.append({'state': s,\n",
      "/var/folders/2d/8s7fzr_974372gjw0dqzc7g00000gn/T/ipykernel_2049/3351616026.py:3: FutureWarning: The frame.append method is deprecated and will be removed from pandas in a future version. Use pandas.concat instead.\n",
      "  sdf = sdf.append({'state': s,\n",
      "/var/folders/2d/8s7fzr_974372gjw0dqzc7g00000gn/T/ipykernel_2049/3351616026.py:3: FutureWarning: The frame.append method is deprecated and will be removed from pandas in a future version. Use pandas.concat instead.\n",
      "  sdf = sdf.append({'state': s,\n",
      "/var/folders/2d/8s7fzr_974372gjw0dqzc7g00000gn/T/ipykernel_2049/3351616026.py:3: FutureWarning: The frame.append method is deprecated and will be removed from pandas in a future version. Use pandas.concat instead.\n",
      "  sdf = sdf.append({'state': s,\n",
      "/var/folders/2d/8s7fzr_974372gjw0dqzc7g00000gn/T/ipykernel_2049/3351616026.py:3: FutureWarning: The frame.append method is deprecated and will be removed from pandas in a future version. Use pandas.concat instead.\n",
      "  sdf = sdf.append({'state': s,\n",
      "/var/folders/2d/8s7fzr_974372gjw0dqzc7g00000gn/T/ipykernel_2049/3351616026.py:3: FutureWarning: The frame.append method is deprecated and will be removed from pandas in a future version. Use pandas.concat instead.\n",
      "  sdf = sdf.append({'state': s,\n",
      "/var/folders/2d/8s7fzr_974372gjw0dqzc7g00000gn/T/ipykernel_2049/3351616026.py:3: FutureWarning: The frame.append method is deprecated and will be removed from pandas in a future version. Use pandas.concat instead.\n",
      "  sdf = sdf.append({'state': s,\n",
      "/var/folders/2d/8s7fzr_974372gjw0dqzc7g00000gn/T/ipykernel_2049/3351616026.py:3: FutureWarning: The frame.append method is deprecated and will be removed from pandas in a future version. Use pandas.concat instead.\n",
      "  sdf = sdf.append({'state': s,\n",
      "/var/folders/2d/8s7fzr_974372gjw0dqzc7g00000gn/T/ipykernel_2049/3351616026.py:3: FutureWarning: The frame.append method is deprecated and will be removed from pandas in a future version. Use pandas.concat instead.\n",
      "  sdf = sdf.append({'state': s,\n",
      "/var/folders/2d/8s7fzr_974372gjw0dqzc7g00000gn/T/ipykernel_2049/3351616026.py:3: FutureWarning: The frame.append method is deprecated and will be removed from pandas in a future version. Use pandas.concat instead.\n",
      "  sdf = sdf.append({'state': s,\n",
      "/var/folders/2d/8s7fzr_974372gjw0dqzc7g00000gn/T/ipykernel_2049/3351616026.py:3: FutureWarning: The frame.append method is deprecated and will be removed from pandas in a future version. Use pandas.concat instead.\n",
      "  sdf = sdf.append({'state': s,\n",
      "/var/folders/2d/8s7fzr_974372gjw0dqzc7g00000gn/T/ipykernel_2049/3351616026.py:3: FutureWarning: The frame.append method is deprecated and will be removed from pandas in a future version. Use pandas.concat instead.\n",
      "  sdf = sdf.append({'state': s,\n",
      "/var/folders/2d/8s7fzr_974372gjw0dqzc7g00000gn/T/ipykernel_2049/3351616026.py:3: FutureWarning: The frame.append method is deprecated and will be removed from pandas in a future version. Use pandas.concat instead.\n",
      "  sdf = sdf.append({'state': s,\n",
      "/var/folders/2d/8s7fzr_974372gjw0dqzc7g00000gn/T/ipykernel_2049/3351616026.py:3: FutureWarning: The frame.append method is deprecated and will be removed from pandas in a future version. Use pandas.concat instead.\n",
      "  sdf = sdf.append({'state': s,\n",
      "/var/folders/2d/8s7fzr_974372gjw0dqzc7g00000gn/T/ipykernel_2049/3351616026.py:3: FutureWarning: The frame.append method is deprecated and will be removed from pandas in a future version. Use pandas.concat instead.\n",
      "  sdf = sdf.append({'state': s,\n"
     ]
    }
   ],
   "source": [
    "sdf = pd.DataFrame(columns=['state', 'churn', 'no_churn'])\n",
    "for s in states:\n",
    "    sdf = sdf.append({'state': s, \n",
    "                'churn': control[(control['state']==s)&(control['churn']=='True.')].shape[0], \n",
    "                'no_churn': control[(control['state']==s)&(control['churn']=='False.')].shape[0]}, \n",
    "              ignore_index=True);\n",
    "    \n",
    "    "
   ]
  },
  {
   "cell_type": "code",
   "execution_count": 6,
   "id": "149d096d",
   "metadata": {},
   "outputs": [
    {
     "data": {
      "text/html": [
       "<div>\n",
       "<style scoped>\n",
       "    .dataframe tbody tr th:only-of-type {\n",
       "        vertical-align: middle;\n",
       "    }\n",
       "\n",
       "    .dataframe tbody tr th {\n",
       "        vertical-align: top;\n",
       "    }\n",
       "\n",
       "    .dataframe thead th {\n",
       "        text-align: right;\n",
       "    }\n",
       "</style>\n",
       "<table border=\"1\" class=\"dataframe\">\n",
       "  <thead>\n",
       "    <tr style=\"text-align: right;\">\n",
       "      <th></th>\n",
       "      <th>state</th>\n",
       "      <th>churn</th>\n",
       "      <th>no_churn</th>\n",
       "    </tr>\n",
       "  </thead>\n",
       "  <tbody>\n",
       "    <tr>\n",
       "      <th>0</th>\n",
       "      <td>KS</td>\n",
       "      <td>7</td>\n",
       "      <td>18</td>\n",
       "    </tr>\n",
       "    <tr>\n",
       "      <th>1</th>\n",
       "      <td>OH</td>\n",
       "      <td>2</td>\n",
       "      <td>22</td>\n",
       "    </tr>\n",
       "    <tr>\n",
       "      <th>2</th>\n",
       "      <td>LA</td>\n",
       "      <td>0</td>\n",
       "      <td>15</td>\n",
       "    </tr>\n",
       "    <tr>\n",
       "      <th>3</th>\n",
       "      <td>IA</td>\n",
       "      <td>2</td>\n",
       "      <td>13</td>\n",
       "    </tr>\n",
       "    <tr>\n",
       "      <th>4</th>\n",
       "      <td>VT</td>\n",
       "      <td>5</td>\n",
       "      <td>18</td>\n",
       "    </tr>\n",
       "  </tbody>\n",
       "</table>\n",
       "</div>"
      ],
      "text/plain": [
       "  state churn no_churn\n",
       "0    KS     7       18\n",
       "1    OH     2       22\n",
       "2    LA     0       15\n",
       "3    IA     2       13\n",
       "4    VT     5       18"
      ]
     },
     "execution_count": 6,
     "metadata": {},
     "output_type": "execute_result"
    }
   ],
   "source": [
    "sdf.head()"
   ]
  },
  {
   "cell_type": "code",
   "execution_count": 70,
   "id": "02cc6c4f",
   "metadata": {},
   "outputs": [],
   "source": [
    "from itertools import combinations\n",
    "import numpy as np\n",
    "from scipy.stats import chi2_contingency, fisher_exact\n",
    "comb = combinations(states, 2)\n",
    "p_less = 0\n",
    "p_less_corrected = 0\n",
    "plist=[]\n",
    "plist_corrected=[]\n",
    "for i in comb:\n",
    "    l = []\n",
    "    first_s = sdf[sdf['state']==i[0]][['churn', 'no_churn']]\n",
    "    second_s = sdf[sdf['state']==i[1]][['churn', 'no_churn']]\n",
    "    l.append(first_s.values.tolist()[0])\n",
    "    l.append(second_s.values.tolist()[0])\n",
    "    chi2, p, dof, ex = chi2_contingency(l, correction=False)\n",
    "    plist.append(p)\n",
    "    p_less += int(p < 0.05)\n",
    "    chi2_corrected, p_corrected, dof_corrected, ex_corrected = chi2_contingency(l, correction=True)\n",
    "    plist_corrected.append(p_corrected)\n",
    "    p_less_corrected += int(p_corrected < 0.05)"
   ]
  },
  {
   "cell_type": "code",
   "execution_count": 72,
   "id": "3d5dac7d",
   "metadata": {},
   "outputs": [
    {
     "name": "stdout",
     "output_type": "stream",
     "text": [
      "0.5018273798739158 0.7207040857368472\n"
     ]
    }
   ],
   "source": [
    "print(np.mean(plist), np.mean(plist_corrected))"
   ]
  },
  {
   "cell_type": "code",
   "execution_count": 11,
   "id": "b129ac17",
   "metadata": {},
   "outputs": [
    {
     "name": "stdout",
     "output_type": "stream",
     "text": [
      "34 0\n"
     ]
    }
   ],
   "source": [
    "print(p_less, p_less_corrected)"
   ]
  },
  {
   "cell_type": "code",
   "execution_count": 23,
   "id": "eb001cc8",
   "metadata": {},
   "outputs": [],
   "source": [
    "comb = combinations(states, 2)\n",
    "\n",
    "p_l = 0\n",
    "for i in comb:\n",
    "\n",
    "    l = []\n",
    "    first_s = sdf[sdf['state']==i[0]][['churn', 'no_churn']]\n",
    "    second_s = sdf[sdf['state']==i[1]][['churn', 'no_churn']]\n",
    "    l.append(first_s.values.tolist()[0])\n",
    "    l.append(second_s.values.tolist()[0])\n",
    "    o, p = fisher_exact(l)\n",
    "    p_l += int(p < 0.05)"
   ]
  },
  {
   "cell_type": "code",
   "execution_count": 24,
   "id": "261b9993",
   "metadata": {},
   "outputs": [
    {
     "data": {
      "text/plain": [
       "10"
      ]
     },
     "execution_count": 24,
     "metadata": {},
     "output_type": "execute_result"
    }
   ],
   "source": [
    "p_l"
   ]
  },
  {
   "cell_type": "code",
   "execution_count": 41,
   "id": "e60a4552",
   "metadata": {},
   "outputs": [
    {
     "name": "stdout",
     "output_type": "stream",
     "text": [
      "-0.051794350587572625 0.0027798836869738384\n"
     ]
    }
   ],
   "source": [
    "from scipy.stats import pearsonr, spearmanr, mannwhitneyu\n",
    "corr, p = pearsonr(df['day_calls'], df['mes_estim'])\n",
    "print(corr, p)"
   ]
  },
  {
   "cell_type": "code",
   "execution_count": 74,
   "id": "c7708cc3",
   "metadata": {},
   "outputs": [
    {
     "name": "stdout",
     "output_type": "stream",
     "text": [
      "0.043349880533927444 0.012317367189170541\n"
     ]
    }
   ],
   "source": [
    "corr, p = spearmanr( df['mes_estim'],df['day_calls'])\n",
    "print(corr, p)"
   ]
  },
  {
   "cell_type": "code",
   "execution_count": 39,
   "id": "6a29903d",
   "metadata": {},
   "outputs": [
    {
     "name": "stdout",
     "output_type": "stream",
     "text": [
      "Chi_2 статистика: 44.05271236692548 \n",
      "Достигаемый уровень значимости: 0.7097590042778473 \n",
      "Коэффициент V Крамера: 0.2003932150203332\n"
     ]
    }
   ],
   "source": [
    "import math\n",
    "m = np.array(pd.crosstab(df[df['treatment']==1]['state'], df[df['treatment']==1]['churn']))\n",
    "n = m.sum()\n",
    "chi2, p, dof, ex = chi2_contingency(m)\n",
    "cramer = math.sqrt(chi2/(n*(min(7,2) - 1)))\n",
    "print(f'Chi_2 статистика: {chi2} \\nДостигаемый уровень значимости: {p} \\nКоэффициент V Крамера: {cramer}')"
   ]
  },
  {
   "cell_type": "code",
   "execution_count": 66,
   "id": "3a463c87",
   "metadata": {},
   "outputs": [],
   "source": [
    "t1 = [0 if i=='False.' else 1 for i in df[df['treatment']==1]['churn']]\n",
    "t0 = [0 if i=='False.' else 1 for i in df[df['treatment']==0]['churn']]\n",
    "t2 = [0 if i=='False.' else 1 for i in df[df['treatment']==2]['churn']]\n",
    "\n",
    "\n",
    "import scipy\n"
   ]
  },
  {
   "cell_type": "code",
   "execution_count": 67,
   "id": "660dcfab",
   "metadata": {},
   "outputs": [],
   "source": [
    "def proportions_diff_z_stat_ind(sample1, sample2):\n",
    "    n1 = len(sample1)\n",
    "    n2 = len(sample2)\n",
    "    \n",
    "    p1 = float(sum(sample1)) / n1\n",
    "    p2 = float(sum(sample2)) / n2 \n",
    "    P = float(p1*n1 + p2*n2) / (n1 + n2)\n",
    "    \n",
    "    return (p1 - p2) / np.sqrt(P * (1 - P) * (1. / n1 + 1. / n2))\n",
    "\n",
    "\n",
    "def proportions_diff_z_test(z_stat, alternative = 'two-sided'):\n",
    "    if alternative not in ('two-sided', 'less', 'greater'):\n",
    "        raise ValueError(\"alternative not recognized\\n\"\n",
    "                         \"should be 'two-sided', 'less' or 'greater'\")\n",
    "    \n",
    "    if alternative == 'two-sided':\n",
    "        return 2 * (1 - scipy.stats.norm.cdf(np.abs(z_stat)))\n",
    "    \n",
    "    if alternative == 'less':\n",
    "        return scipy.stats.norm.cdf(z_stat)\n",
    "\n",
    "    if alternative == 'greater':\n",
    "        return 1 - scipy.stats.norm.cdf(z_stat)\n"
   ]
  },
  {
   "cell_type": "code",
   "execution_count": 69,
   "id": "6127e649",
   "metadata": {},
   "outputs": [
    {
     "name": "stdout",
     "output_type": "stream",
     "text": [
      "p-value: 0.228331\n",
      "p-value: 0.009348\n",
      "p-value: 0.156425\n"
     ]
    }
   ],
   "source": [
    "print(\"p-value: %f\" % proportions_diff_z_test(proportions_diff_z_stat_ind(t0, t1)))\n",
    "print(\"p-value: %f\" % proportions_diff_z_test(proportions_diff_z_stat_ind(t1, t2)))\n",
    "print(\"p-value: %f\" % proportions_diff_z_test(proportions_diff_z_stat_ind(t0, t2)))"
   ]
  },
  {
   "cell_type": "code",
   "execution_count": null,
   "id": "0d6295d1",
   "metadata": {},
   "outputs": [],
   "source": []
  }
 ],
 "metadata": {
  "kernelspec": {
   "display_name": "Python 3 (ipykernel)",
   "language": "python",
   "name": "python3"
  },
  "language_info": {
   "codemirror_mode": {
    "name": "ipython",
    "version": 3
   },
   "file_extension": ".py",
   "mimetype": "text/x-python",
   "name": "python",
   "nbconvert_exporter": "python",
   "pygments_lexer": "ipython3",
   "version": "3.9.7"
  }
 },
 "nbformat": 4,
 "nbformat_minor": 5
}
