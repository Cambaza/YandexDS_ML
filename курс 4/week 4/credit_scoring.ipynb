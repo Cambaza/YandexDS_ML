{
 "cells": [
  {
   "cell_type": "code",
   "execution_count": 424,
   "id": "ad7313bb",
   "metadata": {},
   "outputs": [],
   "source": [
    "import pandas as pd\n",
    "import numpy as np\n",
    "import matplotlib.pyplot as plt\n",
    "\n",
    "import scipy\n",
    "from statsmodels import stats\n",
    "from statsmodels.stats.descriptivestats import sign_test\n",
    "from statsmodels.stats.weightstats import zconfint\n",
    "from statsmodels.stats.weightstats import *\n",
    "from statsmodels.stats.proportion import proportion_confint"
   ]
  },
  {
   "cell_type": "code",
   "execution_count": 425,
   "id": "abd1b545",
   "metadata": {},
   "outputs": [],
   "source": [
    "df = pd.read_csv('credit_card_default_analysis.csv', index_col='ID') #загрузка данных"
   ]
  },
  {
   "cell_type": "code",
   "execution_count": 426,
   "id": "e4beb02a",
   "metadata": {},
   "outputs": [
    {
     "data": {
      "text/html": [
       "<div>\n",
       "<style scoped>\n",
       "    .dataframe tbody tr th:only-of-type {\n",
       "        vertical-align: middle;\n",
       "    }\n",
       "\n",
       "    .dataframe tbody tr th {\n",
       "        vertical-align: top;\n",
       "    }\n",
       "\n",
       "    .dataframe thead th {\n",
       "        text-align: right;\n",
       "    }\n",
       "</style>\n",
       "<table border=\"1\" class=\"dataframe\">\n",
       "  <thead>\n",
       "    <tr style=\"text-align: right;\">\n",
       "      <th></th>\n",
       "      <th>LIMIT_BAL</th>\n",
       "      <th>SEX</th>\n",
       "      <th>EDUCATION</th>\n",
       "      <th>MARRIAGE</th>\n",
       "      <th>AGE</th>\n",
       "      <th>PAY_0</th>\n",
       "      <th>PAY_2</th>\n",
       "      <th>PAY_3</th>\n",
       "      <th>PAY_4</th>\n",
       "      <th>PAY_5</th>\n",
       "      <th>...</th>\n",
       "      <th>BILL_AMT4</th>\n",
       "      <th>BILL_AMT5</th>\n",
       "      <th>BILL_AMT6</th>\n",
       "      <th>PAY_AMT1</th>\n",
       "      <th>PAY_AMT2</th>\n",
       "      <th>PAY_AMT3</th>\n",
       "      <th>PAY_AMT4</th>\n",
       "      <th>PAY_AMT5</th>\n",
       "      <th>PAY_AMT6</th>\n",
       "      <th>default</th>\n",
       "    </tr>\n",
       "    <tr>\n",
       "      <th>ID</th>\n",
       "      <th></th>\n",
       "      <th></th>\n",
       "      <th></th>\n",
       "      <th></th>\n",
       "      <th></th>\n",
       "      <th></th>\n",
       "      <th></th>\n",
       "      <th></th>\n",
       "      <th></th>\n",
       "      <th></th>\n",
       "      <th></th>\n",
       "      <th></th>\n",
       "      <th></th>\n",
       "      <th></th>\n",
       "      <th></th>\n",
       "      <th></th>\n",
       "      <th></th>\n",
       "      <th></th>\n",
       "      <th></th>\n",
       "      <th></th>\n",
       "      <th></th>\n",
       "    </tr>\n",
       "  </thead>\n",
       "  <tbody>\n",
       "    <tr>\n",
       "      <th>1</th>\n",
       "      <td>20000</td>\n",
       "      <td>2</td>\n",
       "      <td>2</td>\n",
       "      <td>1</td>\n",
       "      <td>24</td>\n",
       "      <td>2</td>\n",
       "      <td>2</td>\n",
       "      <td>0</td>\n",
       "      <td>0</td>\n",
       "      <td>0</td>\n",
       "      <td>...</td>\n",
       "      <td>0</td>\n",
       "      <td>0</td>\n",
       "      <td>0</td>\n",
       "      <td>0</td>\n",
       "      <td>689</td>\n",
       "      <td>0</td>\n",
       "      <td>0</td>\n",
       "      <td>0</td>\n",
       "      <td>0</td>\n",
       "      <td>1</td>\n",
       "    </tr>\n",
       "    <tr>\n",
       "      <th>2</th>\n",
       "      <td>120000</td>\n",
       "      <td>2</td>\n",
       "      <td>2</td>\n",
       "      <td>2</td>\n",
       "      <td>26</td>\n",
       "      <td>0</td>\n",
       "      <td>2</td>\n",
       "      <td>0</td>\n",
       "      <td>0</td>\n",
       "      <td>0</td>\n",
       "      <td>...</td>\n",
       "      <td>3272</td>\n",
       "      <td>3455</td>\n",
       "      <td>3261</td>\n",
       "      <td>0</td>\n",
       "      <td>1000</td>\n",
       "      <td>1000</td>\n",
       "      <td>1000</td>\n",
       "      <td>0</td>\n",
       "      <td>2000</td>\n",
       "      <td>1</td>\n",
       "    </tr>\n",
       "    <tr>\n",
       "      <th>3</th>\n",
       "      <td>90000</td>\n",
       "      <td>2</td>\n",
       "      <td>2</td>\n",
       "      <td>2</td>\n",
       "      <td>34</td>\n",
       "      <td>0</td>\n",
       "      <td>0</td>\n",
       "      <td>0</td>\n",
       "      <td>0</td>\n",
       "      <td>0</td>\n",
       "      <td>...</td>\n",
       "      <td>14331</td>\n",
       "      <td>14948</td>\n",
       "      <td>15549</td>\n",
       "      <td>1518</td>\n",
       "      <td>1500</td>\n",
       "      <td>1000</td>\n",
       "      <td>1000</td>\n",
       "      <td>1000</td>\n",
       "      <td>5000</td>\n",
       "      <td>0</td>\n",
       "    </tr>\n",
       "    <tr>\n",
       "      <th>4</th>\n",
       "      <td>50000</td>\n",
       "      <td>2</td>\n",
       "      <td>2</td>\n",
       "      <td>1</td>\n",
       "      <td>37</td>\n",
       "      <td>0</td>\n",
       "      <td>0</td>\n",
       "      <td>0</td>\n",
       "      <td>0</td>\n",
       "      <td>0</td>\n",
       "      <td>...</td>\n",
       "      <td>28314</td>\n",
       "      <td>28959</td>\n",
       "      <td>29547</td>\n",
       "      <td>2000</td>\n",
       "      <td>2019</td>\n",
       "      <td>1200</td>\n",
       "      <td>1100</td>\n",
       "      <td>1069</td>\n",
       "      <td>1000</td>\n",
       "      <td>0</td>\n",
       "    </tr>\n",
       "    <tr>\n",
       "      <th>5</th>\n",
       "      <td>50000</td>\n",
       "      <td>1</td>\n",
       "      <td>2</td>\n",
       "      <td>1</td>\n",
       "      <td>57</td>\n",
       "      <td>0</td>\n",
       "      <td>0</td>\n",
       "      <td>0</td>\n",
       "      <td>0</td>\n",
       "      <td>0</td>\n",
       "      <td>...</td>\n",
       "      <td>20940</td>\n",
       "      <td>19146</td>\n",
       "      <td>19131</td>\n",
       "      <td>2000</td>\n",
       "      <td>36681</td>\n",
       "      <td>10000</td>\n",
       "      <td>9000</td>\n",
       "      <td>689</td>\n",
       "      <td>679</td>\n",
       "      <td>0</td>\n",
       "    </tr>\n",
       "  </tbody>\n",
       "</table>\n",
       "<p>5 rows × 24 columns</p>\n",
       "</div>"
      ],
      "text/plain": [
       "    LIMIT_BAL  SEX  EDUCATION  MARRIAGE  AGE  PAY_0  PAY_2  PAY_3  PAY_4  \\\n",
       "ID                                                                         \n",
       "1       20000    2          2         1   24      2      2      0      0   \n",
       "2      120000    2          2         2   26      0      2      0      0   \n",
       "3       90000    2          2         2   34      0      0      0      0   \n",
       "4       50000    2          2         1   37      0      0      0      0   \n",
       "5       50000    1          2         1   57      0      0      0      0   \n",
       "\n",
       "    PAY_5  ...  BILL_AMT4  BILL_AMT5  BILL_AMT6  PAY_AMT1  PAY_AMT2  PAY_AMT3  \\\n",
       "ID         ...                                                                  \n",
       "1       0  ...          0          0          0         0       689         0   \n",
       "2       0  ...       3272       3455       3261         0      1000      1000   \n",
       "3       0  ...      14331      14948      15549      1518      1500      1000   \n",
       "4       0  ...      28314      28959      29547      2000      2019      1200   \n",
       "5       0  ...      20940      19146      19131      2000     36681     10000   \n",
       "\n",
       "    PAY_AMT4  PAY_AMT5  PAY_AMT6  default  \n",
       "ID                                         \n",
       "1          0         0         0        1  \n",
       "2       1000         0      2000        1  \n",
       "3       1000      1000      5000        0  \n",
       "4       1100      1069      1000        0  \n",
       "5       9000       689       679        0  \n",
       "\n",
       "[5 rows x 24 columns]"
      ]
     },
     "execution_count": 426,
     "metadata": {},
     "output_type": "execute_result"
    }
   ],
   "source": [
    "df.head()"
   ]
  },
  {
   "cell_type": "code",
   "execution_count": 427,
   "id": "b188b57d",
   "metadata": {},
   "outputs": [
    {
     "name": "stdout",
     "output_type": "stream",
     "text": [
      "<class 'pandas.core.frame.DataFrame'>\n",
      "Int64Index: 30000 entries, 1 to 30000\n",
      "Data columns (total 24 columns):\n",
      " #   Column     Non-Null Count  Dtype\n",
      "---  ------     --------------  -----\n",
      " 0   LIMIT_BAL  30000 non-null  int64\n",
      " 1   SEX        30000 non-null  int64\n",
      " 2   EDUCATION  30000 non-null  int64\n",
      " 3   MARRIAGE   30000 non-null  int64\n",
      " 4   AGE        30000 non-null  int64\n",
      " 5   PAY_0      30000 non-null  int64\n",
      " 6   PAY_2      30000 non-null  int64\n",
      " 7   PAY_3      30000 non-null  int64\n",
      " 8   PAY_4      30000 non-null  int64\n",
      " 9   PAY_5      30000 non-null  int64\n",
      " 10  PAY_6      30000 non-null  int64\n",
      " 11  BILL_AMT1  30000 non-null  int64\n",
      " 12  BILL_AMT2  30000 non-null  int64\n",
      " 13  BILL_AMT3  30000 non-null  int64\n",
      " 14  BILL_AMT4  30000 non-null  int64\n",
      " 15  BILL_AMT5  30000 non-null  int64\n",
      " 16  BILL_AMT6  30000 non-null  int64\n",
      " 17  PAY_AMT1   30000 non-null  int64\n",
      " 18  PAY_AMT2   30000 non-null  int64\n",
      " 19  PAY_AMT3   30000 non-null  int64\n",
      " 20  PAY_AMT4   30000 non-null  int64\n",
      " 21  PAY_AMT5   30000 non-null  int64\n",
      " 22  PAY_AMT6   30000 non-null  int64\n",
      " 23  default    30000 non-null  int64\n",
      "dtypes: int64(24)\n",
      "memory usage: 5.7 MB\n"
     ]
    }
   ],
   "source": [
    "df.info() #пропущеных значений нет"
   ]
  },
  {
   "cell_type": "code",
   "execution_count": 428,
   "id": "92f30018",
   "metadata": {},
   "outputs": [
    {
     "data": {
      "text/html": [
       "<div>\n",
       "<style scoped>\n",
       "    .dataframe tbody tr th:only-of-type {\n",
       "        vertical-align: middle;\n",
       "    }\n",
       "\n",
       "    .dataframe tbody tr th {\n",
       "        vertical-align: top;\n",
       "    }\n",
       "\n",
       "    .dataframe thead th {\n",
       "        text-align: right;\n",
       "    }\n",
       "</style>\n",
       "<table border=\"1\" class=\"dataframe\">\n",
       "  <thead>\n",
       "    <tr style=\"text-align: right;\">\n",
       "      <th></th>\n",
       "      <th>LIMIT_BAL</th>\n",
       "      <th>SEX</th>\n",
       "      <th>EDUCATION</th>\n",
       "      <th>MARRIAGE</th>\n",
       "      <th>AGE</th>\n",
       "      <th>PAY_0</th>\n",
       "      <th>PAY_2</th>\n",
       "      <th>PAY_3</th>\n",
       "      <th>PAY_4</th>\n",
       "      <th>PAY_5</th>\n",
       "      <th>...</th>\n",
       "      <th>BILL_AMT4</th>\n",
       "      <th>BILL_AMT5</th>\n",
       "      <th>BILL_AMT6</th>\n",
       "      <th>PAY_AMT1</th>\n",
       "      <th>PAY_AMT2</th>\n",
       "      <th>PAY_AMT3</th>\n",
       "      <th>PAY_AMT4</th>\n",
       "      <th>PAY_AMT5</th>\n",
       "      <th>PAY_AMT6</th>\n",
       "      <th>default</th>\n",
       "    </tr>\n",
       "  </thead>\n",
       "  <tbody>\n",
       "    <tr>\n",
       "      <th>count</th>\n",
       "      <td>30000.000000</td>\n",
       "      <td>30000.000000</td>\n",
       "      <td>30000.000000</td>\n",
       "      <td>30000.000000</td>\n",
       "      <td>30000.000000</td>\n",
       "      <td>30000.000000</td>\n",
       "      <td>30000.000000</td>\n",
       "      <td>30000.000000</td>\n",
       "      <td>30000.000000</td>\n",
       "      <td>30000.00000</td>\n",
       "      <td>...</td>\n",
       "      <td>30000.000000</td>\n",
       "      <td>30000.000000</td>\n",
       "      <td>30000.000000</td>\n",
       "      <td>30000.000000</td>\n",
       "      <td>3.000000e+04</td>\n",
       "      <td>30000.00000</td>\n",
       "      <td>30000.000000</td>\n",
       "      <td>30000.000000</td>\n",
       "      <td>30000.000000</td>\n",
       "      <td>30000.000000</td>\n",
       "    </tr>\n",
       "    <tr>\n",
       "      <th>mean</th>\n",
       "      <td>167484.322667</td>\n",
       "      <td>1.603733</td>\n",
       "      <td>1.853133</td>\n",
       "      <td>1.551867</td>\n",
       "      <td>35.485500</td>\n",
       "      <td>0.356767</td>\n",
       "      <td>0.320033</td>\n",
       "      <td>0.304067</td>\n",
       "      <td>0.258767</td>\n",
       "      <td>0.22150</td>\n",
       "      <td>...</td>\n",
       "      <td>43262.948967</td>\n",
       "      <td>40311.400967</td>\n",
       "      <td>38871.760400</td>\n",
       "      <td>5663.580500</td>\n",
       "      <td>5.921163e+03</td>\n",
       "      <td>5225.68150</td>\n",
       "      <td>4826.076867</td>\n",
       "      <td>4799.387633</td>\n",
       "      <td>5215.502567</td>\n",
       "      <td>0.221200</td>\n",
       "    </tr>\n",
       "    <tr>\n",
       "      <th>std</th>\n",
       "      <td>129747.661567</td>\n",
       "      <td>0.489129</td>\n",
       "      <td>0.790349</td>\n",
       "      <td>0.521970</td>\n",
       "      <td>9.217904</td>\n",
       "      <td>0.760594</td>\n",
       "      <td>0.801727</td>\n",
       "      <td>0.790589</td>\n",
       "      <td>0.761113</td>\n",
       "      <td>0.71772</td>\n",
       "      <td>...</td>\n",
       "      <td>64332.856134</td>\n",
       "      <td>60797.155770</td>\n",
       "      <td>59554.107537</td>\n",
       "      <td>16563.280354</td>\n",
       "      <td>2.304087e+04</td>\n",
       "      <td>17606.96147</td>\n",
       "      <td>15666.159744</td>\n",
       "      <td>15278.305679</td>\n",
       "      <td>17777.465775</td>\n",
       "      <td>0.415062</td>\n",
       "    </tr>\n",
       "    <tr>\n",
       "      <th>min</th>\n",
       "      <td>10000.000000</td>\n",
       "      <td>1.000000</td>\n",
       "      <td>0.000000</td>\n",
       "      <td>0.000000</td>\n",
       "      <td>21.000000</td>\n",
       "      <td>0.000000</td>\n",
       "      <td>0.000000</td>\n",
       "      <td>0.000000</td>\n",
       "      <td>0.000000</td>\n",
       "      <td>0.00000</td>\n",
       "      <td>...</td>\n",
       "      <td>-170000.000000</td>\n",
       "      <td>-81334.000000</td>\n",
       "      <td>-339603.000000</td>\n",
       "      <td>0.000000</td>\n",
       "      <td>0.000000e+00</td>\n",
       "      <td>0.00000</td>\n",
       "      <td>0.000000</td>\n",
       "      <td>0.000000</td>\n",
       "      <td>0.000000</td>\n",
       "      <td>0.000000</td>\n",
       "    </tr>\n",
       "    <tr>\n",
       "      <th>25%</th>\n",
       "      <td>50000.000000</td>\n",
       "      <td>1.000000</td>\n",
       "      <td>1.000000</td>\n",
       "      <td>1.000000</td>\n",
       "      <td>28.000000</td>\n",
       "      <td>0.000000</td>\n",
       "      <td>0.000000</td>\n",
       "      <td>0.000000</td>\n",
       "      <td>0.000000</td>\n",
       "      <td>0.00000</td>\n",
       "      <td>...</td>\n",
       "      <td>2326.750000</td>\n",
       "      <td>1763.000000</td>\n",
       "      <td>1256.000000</td>\n",
       "      <td>1000.000000</td>\n",
       "      <td>8.330000e+02</td>\n",
       "      <td>390.00000</td>\n",
       "      <td>296.000000</td>\n",
       "      <td>252.500000</td>\n",
       "      <td>117.750000</td>\n",
       "      <td>0.000000</td>\n",
       "    </tr>\n",
       "    <tr>\n",
       "      <th>50%</th>\n",
       "      <td>140000.000000</td>\n",
       "      <td>2.000000</td>\n",
       "      <td>2.000000</td>\n",
       "      <td>2.000000</td>\n",
       "      <td>34.000000</td>\n",
       "      <td>0.000000</td>\n",
       "      <td>0.000000</td>\n",
       "      <td>0.000000</td>\n",
       "      <td>0.000000</td>\n",
       "      <td>0.00000</td>\n",
       "      <td>...</td>\n",
       "      <td>19052.000000</td>\n",
       "      <td>18104.500000</td>\n",
       "      <td>17071.000000</td>\n",
       "      <td>2100.000000</td>\n",
       "      <td>2.009000e+03</td>\n",
       "      <td>1800.00000</td>\n",
       "      <td>1500.000000</td>\n",
       "      <td>1500.000000</td>\n",
       "      <td>1500.000000</td>\n",
       "      <td>0.000000</td>\n",
       "    </tr>\n",
       "    <tr>\n",
       "      <th>75%</th>\n",
       "      <td>240000.000000</td>\n",
       "      <td>2.000000</td>\n",
       "      <td>2.000000</td>\n",
       "      <td>2.000000</td>\n",
       "      <td>41.000000</td>\n",
       "      <td>0.000000</td>\n",
       "      <td>0.000000</td>\n",
       "      <td>0.000000</td>\n",
       "      <td>0.000000</td>\n",
       "      <td>0.00000</td>\n",
       "      <td>...</td>\n",
       "      <td>54506.000000</td>\n",
       "      <td>50190.500000</td>\n",
       "      <td>49198.250000</td>\n",
       "      <td>5006.000000</td>\n",
       "      <td>5.000000e+03</td>\n",
       "      <td>4505.00000</td>\n",
       "      <td>4013.250000</td>\n",
       "      <td>4031.500000</td>\n",
       "      <td>4000.000000</td>\n",
       "      <td>0.000000</td>\n",
       "    </tr>\n",
       "    <tr>\n",
       "      <th>max</th>\n",
       "      <td>1000000.000000</td>\n",
       "      <td>2.000000</td>\n",
       "      <td>6.000000</td>\n",
       "      <td>3.000000</td>\n",
       "      <td>79.000000</td>\n",
       "      <td>8.000000</td>\n",
       "      <td>8.000000</td>\n",
       "      <td>8.000000</td>\n",
       "      <td>8.000000</td>\n",
       "      <td>8.00000</td>\n",
       "      <td>...</td>\n",
       "      <td>891586.000000</td>\n",
       "      <td>927171.000000</td>\n",
       "      <td>961664.000000</td>\n",
       "      <td>873552.000000</td>\n",
       "      <td>1.684259e+06</td>\n",
       "      <td>896040.00000</td>\n",
       "      <td>621000.000000</td>\n",
       "      <td>426529.000000</td>\n",
       "      <td>528666.000000</td>\n",
       "      <td>1.000000</td>\n",
       "    </tr>\n",
       "  </tbody>\n",
       "</table>\n",
       "<p>8 rows × 24 columns</p>\n",
       "</div>"
      ],
      "text/plain": [
       "            LIMIT_BAL           SEX     EDUCATION      MARRIAGE           AGE  \\\n",
       "count    30000.000000  30000.000000  30000.000000  30000.000000  30000.000000   \n",
       "mean    167484.322667      1.603733      1.853133      1.551867     35.485500   \n",
       "std     129747.661567      0.489129      0.790349      0.521970      9.217904   \n",
       "min      10000.000000      1.000000      0.000000      0.000000     21.000000   \n",
       "25%      50000.000000      1.000000      1.000000      1.000000     28.000000   \n",
       "50%     140000.000000      2.000000      2.000000      2.000000     34.000000   \n",
       "75%     240000.000000      2.000000      2.000000      2.000000     41.000000   \n",
       "max    1000000.000000      2.000000      6.000000      3.000000     79.000000   \n",
       "\n",
       "              PAY_0         PAY_2         PAY_3         PAY_4        PAY_5  \\\n",
       "count  30000.000000  30000.000000  30000.000000  30000.000000  30000.00000   \n",
       "mean       0.356767      0.320033      0.304067      0.258767      0.22150   \n",
       "std        0.760594      0.801727      0.790589      0.761113      0.71772   \n",
       "min        0.000000      0.000000      0.000000      0.000000      0.00000   \n",
       "25%        0.000000      0.000000      0.000000      0.000000      0.00000   \n",
       "50%        0.000000      0.000000      0.000000      0.000000      0.00000   \n",
       "75%        0.000000      0.000000      0.000000      0.000000      0.00000   \n",
       "max        8.000000      8.000000      8.000000      8.000000      8.00000   \n",
       "\n",
       "       ...      BILL_AMT4      BILL_AMT5      BILL_AMT6       PAY_AMT1  \\\n",
       "count  ...   30000.000000   30000.000000   30000.000000   30000.000000   \n",
       "mean   ...   43262.948967   40311.400967   38871.760400    5663.580500   \n",
       "std    ...   64332.856134   60797.155770   59554.107537   16563.280354   \n",
       "min    ... -170000.000000  -81334.000000 -339603.000000       0.000000   \n",
       "25%    ...    2326.750000    1763.000000    1256.000000    1000.000000   \n",
       "50%    ...   19052.000000   18104.500000   17071.000000    2100.000000   \n",
       "75%    ...   54506.000000   50190.500000   49198.250000    5006.000000   \n",
       "max    ...  891586.000000  927171.000000  961664.000000  873552.000000   \n",
       "\n",
       "           PAY_AMT2      PAY_AMT3       PAY_AMT4       PAY_AMT5  \\\n",
       "count  3.000000e+04   30000.00000   30000.000000   30000.000000   \n",
       "mean   5.921163e+03    5225.68150    4826.076867    4799.387633   \n",
       "std    2.304087e+04   17606.96147   15666.159744   15278.305679   \n",
       "min    0.000000e+00       0.00000       0.000000       0.000000   \n",
       "25%    8.330000e+02     390.00000     296.000000     252.500000   \n",
       "50%    2.009000e+03    1800.00000    1500.000000    1500.000000   \n",
       "75%    5.000000e+03    4505.00000    4013.250000    4031.500000   \n",
       "max    1.684259e+06  896040.00000  621000.000000  426529.000000   \n",
       "\n",
       "            PAY_AMT6       default  \n",
       "count   30000.000000  30000.000000  \n",
       "mean     5215.502567      0.221200  \n",
       "std     17777.465775      0.415062  \n",
       "min         0.000000      0.000000  \n",
       "25%       117.750000      0.000000  \n",
       "50%      1500.000000      0.000000  \n",
       "75%      4000.000000      0.000000  \n",
       "max    528666.000000      1.000000  \n",
       "\n",
       "[8 rows x 24 columns]"
      ]
     },
     "execution_count": 428,
     "metadata": {},
     "output_type": "execute_result"
    }
   ],
   "source": [
    "df.describe() #краткое описание статистик признаков"
   ]
  },
  {
   "cell_type": "code",
   "execution_count": 429,
   "id": "7e32f04f",
   "metadata": {},
   "outputs": [
    {
     "data": {
      "text/plain": [
       "0    23364\n",
       "1     6636\n",
       "Name: default, dtype: int64"
      ]
     },
     "execution_count": 429,
     "metadata": {},
     "output_type": "execute_result"
    }
   ],
   "source": [
    "df.default.value_counts() "
   ]
  },
  {
   "cell_type": "markdown",
   "id": "7fef3f8e",
   "metadata": {},
   "source": [
    "* В данных кто вернул кредит (default = 0) приблизительно в 3 раза больше тех, кто его не вернул (default = 1)"
   ]
  },
  {
   "cell_type": "markdown",
   "id": "5c345f97",
   "metadata": {},
   "source": [
    "## 1 . Размер кредитного лимита (в том числе и на семью клиента) LIMIT_BAL\n",
    "### Визуализация\n"
   ]
  },
  {
   "cell_type": "code",
   "execution_count": 430,
   "id": "c12ea0a8",
   "metadata": {},
   "outputs": [
    {
     "data": {
      "image/png": "[encoded data removed]",
      "text/plain": [
       "<Figure size 864x720 with 4 Axes>"
      ]
     },
     "metadata": {
      "needs_background": "light"
     },
     "output_type": "display_data"
    }
   ],
   "source": [
    "bal_0 = df[df['default']==0]['LIMIT_BAL']\n",
    "bal_1 = df[df['default']==1]['LIMIT_BAL']\n",
    "%matplotlib inline\n",
    "fig, axs = plt.subplots(2, 2,figsize=(12,10))\n",
    "\n",
    "axs[0, 0].hist(bal_0, color = 'g')\n",
    "axs[0, 0].set_title('default=0')\n",
    "\n",
    "\n",
    "axs[0, 1].hist(bal_1, color = 'b')\n",
    "axs[0, 1].set_title('default=1')\n",
    "\n",
    "axs[1, 0].boxplot([bal_0, bal_1])\n",
    "axs[1, 0].set_xticklabels(['default=0', 'default=1'])\n",
    "axs[1, 0].set_ylabel('LIMIT_BAL')\n",
    "\n",
    "axs[1, 1].hist(df['LIMIT_BAL'], color = 'y')\n",
    "axs[1, 1].set_title('Общее распределение')\n",
    "\n",
    "plt.show()"
   ]
  },
  {
   "cell_type": "markdown",
   "id": "411b105e",
   "metadata": {},
   "source": [
    "### Интерпретация графиков\n",
    "* Распределение признака скошенно с тяжелым правым хвостом и не является нормальным.\n",
    "\n",
    "\n",
    "* На графиках ящиков с усами визуально видно, что медианы LIMIT_BAL немного отличаются в зависимости от значения целевой переменной.\n",
    "\n",
    "\n",
    "* В зависимости от целевого признака распределения визуально отличаются\n",
    "\n",
    "\n"
   ]
  },
  {
   "cell_type": "markdown",
   "id": "a78f9d4c",
   "metadata": {},
   "source": [
    "### a) проверка гипотезы о равенстве медианных значений кредитного лимита с помощью подходящей интервальной оценки"
   ]
  },
  {
   "cell_type": "markdown",
   "id": "3324a7ee",
   "metadata": {},
   "source": [
    "#### Точечная оценка разности медиан"
   ]
  },
  {
   "cell_type": "code",
   "execution_count": 431,
   "id": "23b4319d",
   "metadata": {},
   "outputs": [
    {
     "name": "stdout",
     "output_type": "stream",
     "text": [
      "Медиана признака по всему датасету  140000.0\n",
      "Медиана при default=0: 150000.0 и при default=0: 90000.0. Разность: 60000.0\n"
     ]
    }
   ],
   "source": [
    "print('Медиана признака по всему датасету ', np.median(df['LIMIT_BAL']))\n",
    "print(\"Медиана при default=0: {} и при default=0: {}. Разность: {}\".format(np.median(bal_0), \n",
    "                                                                           np.median(bal_1), \n",
    "                                                                           np.median(bal_0) - np.median(bal_1)))"
   ]
  },
  {
   "cell_type": "markdown",
   "id": "00b60eb7",
   "metadata": {},
   "source": [
    "#### Интервальная оценка разности медиан\n",
    "\n",
    "Поскольку выборка не сбалансированна относительно целевой переменной, то будем расчитывать интервал с помощью бутстрапа"
   ]
  },
  {
   "cell_type": "code",
   "execution_count": 432,
   "id": "16524a46",
   "metadata": {},
   "outputs": [],
   "source": [
    "def get_bootstrap_samples(data, n_samples):\n",
    "    indices = np.random.randint(0, len(data), size=(n_samples, len(data)))\n",
    "\n",
    "    samples = data[indices]\n",
    "    return samples\n",
    "\n",
    "def stat_intervals(stat, alpha):\n",
    "    boundaries = np.percentile(stat, [100 * alpha / 2., 100 * (1 - alpha / 2.)])\n",
    "    return boundaries"
   ]
  },
  {
   "cell_type": "code",
   "execution_count": 433,
   "id": "7aa61a5d",
   "metadata": {},
   "outputs": [
    {
     "name": "stdout",
     "output_type": "stream",
     "text": [
      "95% confidence interval for the difference between medians [60000. 70000.]\n"
     ]
    }
   ],
   "source": [
    "np.random.seed(0)\n",
    "\n",
    "bal_0_scores = list(map(np.median, get_bootstrap_samples(np.array(bal_0), 1000)))\n",
    "bal_1_scores = list(map(np.median, get_bootstrap_samples(np.array(bal_1), 1000)))\n",
    "\n",
    "delta_median_scores = list(map(lambda x: x[0] - x[1], zip(bal_0_scores, bal_1_scores)))\n",
    "print(\"95% confidence interval for the difference between medians\",  stat_intervals(delta_median_scores, 0.05))"
   ]
  },
  {
   "cell_type": "markdown",
   "id": "1c876829",
   "metadata": {},
   "source": [
    "* Интервал не включает 0. Это говорит о том что медианы скорее всего отличаются."
   ]
  },
  {
   "cell_type": "markdown",
   "id": "35ef9208",
   "metadata": {},
   "source": [
    "### b) проверка гипотезы о равенстве распределений с помощью одного из подходящих непараметрических критериев проверки равенства средних\n",
    "\n",
    "Воспользуемся ранговым критерием **Манна-Уитни**:\n",
    "\n",
    "\n",
    "$H_0\\colon F_{X_1}(x) = F_{X_2}(x)$\n",
    "\n",
    "$H_1\\colon F_{X_1}(x) = F_{X_2}(x + \\Delta), \\Delta\\neq 0$\n",
    "\n",
    "\n",
    "$H_0$ : выборки имеют одинаковые распределения и средние не отличаются \n",
    "\n",
    "$H_1$ : Если справедлива альтернативная гипотеза и между распределениями действительно есть сдвиг, то средние значения признаков в выборках будут различаться."
   ]
  },
  {
   "cell_type": "code",
   "execution_count": 434,
   "id": "29159dab",
   "metadata": {},
   "outputs": [
    {
     "name": "stdout",
     "output_type": "stream",
     "text": [
      "Уровень значимости p =  1.2255485818223303e-189\n"
     ]
    }
   ],
   "source": [
    "print('Уровень значимости p = ', stats.mannwhitneyu(bal_0, bal_1)[1])"
   ]
  },
  {
   "cell_type": "markdown",
   "id": "97a16391",
   "metadata": {},
   "source": [
    "* Значение меньше порога 0.05 и нулевая гипотеза отвергается\n",
    "\n",
    "Также воспользуемся **перестановочным критерием** \n",
    "$H_0\\colon F_{X_1}(x) = F_{X_2}(x)$\n",
    "\n",
    "$H_1\\colon F_{X_1}(x) = F_{X_2}(x + \\Delta), \\Delta\\neq 0$\n",
    "\n",
    "\n",
    "$H_0$ : выборки имеют одинаковые распределения и средние не отличаются \n",
    "\n",
    "$H_1$ : Если справедлива альтернативная гипотеза и между распределениями действительно есть сдвиг, то средние значения признаков в выборках будут различаться."
   ]
  },
  {
   "cell_type": "code",
   "execution_count": 435,
   "id": "a006ba86",
   "metadata": {},
   "outputs": [],
   "source": [
    "def permutation_t_stat_ind(sample1, sample2):\n",
    "    return np.mean(sample1) - np.mean(sample2)\n",
    "\n",
    "\n",
    "\n",
    "def get_random_combinations(n1, n2, max_combinations):\n",
    "    index = list(range(n1 + n2))\n",
    "    indices = set([tuple(index)])\n",
    "    for i in range(max_combinations - 1):\n",
    "        np.random.shuffle(index)\n",
    "        indices.add(tuple(index))\n",
    "    return [(index[:n1], index[n1:]) for index in indices]\n",
    "\n",
    "\n",
    "def permutation_zero_dist_ind(sample1, sample2, max_combinations = None):\n",
    "    joined_sample = np.hstack((sample1, sample2))\n",
    "    n1 = len(sample1)\n",
    "    n = len(joined_sample)\n",
    "    \n",
    "    if max_combinations:\n",
    "        indices = get_random_combinations(n1, len(sample2), max_combinations)\n",
    "    else:\n",
    "        indices = [(list(index), filter(lambda i: i not in index, range(n))) \\\n",
    "                    for index in itertools.combinations(range(n), n1)]\n",
    "    \n",
    "    distr = [joined_sample[list(i[0])].mean() - joined_sample[list(i[1])].mean() \\\n",
    "             for i in indices]\n",
    "    return distr\n",
    "\n",
    "def permutation_test(sample, mean, max_permutations = None, alternative = 'two-sided'):\n",
    "    if alternative not in ('two-sided', 'less', 'greater'):\n",
    "        raise ValueError(\"alternative not recognized\\n\"\n",
    "                         \"should be 'two-sided', 'less' or 'greater'\")\n",
    "    \n",
    "    t_stat = permutation_t_stat_ind(sample, mean)\n",
    "    \n",
    "    zero_distr = permutation_zero_dist_ind(sample, mean, max_permutations)\n",
    "    \n",
    "    if alternative == 'two-sided':\n",
    "        return sum([1. if abs(x) >= abs(t_stat) else 0. for x in zero_distr]) / len(zero_distr)\n",
    "    \n",
    "    if alternative == 'less':\n",
    "        return sum([1. if x <= t_stat else 0. for x in zero_distr]) / len(zero_distr)\n",
    "\n",
    "    if alternative == 'greater':\n",
    "        return sum([1. if x >= t_stat else 0. for x in zero_distr]) / len(zero_distr)"
   ]
  },
  {
   "cell_type": "code",
   "execution_count": 436,
   "id": "9cdf7d66",
   "metadata": {},
   "outputs": [
    {
     "name": "stdout",
     "output_type": "stream",
     "text": [
      "Уровень значимости p =  0.0001\n"
     ]
    }
   ],
   "source": [
    "print( 'Уровень значимости p = ', permutation_test(bal_0, bal_1, max_permutations = 10000))\n"
   ]
  },
  {
   "cell_type": "markdown",
   "id": "20160390",
   "metadata": {},
   "source": [
    "* Значение меньше порога 0.05 и нулевая гипотеза отвергается\n",
    "\n",
    "\n",
    "**Практическая значимость**  В целом можно сделать вывод, что размер кредитного лимита меньше у клиентов с индикатором невозврата средств = 1. Из этого не следует что чем больше кредитный лимит тем больше вероятность возврата кредита. Из здравого смысла можно предположить, что кредитный лимит может уменьшаться(или не увеличивается в будущем), если клиент помечается флагом default=1"
   ]
  },
  {
   "cell_type": "markdown",
   "id": "439cca6e",
   "metadata": {},
   "source": [
    "## 2 . Пол клиента (1 = мужской, 2 = женский ) SEX\n",
    "### Визуализация\n",
    "\n"
   ]
  },
  {
   "cell_type": "code",
   "execution_count": 437,
   "id": "e1d4cd31",
   "metadata": {},
   "outputs": [
    {
     "data": {
      "image/png": "[encoded data removed]",
      "text/plain": [
       "<Figure size 432x288 with 1 Axes>"
      ]
     },
     "metadata": {
      "needs_background": "light"
     },
     "output_type": "display_data"
    }
   ],
   "source": [
    "plt.bar(df[df['default']==0].SEX.value_counts().sort_index().index, \n",
    "        np.array(df[df['default']==0].SEX.value_counts().sort_index()),\n",
    "       label = 'default=0',width=0.25 , color = 'g')\n",
    "plt.bar(df[df['default']==1].SEX.value_counts().sort_index().index + 0.25, \n",
    "        np.array(df[df['default']==1].SEX.value_counts().sort_index()),\n",
    "       label='default=1', width=0.25, color = 'b')\n",
    "plt.xticks(df[df['default']==0].SEX.value_counts().sort_index().index, ['Men', 'Women'])\n",
    "plt.xlabel(\"Groups\")\n",
    "\n",
    "plt.legend()\n",
    "plt.show()\n",
    "\n"
   ]
  },
  {
   "cell_type": "code",
   "execution_count": 438,
   "id": "93782248",
   "metadata": {},
   "outputs": [
    {
     "data": {
      "text/plain": [
       "2    18112\n",
       "1    11888\n",
       "Name: SEX, dtype: int64"
      ]
     },
     "execution_count": 438,
     "metadata": {},
     "output_type": "execute_result"
    }
   ],
   "source": [
    "df.SEX.value_counts()"
   ]
  },
  {
   "cell_type": "markdown",
   "id": "844970e4",
   "metadata": {},
   "source": [
    "### Интерпретация графиков\n",
    "* В данных клиентов мужского пола меньше чем женского\n",
    "\n",
    "\n",
    "* Доля не вернувших больше среди мужчин.\n",
    "\n"
   ]
  },
  {
   "cell_type": "markdown",
   "id": "4258ca66",
   "metadata": {},
   "source": [
    "### Проверка гипотезы о том,  что гендерный состав  группы людей вернувших и не вернувших кредит отличается. \n",
    "\n",
    "\n",
    "Найдем доверительные интервалы для долей по отдельности"
   ]
  },
  {
   "cell_type": "code",
   "execution_count": 439,
   "id": "83323078",
   "metadata": {},
   "outputs": [
    {
     "name": "stdout",
     "output_type": "stream",
     "text": [
      "interval for proportion male/female for default=0 [0.607890, 0.620373]\n",
      "interval for proportion male/female for default=1 [0.555102, 0.578938]\n"
     ]
    }
   ],
   "source": [
    "sex_0 = np.array(df[df['default']==0].SEX) - 1\n",
    "sex_1 = np.array(df[df['default']==1].SEX) - 1\n",
    "conf_interval_sex_0 = proportion_confint(sum(sex_0), \n",
    "                                            len(sex_0),\n",
    "                                            method = 'wilson')\n",
    "\n",
    "conf_interval_sex_1 = proportion_confint(sum(sex_1), \n",
    "                                            len(sex_1),\n",
    "                                            method = 'wilson')\n",
    "                                            \n",
    "                                            \n",
    "print('interval for proportion male/female for default=0 [%f, %f]' % conf_interval_sex_0)\n",
    "print('interval for proportion male/female for default=1 [%f, %f]' % conf_interval_sex_1)"
   ]
  },
  {
   "cell_type": "markdown",
   "id": "81915c19",
   "metadata": {},
   "source": [
    "* Доверительные интервалы не пересекаются а значит доли могут отличаться\n",
    "\n",
    " \n",
    " Также найдем доверительный интервал для разности долей\n",
    " \n",
    " \n",
    " $H_0: p_1 = p_2$ различий между долями нет\n",
    " \n",
    " \n",
    " $H_1: p_1 != p_2$ доли отличаются"
   ]
  },
  {
   "cell_type": "code",
   "execution_count": 440,
   "id": "412b87f8",
   "metadata": {},
   "outputs": [],
   "source": [
    "def proportions_confint_diff_ind(sample1, sample2, alpha = 0.05):    \n",
    "    z = scipy.stats.norm.ppf(1 - alpha / 2.)   \n",
    "    p1 = float(sum(sample1)) / len(sample1)\n",
    "    p2 = float(sum(sample2)) / len(sample2)\n",
    "    \n",
    "    left_boundary = (p1 - p2) - z * np.sqrt(p1 * (1 - p1)/ len(sample1) + p2 * (1 - p2)/ len(sample2))\n",
    "    right_boundary = (p1 - p2) + z * np.sqrt(p1 * (1 - p1)/ len(sample1) + p2 * (1 - p2)/ len(sample2))\n",
    "    \n",
    "    return (left_boundary, right_boundary)"
   ]
  },
  {
   "cell_type": "code",
   "execution_count": 441,
   "id": "f9de9a91",
   "metadata": {},
   "outputs": [
    {
     "name": "stdout",
     "output_type": "stream",
     "text": [
      "confidence interval: [0.033635, 0.060548]\n"
     ]
    }
   ],
   "source": [
    "print(\"confidence interval: [%f, %f]\" % proportions_confint_diff_ind(sex_0, sex_1))"
   ]
  },
  {
   "cell_type": "code",
   "execution_count": 442,
   "id": "a286b347",
   "metadata": {},
   "outputs": [],
   "source": [
    "def proportions_diff_z_test(sample1, sample2, alternative = 'two-sided'):\n",
    "    n1 = len(sample1)\n",
    "    n2 = len(sample2)\n",
    "    \n",
    "    p1 = float(sum(sample1)) / n1\n",
    "    p2 = float(sum(sample2)) / n2 \n",
    "    P = float(p1*n1 + p2*n2) / (n1 + n2)\n",
    "    z_stat = (p1 - p2) / np.sqrt(P * (1 - P) * (1. / n1 + 1. / n2))\n",
    "    \n",
    "    if alternative not in ('two-sided', 'less', 'greater'):\n",
    "        raise ValueError(\"alternative not recognized\\n\"\n",
    "                         \"should be 'two-sided', 'less' or 'greater'\")\n",
    "    \n",
    "    if alternative == 'two-sided':\n",
    "        p_value =  2 * (1 - scipy.stats.norm.cdf(np.abs(z_stat)))\n",
    "    \n",
    "    if alternative == 'less':\n",
    "        p_value = scipy.stats.norm.cdf(z_stat)\n",
    "\n",
    "    if alternative == 'greater':\n",
    "        p_value = 1 - scipy.stats.norm.cdf(z_stat)\n",
    "    \n",
    "    return \"{:e}\".format(p_value)"
   ]
  },
  {
   "cell_type": "code",
   "execution_count": 443,
   "id": "6e088b00",
   "metadata": {},
   "outputs": [
    {
     "name": "stdout",
     "output_type": "stream",
     "text": [
      "p-value:  4.472867e-12\n"
     ]
    }
   ],
   "source": [
    "print(\"p-value: \", proportions_diff_z_test(sex_0, sex_1))"
   ]
  },
  {
   "cell_type": "markdown",
   "id": "2c66ff77",
   "metadata": {},
   "source": [
    "* В интервал не входит 0, а значит доли невозврата отличаются в зависимости от пола\n",
    "\n",
    "\n",
    "* Уровень значимости значительно ниже порога 0.05"
   ]
  },
  {
   "cell_type": "markdown",
   "id": "dffb9981",
   "metadata": {},
   "source": [
    "## 3 . Образование EDUCATION\n",
    "### Визуализация"
   ]
  },
  {
   "cell_type": "code",
   "execution_count": 444,
   "id": "af6000e8",
   "metadata": {},
   "outputs": [
    {
     "data": {
      "image/png": "[encoded data removed]",
      "text/plain": [
       "<Figure size 432x288 with 1 Axes>"
      ]
     },
     "metadata": {
      "needs_background": "light"
     },
     "output_type": "display_data"
    }
   ],
   "source": [
    "plt.bar(df[df['default']==0].EDUCATION.value_counts().sort_index().index, \n",
    "        np.array(df[df['default']==0].EDUCATION.value_counts().sort_index()),\n",
    "       label = 'default=0', width=0.25, color = 'g' )\n",
    "plt.bar(df[df['default']==1].EDUCATION.value_counts().sort_index().index+0.25, \n",
    "        np.array(df[df['default']==1].EDUCATION.value_counts().sort_index()),\n",
    "       label='default=1', width=0.25, color = 'b')\n",
    "plt.xticks(df[df['default']==0].EDUCATION.value_counts().sort_index().index, \n",
    "           ['доктор', 'магистр', 'бакалавр','выпускник школы',\n",
    "            'начальное образование', 'прочее','нет данных'], rotation = 90)\n",
    "plt.xlabel(\"Groups\")\n",
    "\n",
    "plt.legend()\n",
    "plt.show()"
   ]
  },
  {
   "cell_type": "markdown",
   "id": "dec5d3a4",
   "metadata": {},
   "source": [
    "### Таблица сопряженности"
   ]
  },
  {
   "cell_type": "code",
   "execution_count": 445,
   "id": "392d35af",
   "metadata": {},
   "outputs": [
    {
     "data": {
      "text/html": [
       "<div>\n",
       "<style scoped>\n",
       "    .dataframe tbody tr th:only-of-type {\n",
       "        vertical-align: middle;\n",
       "    }\n",
       "\n",
       "    .dataframe tbody tr th {\n",
       "        vertical-align: top;\n",
       "    }\n",
       "\n",
       "    .dataframe thead th {\n",
       "        text-align: right;\n",
       "    }\n",
       "</style>\n",
       "<table border=\"1\" class=\"dataframe\">\n",
       "  <thead>\n",
       "    <tr style=\"text-align: right;\">\n",
       "      <th></th>\n",
       "      <th>0</th>\n",
       "      <th>1</th>\n",
       "      <th>sum</th>\n",
       "    </tr>\n",
       "  </thead>\n",
       "  <tbody>\n",
       "    <tr>\n",
       "      <th>доктор</th>\n",
       "      <td>14</td>\n",
       "      <td>0</td>\n",
       "      <td>14</td>\n",
       "    </tr>\n",
       "    <tr>\n",
       "      <th>магистр</th>\n",
       "      <td>8549</td>\n",
       "      <td>2036</td>\n",
       "      <td>10585</td>\n",
       "    </tr>\n",
       "    <tr>\n",
       "      <th>бакалавр</th>\n",
       "      <td>10700</td>\n",
       "      <td>3330</td>\n",
       "      <td>14030</td>\n",
       "    </tr>\n",
       "    <tr>\n",
       "      <th>выпускник школы</th>\n",
       "      <td>3680</td>\n",
       "      <td>1237</td>\n",
       "      <td>4917</td>\n",
       "    </tr>\n",
       "    <tr>\n",
       "      <th>начальное образование</th>\n",
       "      <td>116</td>\n",
       "      <td>7</td>\n",
       "      <td>123</td>\n",
       "    </tr>\n",
       "    <tr>\n",
       "      <th>прочее</th>\n",
       "      <td>262</td>\n",
       "      <td>18</td>\n",
       "      <td>280</td>\n",
       "    </tr>\n",
       "    <tr>\n",
       "      <th>нет данных</th>\n",
       "      <td>43</td>\n",
       "      <td>8</td>\n",
       "      <td>51</td>\n",
       "    </tr>\n",
       "    <tr>\n",
       "      <th>sum</th>\n",
       "      <td>23364</td>\n",
       "      <td>6636</td>\n",
       "      <td>30000</td>\n",
       "    </tr>\n",
       "  </tbody>\n",
       "</table>\n",
       "</div>"
      ],
      "text/plain": [
       "                           0     1    sum\n",
       "доктор                    14     0     14\n",
       "магистр                 8549  2036  10585\n",
       "бакалавр               10700  3330  14030\n",
       "выпускник школы         3680  1237   4917\n",
       "начальное образование    116     7    123\n",
       "прочее                   262    18    280\n",
       "нет данных                43     8     51\n",
       "sum                    23364  6636  30000"
      ]
     },
     "execution_count": 445,
     "metadata": {},
     "output_type": "execute_result"
    }
   ],
   "source": [
    "edu_crosstab = pd.crosstab(df['EDUCATION'], df['default']).reset_index(drop=True)\n",
    "edu_crosstab['sum'] = edu_crosstab.sum(axis=1)\n",
    "tot_row= edu_crosstab.sum().values.reshape(-1)\n",
    "tot_rd = {0: tot_row[0], 1:tot_row[1], 'sum':tot_row[2]}\n",
    "edu_crosstab = pd.concat([edu_crosstab, pd.DataFrame(tot_rd, index=[7])])\n",
    "edu_crosstab = edu_crosstab.rename(index={0: 'доктор', 1: 'магистр', 2: 'бакалавр', 3:'выпускник школы',\n",
    "                          4: 'начальное образование', 5: 'прочее', 6: 'нет данных', 7: 'sum'});\n",
    "edu_crosstab"
   ]
  },
  {
   "cell_type": "markdown",
   "id": "8181924c",
   "metadata": {},
   "source": [
    "### Доли не вернувших по категориям"
   ]
  },
  {
   "cell_type": "code",
   "execution_count": 447,
   "id": "5d895493",
   "metadata": {},
   "outputs": [
    {
     "data": {
      "text/html": [
       "<div>\n",
       "<style scoped>\n",
       "    .dataframe tbody tr th:only-of-type {\n",
       "        vertical-align: middle;\n",
       "    }\n",
       "\n",
       "    .dataframe tbody tr th {\n",
       "        vertical-align: top;\n",
       "    }\n",
       "\n",
       "    .dataframe thead th {\n",
       "        text-align: right;\n",
       "    }\n",
       "</style>\n",
       "<table border=\"1\" class=\"dataframe\">\n",
       "  <thead>\n",
       "    <tr style=\"text-align: right;\">\n",
       "      <th></th>\n",
       "      <th>0</th>\n",
       "      <th>1</th>\n",
       "    </tr>\n",
       "  </thead>\n",
       "  <tbody>\n",
       "    <tr>\n",
       "      <th>доктор</th>\n",
       "      <td>1.000000</td>\n",
       "      <td>0.000000</td>\n",
       "    </tr>\n",
       "    <tr>\n",
       "      <th>магистр</th>\n",
       "      <td>0.807652</td>\n",
       "      <td>0.192348</td>\n",
       "    </tr>\n",
       "    <tr>\n",
       "      <th>бакалавр</th>\n",
       "      <td>0.762651</td>\n",
       "      <td>0.237349</td>\n",
       "    </tr>\n",
       "    <tr>\n",
       "      <th>выпускник школы</th>\n",
       "      <td>0.748424</td>\n",
       "      <td>0.251576</td>\n",
       "    </tr>\n",
       "    <tr>\n",
       "      <th>начальное образование</th>\n",
       "      <td>0.943089</td>\n",
       "      <td>0.056911</td>\n",
       "    </tr>\n",
       "    <tr>\n",
       "      <th>прочее</th>\n",
       "      <td>0.935714</td>\n",
       "      <td>0.064286</td>\n",
       "    </tr>\n",
       "    <tr>\n",
       "      <th>нет данных</th>\n",
       "      <td>0.843137</td>\n",
       "      <td>0.156863</td>\n",
       "    </tr>\n",
       "  </tbody>\n",
       "</table>\n",
       "</div>"
      ],
      "text/plain": [
       "                              0         1\n",
       "доктор                 1.000000  0.000000\n",
       "магистр                0.807652  0.192348\n",
       "бакалавр               0.762651  0.237349\n",
       "выпускник школы        0.748424  0.251576\n",
       "начальное образование  0.943089  0.056911\n",
       "прочее                 0.935714  0.064286\n",
       "нет данных             0.843137  0.156863"
      ]
     },
     "execution_count": 447,
     "metadata": {},
     "output_type": "execute_result"
    }
   ],
   "source": [
    "edu_crosstab.loc[:, [0,1]].div(edu_crosstab[\"sum\"], axis=0)[:-1]"
   ]
  },
  {
   "cell_type": "markdown",
   "id": "e22aaa79",
   "metadata": {},
   "source": [
    "### Интерпретация графиков\n",
    "* Основную часть кредитов выдают людям со средним образованием, бакалаврам и магистрам.\n",
    "Остальные категории относительно не значительны\n",
    "\n",
    "\n",
    "* Среди 3х самых многочисленных категорий можно сказать что процент возврата больше у магистров (80%) \n",
    "против бакалавров и выпускников школ (76% и 74%)\n"
   ]
  },
  {
   "cell_type": "markdown",
   "id": "990ebd7c",
   "metadata": {},
   "source": [
    "### Проверка гипотезы о том, что образование не влияет на то, вернет ли человек долг\n",
    "\n",
    "\n",
    "Воспользуемся критерием $\\chi^2$ для категориальных признаков\n",
    "Наши данные отвечают критерию n ≥ 40. Кроме того, необходимо, чтобы ожидаемое количество элементов в каждой ячейке таблицы было меньше 5 ($(n.i\\+ n_(+j))/n < 5$) не более, чем в 20% ячеек. (в таблице сопряженности таких ячеек нет)\n",
    "\n",
    "\n",
    "\n",
    "$H_0$ : Уровень образования не влияет на целевую переменную возврата долга\n",
    "\n",
    "\n",
    "$H_1$ : Влияет\n",
    "\n",
    "\n",
    "\n",
    "Также посчитаем коэффициент V Крамера с помощью $\\chi^2$ статистики.\n",
    "Можно считать, что для категориальных признаков критерий $\\chi^2$ проверяет гипотезу о равенстве нулю коэффициента V Крамера против альтернативы, что он нулю не равен\n"
   ]
  },
  {
   "cell_type": "code",
   "execution_count": 448,
   "id": "a2aaa2b5",
   "metadata": {},
   "outputs": [],
   "source": [
    "m = np.array(pd.crosstab(df['EDUCATION'], df['default']))\n",
    "n = m.sum()\n",
    "chi2, p, dof, ex = stats.chi2_contingency(m)\n",
    "cramer = math.sqrt(chi2/(n*(min(7,2) - 1)))"
   ]
  },
  {
   "cell_type": "code",
   "execution_count": 449,
   "id": "43c9456e",
   "metadata": {},
   "outputs": [
    {
     "name": "stdout",
     "output_type": "stream",
     "text": [
      "Chi_2 статистика: 163.21655786997073 \n",
      "Достигаемый уровень значимости: 1.2332626245415605e-32 \n",
      "Коэффициент V Крамера: 0.07376009713252163\n"
     ]
    }
   ],
   "source": [
    "print(f'Chi_2 статистика: {chi2} \\nДостигаемый уровень значимости: {p} \\nКоэффициент V Крамера: {cramer}')"
   ]
  },
  {
   "cell_type": "markdown",
   "id": "cb6ddb85",
   "metadata": {},
   "source": [
    "* р меньше порога 0.05. Нулевая гипотеза отвергается. Уровень образования влияет на возврат долга\n",
    "\n",
    "\n",
    "* Коэффициента Крамера меняется от 0 до 1. Он не принимает значение 0, что говорит о зависимости возврата долга от образования"
   ]
  },
  {
   "cell_type": "markdown",
   "id": "043da42d",
   "metadata": {},
   "source": [
    "## 4. Семейное положение (MARRIAGE)\n",
    "### Визуализация"
   ]
  },
  {
   "cell_type": "code",
   "execution_count": 450,
   "id": "2d8224be",
   "metadata": {},
   "outputs": [
    {
     "data": {
      "image/png": "[encoded data removed]",
      "text/plain": [
       "<Figure size 432x288 with 1 Axes>"
      ]
     },
     "metadata": {
      "needs_background": "light"
     },
     "output_type": "display_data"
    }
   ],
   "source": [
    "ax = plt.subplot(111)\n",
    "ax.bar(df[df['default']==0].MARRIAGE.value_counts().sort_index().index, \n",
    "        np.array(df[df['default']==0].MARRIAGE.value_counts().sort_index()),\n",
    "       label = 'default=0', width=0.25, color = 'g')\n",
    "ax.bar(df[df['default']==1].MARRIAGE.value_counts().sort_index().index+0.25, \n",
    "        np.array(df[df['default']==1].MARRIAGE.value_counts().sort_index()),\n",
    "       label='default=1', width=0.25, color = 'b')\n",
    "plt.xticks(df.MARRIAGE.value_counts().sort_index().index, \n",
    "           ['отказываюсь отвечать','замужем/женат', 'холост','нет данных'], rotation = 90)\n",
    "plt.xlabel(\"Groups\")\n",
    "\n",
    "ax.legend()\n",
    "plt.show()"
   ]
  },
  {
   "cell_type": "markdown",
   "id": "61ac8b83",
   "metadata": {},
   "source": [
    "### Интерпретация графиков\n",
    "* Основную часть кредитов выдают людям с семейным положением замужем/женат и холост. \n",
    "У незначительного числа заемщиков данные о семейном положении или отсутствуют или клиент отказался отвечать\n",
    "\n",
    "\n",
    "* о разнице доли возвратов/невозвратов по категориям визуально сказать трудно\n",
    "\n"
   ]
  },
  {
   "cell_type": "markdown",
   "id": "44a79092",
   "metadata": {},
   "source": [
    "### Проверка, как связан семейный статус с индикатором дефолта\n",
    "\n",
    "#### Таблица сопряженности"
   ]
  },
  {
   "cell_type": "code",
   "execution_count": 451,
   "id": "1277cf67",
   "metadata": {},
   "outputs": [],
   "source": [
    "marriage_crosstab = pd.crosstab(df['MARRIAGE'], df['default'])\n",
    "marriage_crosstab['sum'] = marriage_crosstab.sum(axis=1)\n",
    "marriage_crosstab.reset_index(inplace=True, drop=True)\n",
    "tot_row = marriage_crosstab.sum().values.reshape(-1)\n",
    "tot_rd = {0: tot_row[0], 1:tot_row[1], 'sum':tot_row[2]}\n",
    "marriage_crosstab = pd.concat([marriage_crosstab, pd.DataFrame(tot_rd, index=[4])])\n",
    "marriage_crosstab = marriage_crosstab.rename(index={0: 'отказываюсь отвечать', 1: 'замужем/женат', \n",
    "                                                    2: 'холост', 3:'нет данных',\n",
    "                                                   4: 'sum'});"
   ]
  },
  {
   "cell_type": "code",
   "execution_count": 452,
   "id": "ec5740c2",
   "metadata": {},
   "outputs": [
    {
     "data": {
      "text/html": [
       "<div>\n",
       "<style scoped>\n",
       "    .dataframe tbody tr th:only-of-type {\n",
       "        vertical-align: middle;\n",
       "    }\n",
       "\n",
       "    .dataframe tbody tr th {\n",
       "        vertical-align: top;\n",
       "    }\n",
       "\n",
       "    .dataframe thead th {\n",
       "        text-align: right;\n",
       "    }\n",
       "</style>\n",
       "<table border=\"1\" class=\"dataframe\">\n",
       "  <thead>\n",
       "    <tr style=\"text-align: right;\">\n",
       "      <th></th>\n",
       "      <th>0</th>\n",
       "      <th>1</th>\n",
       "    </tr>\n",
       "  </thead>\n",
       "  <tbody>\n",
       "    <tr>\n",
       "      <th>отказываюсь отвечать</th>\n",
       "      <td>0.907407</td>\n",
       "      <td>0.092593</td>\n",
       "    </tr>\n",
       "    <tr>\n",
       "      <th>замужем/женат</th>\n",
       "      <td>0.765283</td>\n",
       "      <td>0.234717</td>\n",
       "    </tr>\n",
       "    <tr>\n",
       "      <th>холост</th>\n",
       "      <td>0.790717</td>\n",
       "      <td>0.209283</td>\n",
       "    </tr>\n",
       "    <tr>\n",
       "      <th>нет данных</th>\n",
       "      <td>0.739938</td>\n",
       "      <td>0.260062</td>\n",
       "    </tr>\n",
       "  </tbody>\n",
       "</table>\n",
       "</div>"
      ],
      "text/plain": [
       "                             0         1\n",
       "отказываюсь отвечать  0.907407  0.092593\n",
       "замужем/женат         0.765283  0.234717\n",
       "холост                0.790717  0.209283\n",
       "нет данных            0.739938  0.260062"
      ]
     },
     "execution_count": 452,
     "metadata": {},
     "output_type": "execute_result"
    }
   ],
   "source": [
    "marriage_crosstab.loc[:, [0,1]].div(marriage_crosstab[\"sum\"], axis=0)[:-1]\n"
   ]
  },
  {
   "cell_type": "code",
   "execution_count": 453,
   "id": "cfd49f2c",
   "metadata": {},
   "outputs": [
    {
     "data": {
      "text/html": [
       "<div>\n",
       "<style scoped>\n",
       "    .dataframe tbody tr th:only-of-type {\n",
       "        vertical-align: middle;\n",
       "    }\n",
       "\n",
       "    .dataframe tbody tr th {\n",
       "        vertical-align: top;\n",
       "    }\n",
       "\n",
       "    .dataframe thead th {\n",
       "        text-align: right;\n",
       "    }\n",
       "</style>\n",
       "<table border=\"1\" class=\"dataframe\">\n",
       "  <thead>\n",
       "    <tr style=\"text-align: right;\">\n",
       "      <th></th>\n",
       "      <th>0</th>\n",
       "      <th>1</th>\n",
       "      <th>sum</th>\n",
       "    </tr>\n",
       "  </thead>\n",
       "  <tbody>\n",
       "    <tr>\n",
       "      <th>отказываюсь отвечать</th>\n",
       "      <td>49</td>\n",
       "      <td>5</td>\n",
       "      <td>54</td>\n",
       "    </tr>\n",
       "    <tr>\n",
       "      <th>замужем/женат</th>\n",
       "      <td>10453</td>\n",
       "      <td>3206</td>\n",
       "      <td>13659</td>\n",
       "    </tr>\n",
       "    <tr>\n",
       "      <th>холост</th>\n",
       "      <td>12623</td>\n",
       "      <td>3341</td>\n",
       "      <td>15964</td>\n",
       "    </tr>\n",
       "    <tr>\n",
       "      <th>нет данных</th>\n",
       "      <td>239</td>\n",
       "      <td>84</td>\n",
       "      <td>323</td>\n",
       "    </tr>\n",
       "    <tr>\n",
       "      <th>sum</th>\n",
       "      <td>23364</td>\n",
       "      <td>6636</td>\n",
       "      <td>30000</td>\n",
       "    </tr>\n",
       "  </tbody>\n",
       "</table>\n",
       "</div>"
      ],
      "text/plain": [
       "                          0     1    sum\n",
       "отказываюсь отвечать     49     5     54\n",
       "замужем/женат         10453  3206  13659\n",
       "холост                12623  3341  15964\n",
       "нет данных              239    84    323\n",
       "sum                   23364  6636  30000"
      ]
     },
     "execution_count": 453,
     "metadata": {},
     "output_type": "execute_result"
    }
   ],
   "source": [
    "marriage_crosstab"
   ]
  },
  {
   "cell_type": "markdown",
   "id": "7b0282a8",
   "metadata": {},
   "source": [
    "\n",
    "Воспользуемся критерием $\\chi^2$ для категориальных признаков\n",
    "Все условия описанные ранее также выполняются по категории семейного положения\n",
    "\n",
    "\n",
    "\n",
    "$H_0$ : Семейное не влияет на целевую переменную возврата долга\n",
    "\n",
    "\n",
    "$H_1$ : Влияет\n",
    "\n",
    "\n",
    "\n",
    "Также посчитаем коэффициент V Крамера с помощью $\\chi^2$ статистики.\n",
    "Можно считать, что для категориальных признаков критерий $\\chi^2$ проверяет гипотезу о равенстве нулю коэффициента V Крамера против альтернативы, что он нулю не равен\n",
    "\n"
   ]
  },
  {
   "cell_type": "code",
   "execution_count": 454,
   "id": "306542af",
   "metadata": {},
   "outputs": [
    {
     "name": "stdout",
     "output_type": "stream",
     "text": [
      "Chi_2 статистика: 35.66239583433609 \n",
      "Достигаемый уровень значимости: 8.825862457577375e-08 \n",
      "Коэффициент V Крамера: 0.034478203662766466\n"
     ]
    }
   ],
   "source": [
    "m = np.array(pd.crosstab(df['MARRIAGE'], df['default']))\n",
    "n = m.sum()\n",
    "chi2, p, dof, ex = stats.chi2_contingency(m)\n",
    "cramer = math.sqrt(chi2/(n*(min(7,2) - 1)))\n",
    "print(f'Chi_2 статистика: {chi2} \\nДостигаемый уровень значимости: {p} \\nКоэффициент V Крамера: {cramer}')"
   ]
  },
  {
   "cell_type": "markdown",
   "id": "d19ce6af",
   "metadata": {},
   "source": [
    "* р меньше порога 0.05. Нулевая гипотеза отвергается. Семейное положение влияет на возврат долга\n",
    "\n",
    "\n",
    "* Коэффициента Крамера меняется от 0 до 1. Он не принимает значение 0, что говорит о зависимости возврата долга от семейного положения"
   ]
  },
  {
   "cell_type": "markdown",
   "id": "a214fa10",
   "metadata": {},
   "source": [
    "## 5. Возраст AGE\n",
    "### Визуализация"
   ]
  },
  {
   "cell_type": "code",
   "execution_count": 455,
   "id": "d5323bec",
   "metadata": {},
   "outputs": [],
   "source": [
    "age_0 = df[df['default']==0]['AGE']\n",
    "age_1 = df[df['default']==1]['AGE']"
   ]
  },
  {
   "cell_type": "code",
   "execution_count": 456,
   "id": "70b719b8",
   "metadata": {},
   "outputs": [
    {
     "data": {
      "image/png": "[encoded data removed]",
      "text/plain": [
       "<Figure size 864x720 with 4 Axes>"
      ]
     },
     "metadata": {
      "needs_background": "light"
     },
     "output_type": "display_data"
    }
   ],
   "source": [
    "%matplotlib inline\n",
    "fig, axs = plt.subplots(2, 2,figsize=(12,10))\n",
    "\n",
    "axs[0, 0].hist(age_0, color = 'g')\n",
    "axs[0, 0].set_title('default=0')\n",
    "\n",
    "\n",
    "axs[0, 1].hist(age_1, color = 'b')\n",
    "axs[0, 1].set_title('default=1')\n",
    "\n",
    "axs[1, 0].boxplot([age_0, age_1])\n",
    "axs[1, 0].set_xticklabels(['default=0', 'default=1'])\n",
    "\n",
    "axs[1, 1].hist(df['AGE'], color = 'y')\n",
    "axs[1, 1].set_title('Общее распределение')\n",
    "\n",
    "plt.show()"
   ]
  },
  {
   "cell_type": "markdown",
   "id": "98444f11",
   "metadata": {},
   "source": [
    "### Интерпретация графиков\n",
    "* Распределение признака скошенно с тяжелым правым хвостом и не является нормальным.\n",
    "\n",
    "\n",
    "* На графиках ящиков с усами визуально видно, что медианы AGE не отличаются в зависимости от значения целевой переменной.\n",
    "\n",
    "\n",
    "* В зависимости от целевого признака распределения визуально немного отличаются, но это различие скорее связано с тем что данных с целевым признаком равным 1 намного меньше \n",
    "\n"
   ]
  },
  {
   "cell_type": "markdown",
   "id": "2a2e9de6",
   "metadata": {},
   "source": [
    " ### a) о равенстве медианных значений возрастов людей"
   ]
  },
  {
   "cell_type": "markdown",
   "id": "59b142f3",
   "metadata": {},
   "source": [
    "#### Точечная оценка разности медиан"
   ]
  },
  {
   "cell_type": "code",
   "execution_count": 457,
   "id": "0828cca7",
   "metadata": {},
   "outputs": [
    {
     "name": "stdout",
     "output_type": "stream",
     "text": [
      "Медиана признака по всему датасету  34.0\n",
      "Медиана при default=0: 34.0 и при default=0: 34.0. Разность: 0.0\n"
     ]
    }
   ],
   "source": [
    "print('Медиана признака по всему датасету ', np.median(df['AGE']))\n",
    "print(\"Медиана при default=0: {} и при default=0: {}. Разность: {}\".format(np.median(age_0), \n",
    "                                                                           np.median(age_1), \n",
    "                                                                           np.median(age_0) - np.median(age_1)))"
   ]
  },
  {
   "cell_type": "markdown",
   "id": "ff37c801",
   "metadata": {},
   "source": [
    "#### Интервальная оценка разности медиан"
   ]
  },
  {
   "cell_type": "code",
   "execution_count": 459,
   "id": "889237ac",
   "metadata": {},
   "outputs": [
    {
     "name": "stdout",
     "output_type": "stream",
     "text": [
      "95% confidence interval for the difference between medians [-1.  0.]\n"
     ]
    }
   ],
   "source": [
    "np.random.seed(0)\n",
    "\n",
    "age_0_scores = list(map(np.median, get_bootstrap_samples(np.array(age_0), 1000)))\n",
    "age_1_scores = list(map(np.median, get_bootstrap_samples(np.array(age_1), 1000)))\n",
    "\n",
    "delta_median_scores = list(map(lambda x: x[0] - x[1], zip(age_0_scores, age_1_scores)))\n",
    "print(\"95% confidence interval for the difference between medians\",  stat_intervals(delta_median_scores, 0.05))"
   ]
  },
  {
   "cell_type": "markdown",
   "id": "243fcc33",
   "metadata": {},
   "source": [
    "* Интервал включает 0. Это говорит о том что медианы скорее не отличаются.\n",
    "\n"
   ]
  },
  {
   "cell_type": "markdown",
   "id": "895f66d0",
   "metadata": {},
   "source": [
    "### b) о равенстве распределений с помощью одного из подходящих непараметрических критериев проверки равенства средних"
   ]
  },
  {
   "cell_type": "markdown",
   "id": "844aadb0",
   "metadata": {},
   "source": [
    "Воспользуемся ранговым критерием **Манна-Уитни**:\n",
    "\n",
    "\n",
    "$H_0\\colon F_{X_1}(x) = F_{X_2}(x)$\n",
    "\n",
    "$H_1\\colon F_{X_1}(x) = F_{X_2}(x + \\Delta), \\Delta\\neq 0$\n",
    "\n",
    "\n",
    "$H_0$ : выборки имеют одинаковые распределения и средние не отличаются \n",
    "\n",
    "$H_1$ : Если справедлива альтернативная гипотеза и между распределениями действительно есть сдвиг, то средние значения признаков в выборках будут различаться."
   ]
  },
  {
   "cell_type": "code",
   "execution_count": 460,
   "id": "fd6bc4b7",
   "metadata": {},
   "outputs": [
    {
     "data": {
      "text/plain": [
       "0.3725035434898616"
      ]
     },
     "execution_count": 460,
     "metadata": {},
     "output_type": "execute_result"
    }
   ],
   "source": [
    "stats.mannwhitneyu(age_0, age_1)[1]"
   ]
  },
  {
   "cell_type": "markdown",
   "id": "a407df88",
   "metadata": {},
   "source": [
    "* Значение больше порога 0.05 и нулевая гипотеза не отвергается\n",
    "\n",
    "Также воспользуемся **перестановочным критерием** \n",
    "$H_0\\colon F_{X_1}(x) = F_{X_2}(x)$\n",
    "\n",
    "$H_1\\colon F_{X_1}(x) = F_{X_2}(x + \\Delta), \\Delta\\neq 0$\n",
    "\n",
    "\n",
    "$H_0$ : выборки имеют одинаковые распределения и средние не отличаются \n",
    "\n",
    "$H_1$ : Если справедлива альтернативная гипотеза и между распределениями действительно есть сдвиг, то средние значения признаков в выборках будут различаться."
   ]
  },
  {
   "cell_type": "code",
   "execution_count": 461,
   "id": "ec067a38",
   "metadata": {},
   "outputs": [
    {
     "name": "stdout",
     "output_type": "stream",
     "text": [
      "p-value: 0.017700\n"
     ]
    }
   ],
   "source": [
    "print( \"p-value: %f\" % permutation_test(age_0, age_1, max_permutations = 10000))\n",
    "\n"
   ]
  },
  {
   "cell_type": "markdown",
   "id": "0f501433",
   "metadata": {},
   "source": [
    "Значение меньше порога 0.05 и нулевая гипотеза отвергается\n",
    "\n",
    "\n",
    "**Практическая значимость** С помощью интервальных оценок медианного возраста вернувших и не вернувших долг мы можем предположить, что целевая переменная может быть не сильно обусловлена возрастом.\n",
    "С помощью критерия Манна-Уитни мы нашли еще одно подтверждение этого предположения.\n",
    "\n",
    "Однако перестановочный критерий противоречит такому выводу и говорит, что возраст влияет на целевую переменную."
   ]
  },
  {
   "cell_type": "code",
   "execution_count": null,
   "id": "0a3577cc",
   "metadata": {},
   "outputs": [],
   "source": []
  }
 ],
 "metadata": {
  "kernelspec": {
   "display_name": "Python 3 (ipykernel)",
   "language": "python",
   "name": "python3"
  },
  "language_info": {
   "codemirror_mode": {
    "name": "ipython",
    "version": 3
   },
   "file_extension": ".py",
   "mimetype": "text/x-python",
   "name": "python",
   "nbconvert_exporter": "python",
   "pygments_lexer": "ipython3",
   "version": "3.9.7"
  }
 },
 "nbformat": 4,
 "nbformat_minor": 5
}
