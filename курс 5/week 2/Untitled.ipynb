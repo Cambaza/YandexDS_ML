{
 "cells": [
  {
   "cell_type": "code",
   "execution_count": 3,
   "id": "02b3a49b",
   "metadata": {},
   "outputs": [
    {
     "name": "stdout",
     "output_type": "stream",
     "text": [
      "Collecting tf-nightly\n",
      "  Downloading tf_nightly-2.10.0.dev20220509-cp39-cp39-macosx_10_14_x86_64.whl (231.6 MB)\n",
      "\u001b[2K     \u001b[90m━━━━━━━━━━━━━━━━━━━━━━━━━━━━━━━━━━━━━\u001b[0m \u001b[32m231.6/231.6 MB\u001b[0m \u001b[31m976.8 kB/s\u001b[0m eta \u001b[36m0:00:00\u001b[0m00:01\u001b[0m00:08\u001b[0m\n",
      "\u001b[?25hRequirement already satisfied: google-pasta>=0.1.1 in /Users/dashakaravaieva/opt/anaconda3/lib/python3.9/site-packages (from tf-nightly) (0.2.0)\n",
      "Collecting flatbuffers<2,>=1.12\n",
      "  Downloading flatbuffers-1.12-py2.py3-none-any.whl (15 kB)\n",
      "Requirement already satisfied: packaging in /Users/dashakaravaieva/opt/anaconda3/lib/python3.9/site-packages (from tf-nightly) (21.3)\n",
      "Requirement already satisfied: termcolor>=1.1.0 in /Users/dashakaravaieva/opt/anaconda3/lib/python3.9/site-packages (from tf-nightly) (1.1.0)\n",
      "Requirement already satisfied: libclang>=13.0.0 in /Users/dashakaravaieva/opt/anaconda3/lib/python3.9/site-packages (from tf-nightly) (14.0.1)\n",
      "Requirement already satisfied: six>=1.12.0 in /Users/dashakaravaieva/opt/anaconda3/lib/python3.9/site-packages (from tf-nightly) (1.16.0)\n",
      "Requirement already satisfied: grpcio<2.0,>=1.24.3 in /Users/dashakaravaieva/opt/anaconda3/lib/python3.9/site-packages (from tf-nightly) (1.46.0)\n",
      "Requirement already satisfied: typing-extensions>=3.6.6 in /Users/dashakaravaieva/opt/anaconda3/lib/python3.9/site-packages (from tf-nightly) (3.10.0.2)\n",
      "Requirement already satisfied: astunparse>=1.6.0 in /Users/dashakaravaieva/opt/anaconda3/lib/python3.9/site-packages (from tf-nightly) (1.6.3)\n",
      "Requirement already satisfied: keras-preprocessing>=1.1.1 in /Users/dashakaravaieva/opt/anaconda3/lib/python3.9/site-packages (from tf-nightly) (1.1.2)\n",
      "Requirement already satisfied: protobuf>=3.9.2 in /Users/dashakaravaieva/opt/anaconda3/lib/python3.9/site-packages (from tf-nightly) (3.20.1)\n",
      "Requirement already satisfied: tensorflow-io-gcs-filesystem>=0.23.1 in /Users/dashakaravaieva/opt/anaconda3/lib/python3.9/site-packages (from tf-nightly) (0.25.0)\n",
      "Collecting tf-estimator-nightly~=2.10.0.dev\n",
      "  Downloading tf_estimator_nightly-2.10.0.dev2022050908-py2.py3-none-any.whl (438 kB)\n",
      "\u001b[2K     \u001b[90m━━━━━━━━━━━━━━━━━━━━━━━━━━━━━━━━━━━━━\u001b[0m \u001b[32m438.9/438.9 KB\u001b[0m \u001b[31m358.6 kB/s\u001b[0m eta \u001b[36m0:00:00\u001b[0ma \u001b[36m0:00:01\u001b[0m\n",
      "\u001b[?25hRequirement already satisfied: absl-py>=1.0.0 in /Users/dashakaravaieva/opt/anaconda3/lib/python3.9/site-packages (from tf-nightly) (1.0.0)\n",
      "Requirement already satisfied: setuptools in /Users/dashakaravaieva/opt/anaconda3/lib/python3.9/site-packages (from tf-nightly) (58.0.4)\n",
      "Collecting keras-nightly~=2.10.0.dev\n",
      "  Downloading keras_nightly-2.10.0.dev2022050907-py2.py3-none-any.whl (1.6 MB)\n",
      "\u001b[2K     \u001b[90m━━━━━━━━━━━━━━━━━━━━━━━━━━━━━━━━━━━━━━━━\u001b[0m \u001b[32m1.6/1.6 MB\u001b[0m \u001b[31m1.1 MB/s\u001b[0m eta \u001b[36m0:00:00\u001b[0m00:01\u001b[0m00:01\u001b[0m\n",
      "\u001b[?25hRequirement already satisfied: numpy>=1.20 in /Users/dashakaravaieva/opt/anaconda3/lib/python3.9/site-packages (from tf-nightly) (1.22.3)\n",
      "Requirement already satisfied: wrapt>=1.11.0 in /Users/dashakaravaieva/opt/anaconda3/lib/python3.9/site-packages (from tf-nightly) (1.12.1)\n",
      "Requirement already satisfied: h5py>=2.9.0 in /Users/dashakaravaieva/opt/anaconda3/lib/python3.9/site-packages (from tf-nightly) (3.2.1)\n",
      "Collecting tb-nightly~=2.10.0.a\n",
      "  Downloading tb_nightly-2.10.0a20220509-py3-none-any.whl (5.8 MB)\n",
      "\u001b[2K     \u001b[90m━━━━━━━━━━━━━━━━━━━━━━━━━━━━━━━━━━━━━━━━\u001b[0m \u001b[32m5.8/5.8 MB\u001b[0m \u001b[31m655.2 kB/s\u001b[0m eta \u001b[36m0:00:00\u001b[0m00:01\u001b[0m00:01\u001b[0m\n",
      "\u001b[?25hRequirement already satisfied: opt-einsum>=2.3.2 in /Users/dashakaravaieva/opt/anaconda3/lib/python3.9/site-packages (from tf-nightly) (3.3.0)\n",
      "Collecting gast<=0.4.0,>=0.2.1\n",
      "  Downloading gast-0.4.0-py3-none-any.whl (9.8 kB)\n",
      "Requirement already satisfied: wheel<1.0,>=0.23.0 in /Users/dashakaravaieva/opt/anaconda3/lib/python3.9/site-packages (from astunparse>=1.6.0->tf-nightly) (0.37.1)\n",
      "Requirement already satisfied: tensorboard-plugin-wit>=1.6.0 in /Users/dashakaravaieva/opt/anaconda3/lib/python3.9/site-packages (from tb-nightly~=2.10.0.a->tf-nightly) (1.8.1)\n",
      "Requirement already satisfied: google-auth-oauthlib<0.5,>=0.4.1 in /Users/dashakaravaieva/opt/anaconda3/lib/python3.9/site-packages (from tb-nightly~=2.10.0.a->tf-nightly) (0.4.6)\n",
      "Requirement already satisfied: markdown>=2.6.8 in /Users/dashakaravaieva/opt/anaconda3/lib/python3.9/site-packages (from tb-nightly~=2.10.0.a->tf-nightly) (3.3.7)\n",
      "Requirement already satisfied: requests<3,>=2.21.0 in /Users/dashakaravaieva/opt/anaconda3/lib/python3.9/site-packages (from tb-nightly~=2.10.0.a->tf-nightly) (2.26.0)\n",
      "Requirement already satisfied: google-auth<3,>=1.6.3 in /Users/dashakaravaieva/opt/anaconda3/lib/python3.9/site-packages (from tb-nightly~=2.10.0.a->tf-nightly) (2.6.6)\n",
      "Requirement already satisfied: werkzeug>=1.0.1 in /Users/dashakaravaieva/opt/anaconda3/lib/python3.9/site-packages (from tb-nightly~=2.10.0.a->tf-nightly) (2.0.2)\n",
      "Requirement already satisfied: tensorboard-data-server<0.7.0,>=0.6.0 in /Users/dashakaravaieva/opt/anaconda3/lib/python3.9/site-packages (from tb-nightly~=2.10.0.a->tf-nightly) (0.6.1)\n",
      "Requirement already satisfied: pyparsing!=3.0.5,>=2.0.2 in /Users/dashakaravaieva/opt/anaconda3/lib/python3.9/site-packages (from packaging->tf-nightly) (3.0.4)\n",
      "Requirement already satisfied: cachetools<6.0,>=2.0.0 in /Users/dashakaravaieva/opt/anaconda3/lib/python3.9/site-packages (from google-auth<3,>=1.6.3->tb-nightly~=2.10.0.a->tf-nightly) (4.2.4)\n",
      "Requirement already satisfied: rsa<5,>=3.1.4 in /Users/dashakaravaieva/opt/anaconda3/lib/python3.9/site-packages (from google-auth<3,>=1.6.3->tb-nightly~=2.10.0.a->tf-nightly) (4.8)\n",
      "Requirement already satisfied: pyasn1-modules>=0.2.1 in /Users/dashakaravaieva/opt/anaconda3/lib/python3.9/site-packages (from google-auth<3,>=1.6.3->tb-nightly~=2.10.0.a->tf-nightly) (0.2.8)\n",
      "Requirement already satisfied: requests-oauthlib>=0.7.0 in /Users/dashakaravaieva/opt/anaconda3/lib/python3.9/site-packages (from google-auth-oauthlib<0.5,>=0.4.1->tb-nightly~=2.10.0.a->tf-nightly) (1.3.1)\n",
      "Requirement already satisfied: importlib-metadata>=4.4 in /Users/dashakaravaieva/opt/anaconda3/lib/python3.9/site-packages (from markdown>=2.6.8->tb-nightly~=2.10.0.a->tf-nightly) (4.8.1)\n",
      "Requirement already satisfied: urllib3<1.27,>=1.21.1 in /Users/dashakaravaieva/opt/anaconda3/lib/python3.9/site-packages (from requests<3,>=2.21.0->tb-nightly~=2.10.0.a->tf-nightly) (1.26.7)\n",
      "Requirement already satisfied: idna<4,>=2.5 in /Users/dashakaravaieva/opt/anaconda3/lib/python3.9/site-packages (from requests<3,>=2.21.0->tb-nightly~=2.10.0.a->tf-nightly) (3.2)\n",
      "Requirement already satisfied: certifi>=2017.4.17 in /Users/dashakaravaieva/opt/anaconda3/lib/python3.9/site-packages (from requests<3,>=2.21.0->tb-nightly~=2.10.0.a->tf-nightly) (2021.10.8)\n",
      "Requirement already satisfied: charset-normalizer~=2.0.0 in /Users/dashakaravaieva/opt/anaconda3/lib/python3.9/site-packages (from requests<3,>=2.21.0->tb-nightly~=2.10.0.a->tf-nightly) (2.0.4)\n",
      "Requirement already satisfied: zipp>=0.5 in /Users/dashakaravaieva/opt/anaconda3/lib/python3.9/site-packages (from importlib-metadata>=4.4->markdown>=2.6.8->tb-nightly~=2.10.0.a->tf-nightly) (3.6.0)\n",
      "Requirement already satisfied: pyasn1<0.5.0,>=0.4.6 in /Users/dashakaravaieva/opt/anaconda3/lib/python3.9/site-packages (from pyasn1-modules>=0.2.1->google-auth<3,>=1.6.3->tb-nightly~=2.10.0.a->tf-nightly) (0.4.8)\n",
      "Requirement already satisfied: oauthlib>=3.0.0 in /Users/dashakaravaieva/opt/anaconda3/lib/python3.9/site-packages (from requests-oauthlib>=0.7.0->google-auth-oauthlib<0.5,>=0.4.1->tb-nightly~=2.10.0.a->tf-nightly) (3.2.0)\n",
      "Installing collected packages: keras-nightly, flatbuffers, tf-estimator-nightly, gast, tb-nightly, tf-nightly\n",
      "  Attempting uninstall: flatbuffers\n",
      "    Found existing installation: flatbuffers 2.0\n",
      "    Uninstalling flatbuffers-2.0:\n",
      "      Successfully uninstalled flatbuffers-2.0\n",
      "  Attempting uninstall: tf-estimator-nightly\n",
      "    Found existing installation: tf-estimator-nightly 2.8.0.dev2021122109\n",
      "    Uninstalling tf-estimator-nightly-2.8.0.dev2021122109:\n",
      "      Successfully uninstalled tf-estimator-nightly-2.8.0.dev2021122109\n",
      "  Attempting uninstall: gast\n",
      "    Found existing installation: gast 0.5.3\n",
      "    Uninstalling gast-0.5.3:\n",
      "      Successfully uninstalled gast-0.5.3\n"
     ]
    },
    {
     "name": "stdout",
     "output_type": "stream",
     "text": [
      "\u001b[31mERROR: pip's dependency resolver does not currently take into account all the packages that are installed. This behaviour is the source of the following dependency conflicts.\r\n",
      "tensorflow 2.8.0 requires tf-estimator-nightly==2.8.0.dev2021122109, but you have tf-estimator-nightly 2.10.0.dev2022050908 which is incompatible.\u001b[0m\u001b[31m\r\n",
      "\u001b[0mSuccessfully installed flatbuffers-1.12 gast-0.4.0 keras-nightly-2.10.0.dev2022050907 tb-nightly-2.10.0a20220509 tf-estimator-nightly-2.10.0.dev2022050908 tf-nightly-2.10.0.dev20220509\r\n"
     ]
    }
   ],
   "source": [
    "!pip install tf-nightly"
   ]
  },
  {
   "cell_type": "code",
   "execution_count": null,
   "id": "4df85a1a",
   "metadata": {},
   "outputs": [],
   "source": []
  }
 ],
 "metadata": {
  "kernelspec": {
   "display_name": "Python 3 (ipykernel)",
   "language": "python",
   "name": "python3"
  },
  "language_info": {
   "codemirror_mode": {
    "name": "ipython",
    "version": 3
   },
   "file_extension": ".py",
   "mimetype": "text/x-python",
   "name": "python",
   "nbconvert_exporter": "python",
   "pygments_lexer": "ipython3",
   "version": "3.9.7"
  }
 },
 "nbformat": 4,
 "nbformat_minor": 5
}
